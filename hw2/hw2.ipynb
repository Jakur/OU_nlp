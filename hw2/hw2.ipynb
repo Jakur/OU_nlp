{
 "cells": [
  {
   "cell_type": "code",
   "execution_count": 108,
   "metadata": {},
   "outputs": [],
   "source": [
    "from datasets import get_dataset_config_names, load_dataset\n",
    "import gensim\n",
    "import gensim.downloader\n",
    "import gensim.parsing.preprocessing as pre\n",
    "from gensim.models import KeyedVectors\n",
    "from gensim import corpora\n",
    "import polars as pl\n",
    "import numpy as np\n",
    "import pandas as pd\n",
    "from wefe.query import Query\n",
    "from wefe.word_embedding_model import WordEmbeddingModel\n",
    "from wefe.metrics.WEAT import WEAT\n",
    "from wefe.utils import plot_queries_results, run_queries\n",
    "from wefe.datasets import load_weat\n",
    "import sklearn\n",
    "from sklearn.feature_extraction.text import TfidfVectorizer\n",
    "\n",
    "TRAIN_EMBED = False"
   ]
  },
  {
   "cell_type": "markdown",
   "metadata": {},
   "source": [
    "## Train Embeddings"
   ]
  },
  {
   "cell_type": "code",
   "execution_count": 2,
   "metadata": {},
   "outputs": [
    {
     "name": "stdout",
     "output_type": "stream",
     "text": [
      "['wikitext-103-v1', 'wikitext-2-v1', 'wikitext-103-raw-v1', 'wikitext-2-raw-v1']\n"
     ]
    }
   ],
   "source": [
    "configs = get_dataset_config_names(\"wikitext\")\n",
    "print(configs)"
   ]
  },
  {
   "cell_type": "code",
   "execution_count": 3,
   "metadata": {},
   "outputs": [],
   "source": [
    "data = load_dataset(\"wikitext\", \"wikitext-103-v1\")"
   ]
  },
  {
   "cell_type": "code",
   "execution_count": 4,
   "metadata": {},
   "outputs": [
    {
     "data": {
      "text/plain": [
       "Dataset({\n",
       "    features: ['text'],\n",
       "    num_rows: 1801350\n",
       "})"
      ]
     },
     "execution_count": 4,
     "metadata": {},
     "output_type": "execute_result"
    }
   ],
   "source": [
    "data[\"train\"]"
   ]
  },
  {
   "cell_type": "code",
   "execution_count": 5,
   "metadata": {},
   "outputs": [
    {
     "data": {
      "text/plain": [
       "\" It met with positive sales in Japan , and was praised by both Japanese and western critics . After release , it received downloadable content , along with an expanded edition in November of that year . It was also adapted into manga and an original video animation series . Due to low sales of Valkyria Chronicles II , Valkyria Chronicles III was not localized , but a fan translation compatible with the game 's expanded edition was released in 2014 . Media.Vision would return to the franchise with the development of Valkyria : Azure Revolution for the PlayStation 4 . \\n\""
      ]
     },
     "execution_count": 5,
     "metadata": {},
     "output_type": "execute_result"
    }
   ],
   "source": [
    "data[\"train\"][\"text\"][5]"
   ]
  },
  {
   "cell_type": "code",
   "execution_count": 6,
   "metadata": {},
   "outputs": [],
   "source": [
    "g_news = gensim.downloader.load('word2vec-google-news-300')"
   ]
  },
  {
   "cell_type": "code",
   "execution_count": 7,
   "metadata": {},
   "outputs": [],
   "source": [
    "twitter = gensim.downloader.load(\"glove-twitter-50\")"
   ]
  },
  {
   "cell_type": "code",
   "execution_count": 8,
   "metadata": {},
   "outputs": [],
   "source": [
    "def compare_embeddings(wv):\n",
    "    # Given examples\n",
    "    output = []\n",
    "    x0 = wv[\"piano\"]\n",
    "    output.append(x0)\n",
    "    x1 = wv[\"cherry\"] - wv[\"michigan\"] + wv[\"georgia\"]\n",
    "    output.append(x1)\n",
    "    # Classic\n",
    "    x2 = wv[\"king\"] - wv[\"man\"] + wv[\"woman\"]\n",
    "    output.append(x2)\n",
    "    x3 = wv[\"zoo\"] + wv[\"pet\"]\n",
    "    output.append(x3)\n",
    "    x4 = wv[\"game\"] - wv[\"computer\"]\n",
    "    output.append(x4)\n",
    "    x5 = wv[\"orchestra\"] - wv[\"flute\"] + wv[\"saxophone\"]\n",
    "    output.append(x5)\n",
    "    x6 = wv[\"dinosaur\"] + wv[\"fly\"]\n",
    "    output.append(x6)\n",
    "    x7 = wv[\"book\"] + wv[\"digital\"]\n",
    "    output.append(x7)\n",
    "    output = [wv.most_similar(x) for x in output]\n",
    "    return output"
   ]
  },
  {
   "cell_type": "code",
   "execution_count": 9,
   "metadata": {},
   "outputs": [
    {
     "data": {
      "text/plain": [
       "1193514"
      ]
     },
     "execution_count": 9,
     "metadata": {},
     "output_type": "execute_result"
    }
   ],
   "source": [
    "len(twitter)"
   ]
  },
  {
   "cell_type": "code",
   "execution_count": 10,
   "metadata": {},
   "outputs": [
    {
     "data": {
      "text/plain": [
       "3000000"
      ]
     },
     "execution_count": 10,
     "metadata": {},
     "output_type": "execute_result"
    }
   ],
   "source": [
    "len(g_news)"
   ]
  },
  {
   "cell_type": "code",
   "execution_count": 11,
   "metadata": {},
   "outputs": [
    {
     "data": {
      "text/plain": [
       "[('digital', 0.7597694396972656),\n",
       " ('book', 0.7047815918922424),\n",
       " ('books', 0.6316168308258057),\n",
       " ('eBook', 0.6188921332359314),\n",
       " ('hardcover_paperback', 0.6001059412956238),\n",
       " ('ebook', 0.5957868695259094),\n",
       " ('downloadable_audiobook', 0.5945138931274414),\n",
       " ('ebooks', 0.5858449339866638),\n",
       " ('hardbound_edition', 0.5780873894691467),\n",
       " ('eBooks', 0.5696583390235901)]"
      ]
     },
     "execution_count": 11,
     "metadata": {},
     "output_type": "execute_result"
    }
   ],
   "source": [
    "compare_embeddings(g_news)[-1]"
   ]
  },
  {
   "cell_type": "code",
   "execution_count": 140,
   "metadata": {},
   "outputs": [],
   "source": [
    "preprocess = [pre.strip_multiple_whitespaces, pre.lower_to_unicode, pre.strip_punctuation, pre.strip_tags]\n",
    "if TRAIN_EMBED:\n",
    "    sentences = [pre.preprocess_string(x[\"text\"], preprocess) for x in data[\"train\"] if len(x[\"text\"]) > 3]\n",
    "    cbow = gensim.models.Word2Vec(sentences, vector_size=64, workers=8, epochs=10)\n",
    "    cbow.wv.save(\"cbow.wordvectors\")\n",
    "else:\n",
    "    cbow = KeyedVectors.load(\"cbow.wordvectors\")"
   ]
  },
  {
   "cell_type": "code",
   "execution_count": 13,
   "metadata": {},
   "outputs": [],
   "source": [
    "if TRAIN_EMBED:\n",
    "    skip = gensim.models.Word2Vec(sentences, vector_size=64, workers=8, epochs=10, sg=1)\n",
    "    skip.wv.save(\"skip.wordvectors\")\n",
    "else:\n",
    "    skip = KeyedVectors.load(\"skip.wordvectors\")"
   ]
  },
  {
   "cell_type": "code",
   "execution_count": 14,
   "metadata": {},
   "outputs": [],
   "source": [
    "if TRAIN_EMBED:\n",
    "    skip = skip.wv\n",
    "    cbow = cbow.wv    "
   ]
  },
  {
   "cell_type": "code",
   "execution_count": 15,
   "metadata": {},
   "outputs": [
    {
     "data": {
      "text/html": [
       "<div><style>\n",
       ".dataframe > thead > tr > th,\n",
       ".dataframe > tbody > tr > td {\n",
       "  text-align: right;\n",
       "  white-space: pre-wrap;\n",
       "}\n",
       "</style>\n",
       "<small>shape: (5, 3)</small><table border=\"1\" class=\"dataframe\"><thead><tr><th>method</th><th>query</th><th>nearest</th></tr><tr><td>str</td><td>str</td><td>str</td></tr></thead><tbody><tr><td>&quot;cbow&quot;</td><td>&quot;piano&quot;</td><td>&quot;piano,violin,c…</td></tr><tr><td>&quot;cbow&quot;</td><td>&quot;cherry - michi…</td><td>&quot;ginger,cherry,…</td></tr><tr><td>&quot;cbow&quot;</td><td>&quot;king - man + w…</td><td>&quot;queen,king,emp…</td></tr><tr><td>&quot;cbow&quot;</td><td>&quot;zoo + pet&quot;</td><td>&quot;pet,zoo,goldfi…</td></tr><tr><td>&quot;cbow&quot;</td><td>&quot;game - compute…</td><td>&quot;season,game,ma…</td></tr></tbody></table></div>"
      ],
      "text/plain": [
       "shape: (5, 3)\n",
       "┌────────┬─────────────────────────────┬───────────────────────────────────┐\n",
       "│ method ┆ query                       ┆ nearest                           │\n",
       "│ ---    ┆ ---                         ┆ ---                               │\n",
       "│ str    ┆ str                         ┆ str                               │\n",
       "╞════════╪═════════════════════════════╪═══════════════════════════════════╡\n",
       "│ cbow   ┆ piano                       ┆ piano,violin,cello,harpsichord,m… │\n",
       "│ cbow   ┆ cherry - michigan + georgia ┆ ginger,cherry,howlin,poppin,meat… │\n",
       "│ cbow   ┆ king - man + woman          ┆ queen,king,empress,monarch,dowag… │\n",
       "│ cbow   ┆ zoo + pet                   ┆ pet,zoo,goldfish,aquarium,cat,sa… │\n",
       "│ cbow   ┆ game - computer             ┆ season,game,matchup,postseason,i… │\n",
       "└────────┴─────────────────────────────┴───────────────────────────────────┘"
      ]
     },
     "execution_count": 15,
     "metadata": {},
     "output_type": "execute_result"
    }
   ],
   "source": [
    "queries = [\"piano\", \"cherry - michigan + georgia\", \"king - man + woman\", \"zoo + pet\", \"game - computer\", \"orchestra - flute + saxophone\", \n",
    "           \"dinosaur + fly\", \"book + digital\"]\n",
    "records = []\n",
    "# emb = compare_embeddings(skip.wv)\n",
    "methods = {\"cbow\": cbow, \"skip\": skip, \n",
    "           \"twitter\": twitter, \"g_news\": g_news}\n",
    "\n",
    "for method, wv in methods.items():\n",
    "    emb = compare_embeddings(wv)\n",
    "    emb = [\",\".join([x[0] for x in list]) for list in emb]\n",
    "    for k, v in zip(queries, emb):\n",
    "        record = {\"method\": method, \"query\": k, \"nearest\": v}\n",
    "        records.append(record)\n",
    "\n",
    "df = pl.from_records(records)\n",
    "df.head()"
   ]
  },
  {
   "cell_type": "code",
   "execution_count": 16,
   "metadata": {},
   "outputs": [],
   "source": [
    "with open(\"data1.tex\", \"w\") as f:\n",
    "    f.write(r\"\\begin{lstlisting}\")\n",
    "    f.write(\"\\n\")\n",
    "    for group in df.group_by(pl.col(\"query\")):\n",
    "        query = group[0]\n",
    "        f.write(f\"{query}\\n\")\n",
    "        for row in group[1].select([\"method\", \"nearest\"]).rows():\n",
    "            if len(row[1]) > 60:\n",
    "                first = \" \".join(row[1].split(\",\")[0:5])\n",
    "                second = \" \".join(row[1].split(\",\")[5:])\n",
    "                f.write(f\"{row[0]}: {first}\\n\\t\\t{second}\\n\")\n",
    "            else:\n",
    "                f.write(f\"{row[0]}: {row[1]}\\n\")\n",
    "        f.write(\"\\n\")\n",
    "    f.write(r\"\\end{lstlisting}\")"
   ]
  },
  {
   "cell_type": "code",
   "execution_count": 50,
   "metadata": {},
   "outputs": [],
   "source": [
    "def weat_culture_query():\n",
    "    target_sets = [['asian', 'Chinese', 'Japanese'], ['white', 'European', 'American']]\n",
    "    target_sets_names = [\"Asian\", \"Western\"]\n",
    "    attribute_sets = [[\"piano\", \"violin\", \"prodigy\"], [\"sport\", \"sports\", \"athlete\"]]\n",
    "    attribute_sets_names = [\"Music\", \"Sports\"]\n",
    "    query = Query(target_sets, attribute_sets, target_sets_names,\n",
    "                attribute_sets_names)\n",
    "    return query"
   ]
  },
  {
   "cell_type": "markdown",
   "metadata": {},
   "source": [
    "### WEAT experiments"
   ]
  },
  {
   "cell_type": "code",
   "execution_count": 64,
   "metadata": {},
   "outputs": [],
   "source": [
    "# WEAT example experiments + two custom experiments\n",
    "weat_wordset = load_weat()\n",
    "\n",
    "# Define the 10 Queries:\n",
    "queries = [\n",
    "    # Flowers vs Insects wrt Pleasant (5) and Unpleasant (5)\n",
    "    Query([weat_wordset['flowers'], weat_wordset['insects']],\n",
    "          [weat_wordset['pleasant_5'], weat_wordset['unpleasant_5']],\n",
    "          ['Flowers', 'Insects'], ['Pleasant(5)', 'Unpleasant(5)']),\n",
    "\n",
    "    # Instruments vs Weapons wrt Pleasant (5) and Unpleasant (5)\n",
    "    Query([weat_wordset['instruments'], weat_wordset['weapons']],\n",
    "          [weat_wordset['pleasant_5'], weat_wordset['unpleasant_5']],\n",
    "          ['Instruments', 'Weapons'], ['Pleasant(5)', 'Unpleasant(5)']),\n",
    "\n",
    "    # European american names(5) vs African american names(5)\n",
    "    # wrt Pleasant (5) and Unpleasant (5)\n",
    "    Query([\n",
    "        weat_wordset['european_american_names_5'],\n",
    "        weat_wordset['african_american_names_5']\n",
    "    ], [weat_wordset['pleasant_5'], weat_wordset['unpleasant_5']],\n",
    "          ['European american names(5)', 'African american names(5)'],\n",
    "          ['Pleasant(5)', 'Unpleasant(5)']),\n",
    "\n",
    "    # European american names(7) vs African american names(7)\n",
    "    # wrt Pleasant (5) and Unpleasant (5)\n",
    "    Query([\n",
    "        weat_wordset['european_american_names_7'],\n",
    "        weat_wordset['african_american_names_7']\n",
    "    ], [weat_wordset['pleasant_5'], weat_wordset['unpleasant_5']],\n",
    "          ['European american names(7)', 'African american names(7)'],\n",
    "          ['Pleasant(5)', 'Unpleasant(5)']),\n",
    "\n",
    "    # European american names(7) vs African american names(7)\n",
    "    # wrt Pleasant (9) and Unpleasant (9)\n",
    "    Query([\n",
    "        weat_wordset['european_american_names_7'],\n",
    "        weat_wordset['african_american_names_7']\n",
    "    ], [weat_wordset['pleasant_9'], weat_wordset['unpleasant_9']],\n",
    "          ['European american names(7)', 'African american names(7)'],\n",
    "          ['Pleasant(9)', 'Unpleasant(9)']),\n",
    "\n",
    "    # Male and female names wrt Career and family\n",
    "    Query([weat_wordset['male_names'], weat_wordset['female_names']],\n",
    "          [weat_wordset['career'], weat_wordset['family']],\n",
    "          ['Male names', 'Female names'], ['Career', 'Family']),\n",
    "\n",
    "    # Math and arts wrt male and female terms\n",
    "    Query([weat_wordset['math'], weat_wordset['arts']],\n",
    "          [weat_wordset['male_terms'], weat_wordset['female_terms']],\n",
    "          ['Math', 'Arts'], ['Male terms', 'Female terms']),\n",
    "\n",
    "    # Science and arts wrt male and female terms\n",
    "    Query([weat_wordset['science'], weat_wordset['arts_2']],\n",
    "          [weat_wordset['male_terms'], weat_wordset['female_terms']],\n",
    "          ['Science', 'Arts 2'], ['Male terms', 'Female terms']),\n",
    "\n",
    "    # Mental and Physical disease wrt Temporary and Permanent\n",
    "    Query([weat_wordset['mental_disease'], weat_wordset['physical_disease']],\n",
    "          [weat_wordset['temporary'], weat_wordset['permanent']],\n",
    "          ['Mental disease', 'Physical disease'], ['Temporary', 'Permanent']),\n",
    "\n",
    "    # Young people names and Old people names disease wrt Pleasant(9) and Unpleasant(9)\n",
    "    Query(\n",
    "        [weat_wordset['young_people_names'], weat_wordset['old_people_names']],\n",
    "        [weat_wordset['pleasant_9'], weat_wordset['unpleasant_9']],\n",
    "        ['Young names', 'Old names'],\n",
    "        ['Pleasant(9)', 'Unpleasant(9)']), weat_culture_query(),\n",
    "      Query([weat_wordset[\"male_names\"], weat_wordset[\"female_names\"]], \n",
    "            [[\"rpg\", \"tabletop\", \"card\"], [\"knit\", \"yarn\", \"crochet\"]],\n",
    "            [\"Male\", \"Female\"], [\"Tabletop Games\", \"Textiles\"])\n",
    "]\n",
    "\n",
    "models = [WordEmbeddingModel(wv, name) for name, wv in methods.items()]"
   ]
  },
  {
   "cell_type": "code",
   "execution_count": 65,
   "metadata": {},
   "outputs": [
    {
     "data": {
      "text/html": [
       "<div>\n",
       "<style scoped>\n",
       "    .dataframe tbody tr th:only-of-type {\n",
       "        vertical-align: middle;\n",
       "    }\n",
       "\n",
       "    .dataframe tbody tr th {\n",
       "        vertical-align: top;\n",
       "    }\n",
       "\n",
       "    .dataframe thead th {\n",
       "        text-align: right;\n",
       "    }\n",
       "</style>\n",
       "<table border=\"1\" class=\"dataframe\">\n",
       "  <thead>\n",
       "    <tr style=\"text-align: right;\">\n",
       "      <th>model_name</th>\n",
       "      <th>cbow</th>\n",
       "      <th>skip</th>\n",
       "      <th>twitter</th>\n",
       "      <th>g_news</th>\n",
       "    </tr>\n",
       "    <tr>\n",
       "      <th>query_name</th>\n",
       "      <th></th>\n",
       "      <th></th>\n",
       "      <th></th>\n",
       "      <th></th>\n",
       "    </tr>\n",
       "  </thead>\n",
       "  <tbody>\n",
       "    <tr>\n",
       "      <th>Flowers and Insects wrt Pleasant(5) and Unpleasant(5)</th>\n",
       "      <td>2.77</td>\n",
       "      <td>2.27</td>\n",
       "      <td>3.06</td>\n",
       "      <td>1.41</td>\n",
       "    </tr>\n",
       "    <tr>\n",
       "      <th>Instruments and Weapons wrt Pleasant(5) and Unpleasant(5)</th>\n",
       "      <td>4.63</td>\n",
       "      <td>3.48</td>\n",
       "      <td>2.61</td>\n",
       "      <td>1.75</td>\n",
       "    </tr>\n",
       "    <tr>\n",
       "      <th>European american names(5) and African american names(5) wrt Pleasant(5) and Unpleasant(5)</th>\n",
       "      <td>1.26</td>\n",
       "      <td>0.98</td>\n",
       "      <td>2.56</td>\n",
       "      <td>0.45</td>\n",
       "    </tr>\n",
       "    <tr>\n",
       "      <th>European american names(7) and African american names(7) wrt Pleasant(5) and Unpleasant(5)</th>\n",
       "      <td>0.36</td>\n",
       "      <td>0.30</td>\n",
       "      <td>1.43</td>\n",
       "      <td>0.45</td>\n",
       "    </tr>\n",
       "    <tr>\n",
       "      <th>European american names(7) and African american names(7) wrt Pleasant(9) and Unpleasant(9)</th>\n",
       "      <td>0.37</td>\n",
       "      <td>0.25</td>\n",
       "      <td>1.18</td>\n",
       "      <td>0.34</td>\n",
       "    </tr>\n",
       "    <tr>\n",
       "      <th>Male names and Female names wrt Career and Family</th>\n",
       "      <td>2.67</td>\n",
       "      <td>2.06</td>\n",
       "      <td>0.74</td>\n",
       "      <td>1.25</td>\n",
       "    </tr>\n",
       "    <tr>\n",
       "      <th>Math and Arts wrt Male terms and Female terms</th>\n",
       "      <td>0.97</td>\n",
       "      <td>0.92</td>\n",
       "      <td>-0.21</td>\n",
       "      <td>0.23</td>\n",
       "    </tr>\n",
       "    <tr>\n",
       "      <th>Science and Arts 2 wrt Male terms and Female terms</th>\n",
       "      <td>0.70</td>\n",
       "      <td>0.38</td>\n",
       "      <td>-0.18</td>\n",
       "      <td>0.29</td>\n",
       "    </tr>\n",
       "    <tr>\n",
       "      <th>Mental disease and Physical disease wrt Temporary and Permanent</th>\n",
       "      <td>0.33</td>\n",
       "      <td>0.54</td>\n",
       "      <td>0.36</td>\n",
       "      <td>0.34</td>\n",
       "    </tr>\n",
       "    <tr>\n",
       "      <th>Young names and Old names wrt Pleasant(9) and Unpleasant(9)</th>\n",
       "      <td>-0.32</td>\n",
       "      <td>-0.23</td>\n",
       "      <td>0.35</td>\n",
       "      <td>-0.05</td>\n",
       "    </tr>\n",
       "    <tr>\n",
       "      <th>Asian and Western wrt Music and Sports</th>\n",
       "      <td>0.01</td>\n",
       "      <td>-0.07</td>\n",
       "      <td>0.42</td>\n",
       "      <td>0.13</td>\n",
       "    </tr>\n",
       "    <tr>\n",
       "      <th>Male and Female wrt Tabletop Games and Textiles</th>\n",
       "      <td>1.15</td>\n",
       "      <td>0.72</td>\n",
       "      <td>1.58</td>\n",
       "      <td>0.73</td>\n",
       "    </tr>\n",
       "  </tbody>\n",
       "</table>\n",
       "</div>"
      ],
      "text/plain": [
       "model_name                                          cbow  skip  twitter  \\\n",
       "query_name                                                                \n",
       "Flowers and Insects wrt Pleasant(5) and Unpleas...  2.77  2.27     3.06   \n",
       "Instruments and Weapons wrt Pleasant(5) and Unp...  4.63  3.48     2.61   \n",
       "European american names(5) and African american...  1.26  0.98     2.56   \n",
       "European american names(7) and African american...  0.36  0.30     1.43   \n",
       "European american names(7) and African american...  0.37  0.25     1.18   \n",
       "Male names and Female names wrt Career and Family   2.67  2.06     0.74   \n",
       "Math and Arts wrt Male terms and Female terms       0.97  0.92    -0.21   \n",
       "Science and Arts 2 wrt Male terms and Female terms  0.70  0.38    -0.18   \n",
       "Mental disease and Physical disease wrt Tempora...  0.33  0.54     0.36   \n",
       "Young names and Old names wrt Pleasant(9) and U... -0.32 -0.23     0.35   \n",
       "Asian and Western wrt Music and Sports              0.01 -0.07     0.42   \n",
       "Male and Female wrt Tabletop Games and Textiles     1.15  0.72     1.58   \n",
       "\n",
       "model_name                                          g_news  \n",
       "query_name                                                  \n",
       "Flowers and Insects wrt Pleasant(5) and Unpleas...    1.41  \n",
       "Instruments and Weapons wrt Pleasant(5) and Unp...    1.75  \n",
       "European american names(5) and African american...    0.45  \n",
       "European american names(7) and African american...    0.45  \n",
       "European american names(7) and African american...    0.34  \n",
       "Male names and Female names wrt Career and Family     1.25  \n",
       "Math and Arts wrt Male terms and Female terms         0.23  \n",
       "Science and Arts 2 wrt Male terms and Female terms    0.29  \n",
       "Mental disease and Physical disease wrt Tempora...    0.34  \n",
       "Young names and Old names wrt Pleasant(9) and U...   -0.05  \n",
       "Asian and Western wrt Music and Sports                0.13  \n",
       "Male and Female wrt Tabletop Games and Textiles       0.73  "
      ]
     },
     "execution_count": 65,
     "metadata": {},
     "output_type": "execute_result"
    }
   ],
   "source": [
    "metric_params = {\n",
    "    \"preprocessors\": [{}, {\"lowercase\": True}],\n",
    "}\n",
    "wefe_results = run_queries(WEAT,\n",
    "                      queries,\n",
    "                      models,\n",
    "                      metric_params=metric_params, warn_not_found_words=False).T.round(2)\n",
    "\n",
    "# joined_results = pd.concat([wefe_results, original_results], axis=1)\n",
    "# joined_results = joined_results.iloc[:, [2,0,3,1]] # reorder the columns\n",
    "wefe_results"
   ]
  },
  {
   "cell_type": "code",
   "execution_count": 66,
   "metadata": {},
   "outputs": [
    {
     "name": "stderr",
     "output_type": "stream",
     "text": [
      "/tmp/ipykernel_4063/3337350266.py:1: FutureWarning: In future versions `DataFrame.to_latex` is expected to utilise the base implementation of `Styler.to_latex` for formatting and rendering. The arguments signature may therefore change. It is recommended instead to use `DataFrame.style.to_latex` which also contains additional functionality.\n",
      "  wefe_results.to_latex(\"table2.tex\", index=True)\n"
     ]
    }
   ],
   "source": [
    "wefe_results.to_latex(\"table2.tex\", index=True)"
   ]
  },
  {
   "cell_type": "code",
   "execution_count": 67,
   "metadata": {},
   "outputs": [
    {
     "name": "stdout",
     "output_type": "stream",
     "text": [
      "cbow: 1.30\n",
      "skip: 1.02\n",
      "twitter: 1.22\n",
      "g_news: 0.62\n"
     ]
    }
   ],
   "source": [
    "for col in methods:\n",
    "    print(f\"{col}: {wefe_results[col].abs().mean():.2f}\")"
   ]
  },
  {
   "cell_type": "code",
   "execution_count": 86,
   "metadata": {},
   "outputs": [
    {
     "data": {
      "application/vnd.plotly.v1+json": {
       "config": {
        "plotlyServerURL": "https://plot.ly"
       },
       "data": [
        {
         "alignmentgroup": "True",
         "hovertemplate": "Word Embedding Model=Flowers and Insects wrt Pleasant(5) and Unpleasant(5)<br>query_name=%{x}<br>value=%{y}<extra></extra>",
         "legendgroup": "Flowers and Insects wrt Pleasant(5) and Unpleasant(5)",
         "marker": {
          "color": "#636efa",
          "pattern": {
           "shape": ""
          }
         },
         "name": "Flowers and Insects wrt Pleasant(5) and Unpleasant(5)",
         "offsetgroup": "Flowers and Insects wrt Pleasant(5) and Unpleasant(5)",
         "orientation": "v",
         "showlegend": true,
         "textposition": "auto",
         "type": "bar",
         "x": [
          "cbow",
          "skip",
          "twitter",
          "g_news"
         ],
         "xaxis": "x",
         "y": [
          2.77,
          2.27,
          3.06,
          1.41
         ],
         "yaxis": "y"
        },
        {
         "alignmentgroup": "True",
         "hovertemplate": "Word Embedding Model=Instruments and Weapons wrt Pleasant(5) and Unpleasant(5)<br>query_name=%{x}<br>value=%{y}<extra></extra>",
         "legendgroup": "Instruments and Weapons wrt Pleasant(5) and Unpleasant(5)",
         "marker": {
          "color": "#EF553B",
          "pattern": {
           "shape": ""
          }
         },
         "name": "Instruments and Weapons wrt Pleasant(5) and Unpleasant(5)",
         "offsetgroup": "Instruments and Weapons wrt Pleasant(5) and Unpleasant(5)",
         "orientation": "v",
         "showlegend": true,
         "textposition": "auto",
         "type": "bar",
         "x": [
          "cbow",
          "skip",
          "twitter",
          "g_news"
         ],
         "xaxis": "x",
         "y": [
          4.63,
          3.48,
          2.61,
          1.75
         ],
         "yaxis": "y"
        },
        {
         "alignmentgroup": "True",
         "hovertemplate": "Word Embedding Model=European american names(5) and African american names(5) wrt Pleasant(5) and Unpleasant(5)<br>query_name=%{x}<br>value=%{y}<extra></extra>",
         "legendgroup": "European american names(5) and African american names(5) wrt Pleasant(5) and Unpleasant(5)",
         "marker": {
          "color": "#00cc96",
          "pattern": {
           "shape": ""
          }
         },
         "name": "European american names(5) and African american names(5) wrt Pleasant(5) and Unpleasant(5)",
         "offsetgroup": "European american names(5) and African american names(5) wrt Pleasant(5) and Unpleasant(5)",
         "orientation": "v",
         "showlegend": true,
         "textposition": "auto",
         "type": "bar",
         "x": [
          "cbow",
          "skip",
          "twitter",
          "g_news"
         ],
         "xaxis": "x",
         "y": [
          1.26,
          0.98,
          2.56,
          0.45
         ],
         "yaxis": "y"
        },
        {
         "alignmentgroup": "True",
         "hovertemplate": "Word Embedding Model=European american names(7) and African american names(7) wrt Pleasant(5) and Unpleasant(5)<br>query_name=%{x}<br>value=%{y}<extra></extra>",
         "legendgroup": "European american names(7) and African american names(7) wrt Pleasant(5) and Unpleasant(5)",
         "marker": {
          "color": "#ab63fa",
          "pattern": {
           "shape": ""
          }
         },
         "name": "European american names(7) and African american names(7) wrt Pleasant(5) and Unpleasant(5)",
         "offsetgroup": "European american names(7) and African american names(7) wrt Pleasant(5) and Unpleasant(5)",
         "orientation": "v",
         "showlegend": true,
         "textposition": "auto",
         "type": "bar",
         "x": [
          "cbow",
          "skip",
          "twitter",
          "g_news"
         ],
         "xaxis": "x",
         "y": [
          0.36,
          0.3,
          1.43,
          0.45
         ],
         "yaxis": "y"
        },
        {
         "alignmentgroup": "True",
         "hovertemplate": "Word Embedding Model=European american names(7) and African american names(7) wrt Pleasant(9) and Unpleasant(9)<br>query_name=%{x}<br>value=%{y}<extra></extra>",
         "legendgroup": "European american names(7) and African american names(7) wrt Pleasant(9) and Unpleasant(9)",
         "marker": {
          "color": "#FFA15A",
          "pattern": {
           "shape": ""
          }
         },
         "name": "European american names(7) and African american names(7) wrt Pleasant(9) and Unpleasant(9)",
         "offsetgroup": "European american names(7) and African american names(7) wrt Pleasant(9) and Unpleasant(9)",
         "orientation": "v",
         "showlegend": true,
         "textposition": "auto",
         "type": "bar",
         "x": [
          "cbow",
          "skip",
          "twitter",
          "g_news"
         ],
         "xaxis": "x",
         "y": [
          0.37,
          0.25,
          1.18,
          0.34
         ],
         "yaxis": "y"
        },
        {
         "alignmentgroup": "True",
         "hovertemplate": "Word Embedding Model=Male names and Female names wrt Career and Family<br>query_name=%{x}<br>value=%{y}<extra></extra>",
         "legendgroup": "Male names and Female names wrt Career and Family",
         "marker": {
          "color": "#19d3f3",
          "pattern": {
           "shape": ""
          }
         },
         "name": "Male names and Female names wrt Career and Family",
         "offsetgroup": "Male names and Female names wrt Career and Family",
         "orientation": "v",
         "showlegend": true,
         "textposition": "auto",
         "type": "bar",
         "x": [
          "cbow",
          "skip",
          "twitter",
          "g_news"
         ],
         "xaxis": "x",
         "y": [
          2.67,
          2.06,
          0.74,
          1.25
         ],
         "yaxis": "y"
        },
        {
         "alignmentgroup": "True",
         "hovertemplate": "Word Embedding Model=Math and Arts wrt Male terms and Female terms<br>query_name=%{x}<br>value=%{y}<extra></extra>",
         "legendgroup": "Math and Arts wrt Male terms and Female terms",
         "marker": {
          "color": "#FF6692",
          "pattern": {
           "shape": ""
          }
         },
         "name": "Math and Arts wrt Male terms and Female terms",
         "offsetgroup": "Math and Arts wrt Male terms and Female terms",
         "orientation": "v",
         "showlegend": true,
         "textposition": "auto",
         "type": "bar",
         "x": [
          "cbow",
          "skip",
          "twitter",
          "g_news"
         ],
         "xaxis": "x",
         "y": [
          0.97,
          0.92,
          -0.21,
          0.23
         ],
         "yaxis": "y"
        },
        {
         "alignmentgroup": "True",
         "hovertemplate": "Word Embedding Model=Science and Arts 2 wrt Male terms and Female terms<br>query_name=%{x}<br>value=%{y}<extra></extra>",
         "legendgroup": "Science and Arts 2 wrt Male terms and Female terms",
         "marker": {
          "color": "#B6E880",
          "pattern": {
           "shape": ""
          }
         },
         "name": "Science and Arts 2 wrt Male terms and Female terms",
         "offsetgroup": "Science and Arts 2 wrt Male terms and Female terms",
         "orientation": "v",
         "showlegend": true,
         "textposition": "auto",
         "type": "bar",
         "x": [
          "cbow",
          "skip",
          "twitter",
          "g_news"
         ],
         "xaxis": "x",
         "y": [
          0.7,
          0.38,
          -0.18,
          0.29
         ],
         "yaxis": "y"
        },
        {
         "alignmentgroup": "True",
         "hovertemplate": "Word Embedding Model=Mental disease and Physical disease wrt Temporary and Permanent<br>query_name=%{x}<br>value=%{y}<extra></extra>",
         "legendgroup": "Mental disease and Physical disease wrt Temporary and Permanent",
         "marker": {
          "color": "#FF97FF",
          "pattern": {
           "shape": ""
          }
         },
         "name": "Mental disease and Physical disease wrt Temporary and Permanent",
         "offsetgroup": "Mental disease and Physical disease wrt Temporary and Permanent",
         "orientation": "v",
         "showlegend": true,
         "textposition": "auto",
         "type": "bar",
         "x": [
          "cbow",
          "skip",
          "twitter",
          "g_news"
         ],
         "xaxis": "x",
         "y": [
          0.33,
          0.54,
          0.36,
          0.34
         ],
         "yaxis": "y"
        },
        {
         "alignmentgroup": "True",
         "hovertemplate": "Word Embedding Model=Young names and Old names wrt Pleasant(9) and Unpleasant(9)<br>query_name=%{x}<br>value=%{y}<extra></extra>",
         "legendgroup": "Young names and Old names wrt Pleasant(9) and Unpleasant(9)",
         "marker": {
          "color": "#FECB52",
          "pattern": {
           "shape": ""
          }
         },
         "name": "Young names and Old names wrt Pleasant(9) and Unpleasant(9)",
         "offsetgroup": "Young names and Old names wrt Pleasant(9) and Unpleasant(9)",
         "orientation": "v",
         "showlegend": true,
         "textposition": "auto",
         "type": "bar",
         "x": [
          "cbow",
          "skip",
          "twitter",
          "g_news"
         ],
         "xaxis": "x",
         "y": [
          -0.32,
          -0.23,
          0.35,
          -0.05
         ],
         "yaxis": "y"
        },
        {
         "alignmentgroup": "True",
         "hovertemplate": "Word Embedding Model=Asian and Western wrt Music and Sports<br>query_name=%{x}<br>value=%{y}<extra></extra>",
         "legendgroup": "Asian and Western wrt Music and Sports",
         "marker": {
          "color": "#636efa",
          "pattern": {
           "shape": ""
          }
         },
         "name": "Asian and Western wrt Music and Sports",
         "offsetgroup": "Asian and Western wrt Music and Sports",
         "orientation": "v",
         "showlegend": true,
         "textposition": "auto",
         "type": "bar",
         "x": [
          "cbow",
          "skip",
          "twitter",
          "g_news"
         ],
         "xaxis": "x",
         "y": [
          0.01,
          -0.07,
          0.42,
          0.13
         ],
         "yaxis": "y"
        },
        {
         "alignmentgroup": "True",
         "hovertemplate": "Word Embedding Model=Male and Female wrt Tabletop Games and Textiles<br>query_name=%{x}<br>value=%{y}<extra></extra>",
         "legendgroup": "Male and Female wrt Tabletop Games and Textiles",
         "marker": {
          "color": "#EF553B",
          "pattern": {
           "shape": ""
          }
         },
         "name": "Male and Female wrt Tabletop Games and Textiles",
         "offsetgroup": "Male and Female wrt Tabletop Games and Textiles",
         "orientation": "v",
         "showlegend": true,
         "textposition": "auto",
         "type": "bar",
         "x": [
          "cbow",
          "skip",
          "twitter",
          "g_news"
         ],
         "xaxis": "x",
         "y": [
          1.15,
          0.72,
          1.58,
          0.73
         ],
         "yaxis": "y"
        }
       ],
       "layout": {
        "barmode": "group",
        "legend": {
         "title": {
          "text": "Word Embedding Model"
         },
         "tracegroupgap": 0
        },
        "margin": {
         "t": 60
        },
        "template": {
         "data": {
          "bar": [
           {
            "error_x": {
             "color": "#2a3f5f"
            },
            "error_y": {
             "color": "#2a3f5f"
            },
            "marker": {
             "line": {
              "color": "#E5ECF6",
              "width": 0.5
             },
             "pattern": {
              "fillmode": "overlay",
              "size": 10,
              "solidity": 0.2
             }
            },
            "type": "bar"
           }
          ],
          "barpolar": [
           {
            "marker": {
             "line": {
              "color": "#E5ECF6",
              "width": 0.5
             },
             "pattern": {
              "fillmode": "overlay",
              "size": 10,
              "solidity": 0.2
             }
            },
            "type": "barpolar"
           }
          ],
          "carpet": [
           {
            "aaxis": {
             "endlinecolor": "#2a3f5f",
             "gridcolor": "white",
             "linecolor": "white",
             "minorgridcolor": "white",
             "startlinecolor": "#2a3f5f"
            },
            "baxis": {
             "endlinecolor": "#2a3f5f",
             "gridcolor": "white",
             "linecolor": "white",
             "minorgridcolor": "white",
             "startlinecolor": "#2a3f5f"
            },
            "type": "carpet"
           }
          ],
          "choropleth": [
           {
            "colorbar": {
             "outlinewidth": 0,
             "ticks": ""
            },
            "type": "choropleth"
           }
          ],
          "contour": [
           {
            "colorbar": {
             "outlinewidth": 0,
             "ticks": ""
            },
            "colorscale": [
             [
              0,
              "#0d0887"
             ],
             [
              0.1111111111111111,
              "#46039f"
             ],
             [
              0.2222222222222222,
              "#7201a8"
             ],
             [
              0.3333333333333333,
              "#9c179e"
             ],
             [
              0.4444444444444444,
              "#bd3786"
             ],
             [
              0.5555555555555556,
              "#d8576b"
             ],
             [
              0.6666666666666666,
              "#ed7953"
             ],
             [
              0.7777777777777778,
              "#fb9f3a"
             ],
             [
              0.8888888888888888,
              "#fdca26"
             ],
             [
              1,
              "#f0f921"
             ]
            ],
            "type": "contour"
           }
          ],
          "contourcarpet": [
           {
            "colorbar": {
             "outlinewidth": 0,
             "ticks": ""
            },
            "type": "contourcarpet"
           }
          ],
          "heatmap": [
           {
            "colorbar": {
             "outlinewidth": 0,
             "ticks": ""
            },
            "colorscale": [
             [
              0,
              "#0d0887"
             ],
             [
              0.1111111111111111,
              "#46039f"
             ],
             [
              0.2222222222222222,
              "#7201a8"
             ],
             [
              0.3333333333333333,
              "#9c179e"
             ],
             [
              0.4444444444444444,
              "#bd3786"
             ],
             [
              0.5555555555555556,
              "#d8576b"
             ],
             [
              0.6666666666666666,
              "#ed7953"
             ],
             [
              0.7777777777777778,
              "#fb9f3a"
             ],
             [
              0.8888888888888888,
              "#fdca26"
             ],
             [
              1,
              "#f0f921"
             ]
            ],
            "type": "heatmap"
           }
          ],
          "heatmapgl": [
           {
            "colorbar": {
             "outlinewidth": 0,
             "ticks": ""
            },
            "colorscale": [
             [
              0,
              "#0d0887"
             ],
             [
              0.1111111111111111,
              "#46039f"
             ],
             [
              0.2222222222222222,
              "#7201a8"
             ],
             [
              0.3333333333333333,
              "#9c179e"
             ],
             [
              0.4444444444444444,
              "#bd3786"
             ],
             [
              0.5555555555555556,
              "#d8576b"
             ],
             [
              0.6666666666666666,
              "#ed7953"
             ],
             [
              0.7777777777777778,
              "#fb9f3a"
             ],
             [
              0.8888888888888888,
              "#fdca26"
             ],
             [
              1,
              "#f0f921"
             ]
            ],
            "type": "heatmapgl"
           }
          ],
          "histogram": [
           {
            "marker": {
             "pattern": {
              "fillmode": "overlay",
              "size": 10,
              "solidity": 0.2
             }
            },
            "type": "histogram"
           }
          ],
          "histogram2d": [
           {
            "colorbar": {
             "outlinewidth": 0,
             "ticks": ""
            },
            "colorscale": [
             [
              0,
              "#0d0887"
             ],
             [
              0.1111111111111111,
              "#46039f"
             ],
             [
              0.2222222222222222,
              "#7201a8"
             ],
             [
              0.3333333333333333,
              "#9c179e"
             ],
             [
              0.4444444444444444,
              "#bd3786"
             ],
             [
              0.5555555555555556,
              "#d8576b"
             ],
             [
              0.6666666666666666,
              "#ed7953"
             ],
             [
              0.7777777777777778,
              "#fb9f3a"
             ],
             [
              0.8888888888888888,
              "#fdca26"
             ],
             [
              1,
              "#f0f921"
             ]
            ],
            "type": "histogram2d"
           }
          ],
          "histogram2dcontour": [
           {
            "colorbar": {
             "outlinewidth": 0,
             "ticks": ""
            },
            "colorscale": [
             [
              0,
              "#0d0887"
             ],
             [
              0.1111111111111111,
              "#46039f"
             ],
             [
              0.2222222222222222,
              "#7201a8"
             ],
             [
              0.3333333333333333,
              "#9c179e"
             ],
             [
              0.4444444444444444,
              "#bd3786"
             ],
             [
              0.5555555555555556,
              "#d8576b"
             ],
             [
              0.6666666666666666,
              "#ed7953"
             ],
             [
              0.7777777777777778,
              "#fb9f3a"
             ],
             [
              0.8888888888888888,
              "#fdca26"
             ],
             [
              1,
              "#f0f921"
             ]
            ],
            "type": "histogram2dcontour"
           }
          ],
          "mesh3d": [
           {
            "colorbar": {
             "outlinewidth": 0,
             "ticks": ""
            },
            "type": "mesh3d"
           }
          ],
          "parcoords": [
           {
            "line": {
             "colorbar": {
              "outlinewidth": 0,
              "ticks": ""
             }
            },
            "type": "parcoords"
           }
          ],
          "pie": [
           {
            "automargin": true,
            "type": "pie"
           }
          ],
          "scatter": [
           {
            "fillpattern": {
             "fillmode": "overlay",
             "size": 10,
             "solidity": 0.2
            },
            "type": "scatter"
           }
          ],
          "scatter3d": [
           {
            "line": {
             "colorbar": {
              "outlinewidth": 0,
              "ticks": ""
             }
            },
            "marker": {
             "colorbar": {
              "outlinewidth": 0,
              "ticks": ""
             }
            },
            "type": "scatter3d"
           }
          ],
          "scattercarpet": [
           {
            "marker": {
             "colorbar": {
              "outlinewidth": 0,
              "ticks": ""
             }
            },
            "type": "scattercarpet"
           }
          ],
          "scattergeo": [
           {
            "marker": {
             "colorbar": {
              "outlinewidth": 0,
              "ticks": ""
             }
            },
            "type": "scattergeo"
           }
          ],
          "scattergl": [
           {
            "marker": {
             "colorbar": {
              "outlinewidth": 0,
              "ticks": ""
             }
            },
            "type": "scattergl"
           }
          ],
          "scattermapbox": [
           {
            "marker": {
             "colorbar": {
              "outlinewidth": 0,
              "ticks": ""
             }
            },
            "type": "scattermapbox"
           }
          ],
          "scatterpolar": [
           {
            "marker": {
             "colorbar": {
              "outlinewidth": 0,
              "ticks": ""
             }
            },
            "type": "scatterpolar"
           }
          ],
          "scatterpolargl": [
           {
            "marker": {
             "colorbar": {
              "outlinewidth": 0,
              "ticks": ""
             }
            },
            "type": "scatterpolargl"
           }
          ],
          "scatterternary": [
           {
            "marker": {
             "colorbar": {
              "outlinewidth": 0,
              "ticks": ""
             }
            },
            "type": "scatterternary"
           }
          ],
          "surface": [
           {
            "colorbar": {
             "outlinewidth": 0,
             "ticks": ""
            },
            "colorscale": [
             [
              0,
              "#0d0887"
             ],
             [
              0.1111111111111111,
              "#46039f"
             ],
             [
              0.2222222222222222,
              "#7201a8"
             ],
             [
              0.3333333333333333,
              "#9c179e"
             ],
             [
              0.4444444444444444,
              "#bd3786"
             ],
             [
              0.5555555555555556,
              "#d8576b"
             ],
             [
              0.6666666666666666,
              "#ed7953"
             ],
             [
              0.7777777777777778,
              "#fb9f3a"
             ],
             [
              0.8888888888888888,
              "#fdca26"
             ],
             [
              1,
              "#f0f921"
             ]
            ],
            "type": "surface"
           }
          ],
          "table": [
           {
            "cells": {
             "fill": {
              "color": "#EBF0F8"
             },
             "line": {
              "color": "white"
             }
            },
            "header": {
             "fill": {
              "color": "#C8D4E3"
             },
             "line": {
              "color": "white"
             }
            },
            "type": "table"
           }
          ]
         },
         "layout": {
          "annotationdefaults": {
           "arrowcolor": "#2a3f5f",
           "arrowhead": 0,
           "arrowwidth": 1
          },
          "autotypenumbers": "strict",
          "coloraxis": {
           "colorbar": {
            "outlinewidth": 0,
            "ticks": ""
           }
          },
          "colorscale": {
           "diverging": [
            [
             0,
             "#8e0152"
            ],
            [
             0.1,
             "#c51b7d"
            ],
            [
             0.2,
             "#de77ae"
            ],
            [
             0.3,
             "#f1b6da"
            ],
            [
             0.4,
             "#fde0ef"
            ],
            [
             0.5,
             "#f7f7f7"
            ],
            [
             0.6,
             "#e6f5d0"
            ],
            [
             0.7,
             "#b8e186"
            ],
            [
             0.8,
             "#7fbc41"
            ],
            [
             0.9,
             "#4d9221"
            ],
            [
             1,
             "#276419"
            ]
           ],
           "sequential": [
            [
             0,
             "#0d0887"
            ],
            [
             0.1111111111111111,
             "#46039f"
            ],
            [
             0.2222222222222222,
             "#7201a8"
            ],
            [
             0.3333333333333333,
             "#9c179e"
            ],
            [
             0.4444444444444444,
             "#bd3786"
            ],
            [
             0.5555555555555556,
             "#d8576b"
            ],
            [
             0.6666666666666666,
             "#ed7953"
            ],
            [
             0.7777777777777778,
             "#fb9f3a"
            ],
            [
             0.8888888888888888,
             "#fdca26"
            ],
            [
             1,
             "#f0f921"
            ]
           ],
           "sequentialminus": [
            [
             0,
             "#0d0887"
            ],
            [
             0.1111111111111111,
             "#46039f"
            ],
            [
             0.2222222222222222,
             "#7201a8"
            ],
            [
             0.3333333333333333,
             "#9c179e"
            ],
            [
             0.4444444444444444,
             "#bd3786"
            ],
            [
             0.5555555555555556,
             "#d8576b"
            ],
            [
             0.6666666666666666,
             "#ed7953"
            ],
            [
             0.7777777777777778,
             "#fb9f3a"
            ],
            [
             0.8888888888888888,
             "#fdca26"
            ],
            [
             1,
             "#f0f921"
            ]
           ]
          },
          "colorway": [
           "#636efa",
           "#EF553B",
           "#00cc96",
           "#ab63fa",
           "#FFA15A",
           "#19d3f3",
           "#FF6692",
           "#B6E880",
           "#FF97FF",
           "#FECB52"
          ],
          "font": {
           "color": "#2a3f5f"
          },
          "geo": {
           "bgcolor": "white",
           "lakecolor": "white",
           "landcolor": "#E5ECF6",
           "showlakes": true,
           "showland": true,
           "subunitcolor": "white"
          },
          "hoverlabel": {
           "align": "left"
          },
          "hovermode": "closest",
          "mapbox": {
           "style": "light"
          },
          "paper_bgcolor": "white",
          "plot_bgcolor": "#E5ECF6",
          "polar": {
           "angularaxis": {
            "gridcolor": "white",
            "linecolor": "white",
            "ticks": ""
           },
           "bgcolor": "#E5ECF6",
           "radialaxis": {
            "gridcolor": "white",
            "linecolor": "white",
            "ticks": ""
           }
          },
          "scene": {
           "xaxis": {
            "backgroundcolor": "#E5ECF6",
            "gridcolor": "white",
            "gridwidth": 2,
            "linecolor": "white",
            "showbackground": true,
            "ticks": "",
            "zerolinecolor": "white"
           },
           "yaxis": {
            "backgroundcolor": "#E5ECF6",
            "gridcolor": "white",
            "gridwidth": 2,
            "linecolor": "white",
            "showbackground": true,
            "ticks": "",
            "zerolinecolor": "white"
           },
           "zaxis": {
            "backgroundcolor": "#E5ECF6",
            "gridcolor": "white",
            "gridwidth": 2,
            "linecolor": "white",
            "showbackground": true,
            "ticks": "",
            "zerolinecolor": "white"
           }
          },
          "shapedefaults": {
           "line": {
            "color": "#2a3f5f"
           }
          },
          "ternary": {
           "aaxis": {
            "gridcolor": "white",
            "linecolor": "white",
            "ticks": ""
           },
           "baxis": {
            "gridcolor": "white",
            "linecolor": "white",
            "ticks": ""
           },
           "bgcolor": "#E5ECF6",
           "caxis": {
            "gridcolor": "white",
            "linecolor": "white",
            "ticks": ""
           }
          },
          "title": {
           "x": 0.05
          },
          "xaxis": {
           "automargin": true,
           "gridcolor": "white",
           "linecolor": "white",
           "ticks": "",
           "title": {
            "standoff": 15
           },
           "zerolinecolor": "white",
           "zerolinewidth": 2
          },
          "yaxis": {
           "automargin": true,
           "gridcolor": "white",
           "linecolor": "white",
           "ticks": "",
           "title": {
            "standoff": 15
           },
           "zerolinecolor": "white",
           "zerolinewidth": 2
          }
         }
        },
        "xaxis": {
         "anchor": "y",
         "domain": [
          0,
          1
         ],
         "title": {
          "text": "Query"
         }
        },
        "yaxis": {
         "anchor": "x",
         "domain": [
          0,
          1
         ],
         "title": {
          "text": "Bias measure"
         }
        }
       }
      }
     },
     "metadata": {},
     "output_type": "display_data"
    }
   ],
   "source": [
    "plot_queries_results(wefe_results)"
   ]
  },
  {
   "cell_type": "markdown",
   "metadata": {},
   "source": [
    "## Classification"
   ]
  },
  {
   "cell_type": "code",
   "execution_count": 168,
   "metadata": {},
   "outputs": [],
   "source": [
    "imdb = load_dataset(\"imdb\")"
   ]
  },
  {
   "cell_type": "code",
   "execution_count": 147,
   "metadata": {},
   "outputs": [],
   "source": [
    "train_clean = [pre.preprocess_string(x[\"text\"], preprocess) for x in imdb[\"train\"]]\n",
    "test_clean = [pre.preprocess_string(x[\"text\"], preprocess) for x in imdb[\"test\"]]"
   ]
  },
  {
   "cell_type": "code",
   "execution_count": 159,
   "metadata": {},
   "outputs": [
    {
     "data": {
      "text/plain": [
       "25000"
      ]
     },
     "execution_count": 159,
     "metadata": {},
     "output_type": "execute_result"
    }
   ],
   "source": [
    "len(imdb[\"train\"][\"text\"])"
   ]
  },
  {
   "cell_type": "code",
   "execution_count": 163,
   "metadata": {},
   "outputs": [],
   "source": [
    "vectorizer = TfidfVectorizer(input=\"content\")\n",
    "train_x_one_hot = vectorizer.fit_transform(imdb[\"train\"][\"text\"])\n",
    "test_x_one_hot = vectorizer.transform(imdb[\"test\"][\"text\"])"
   ]
  },
  {
   "cell_type": "code",
   "execution_count": 165,
   "metadata": {},
   "outputs": [
    {
     "name": "stdout",
     "output_type": "stream",
     "text": [
      "(25000,)\n",
      "(25000,)\n"
     ]
    },
    {
     "data": {
      "text/plain": [
       "(0.8868,\n",
       " (0.8868344722124228, 0.8868, 0.8867974780289344, None),\n",
       " array([[11144,  1356],\n",
       "        [ 1474, 11026]]))"
      ]
     },
     "execution_count": 165,
     "metadata": {},
     "output_type": "execute_result"
    }
   ],
   "source": [
    "def eval_classifier(x_train, y_train, x_test, y_test):\n",
    "    model = sklearn.linear_model.LogisticRegression(multi_class='multinomial', max_iter=500)\n",
    "    model.fit(x_train, y_train)\n",
    "    pred = model.predict(x_test)\n",
    "    print(y_test.shape)\n",
    "    print(pred.shape)\n",
    "    f1 = sklearn.metrics.precision_recall_fscore_support(y_test, pred, average=\"weighted\")\n",
    "    conf = sklearn.metrics.confusion_matrix(y_test, pred)\n",
    "    # f1 = sklearn.metrics.f1_score(y_test, pred, average=\"micro\")\n",
    "    acc = sklearn.metrics.accuracy_score(y_test, pred)\n",
    "    # return acc, f1\n",
    "    return acc, f1, conf\n",
    "    # return sklearn.metrics.classification_report(y_test, pred, labels=class_names)\n",
    "\n",
    "eval_classifier(train_x_one_hot, np.array(imdb[\"train\"][\"label\"]), test_x_one_hot, np.array(imdb[\"test\"][\"label\"]))"
   ]
  },
  {
   "cell_type": "code",
   "execution_count": 154,
   "metadata": {},
   "outputs": [
    {
     "name": "stdout",
     "output_type": "stream",
     "text": [
      "(25000,)\n",
      "(25000,)\n"
     ]
    },
    {
     "data": {
      "text/plain": [
       "(0.76152,\n",
       " (0.7619733606189527, 0.76152, 0.7614167793554204, None),\n",
       " array([[9779, 2721],\n",
       "        [3241, 9259]]))"
      ]
     },
     "execution_count": 154,
     "metadata": {},
     "output_type": "execute_result"
    }
   ],
   "source": [
    "def compute_embeddings(sentences, lookup):\n",
    "    out = []\n",
    "    for sentence in sentences:\n",
    "        avg = np.mean([lookup[x] for x in sentence if x in lookup], axis=0)\n",
    "        out.append(avg)\n",
    "    return out\n",
    "\n",
    "train_x_emb = compute_embeddings(train_clean, skip)\n",
    "test_x_emb = compute_embeddings(test_clean, skip)\n",
    "eval_classifier(train_x_emb, np.array(imdb[\"train\"][\"label\"]), test_x_emb, np.array(imdb[\"test\"][\"label\"]))"
   ]
  },
  {
   "cell_type": "code",
   "execution_count": 169,
   "metadata": {},
   "outputs": [],
   "source": [
    "poem = load_dataset(\"poem_sentiment\")"
   ]
  },
  {
   "cell_type": "code",
   "execution_count": 185,
   "metadata": {},
   "outputs": [
    {
     "data": {
      "text/plain": [
       "['with pale blue berries. in these peaceful shades--',\n",
       " 'it flows so long as falls the rain,']"
      ]
     },
     "execution_count": 185,
     "metadata": {},
     "output_type": "execute_result"
    }
   ],
   "source": [
    "poem[\"train\"][\"verse_text\"][0:2]"
   ]
  },
  {
   "cell_type": "code",
   "execution_count": 180,
   "metadata": {},
   "outputs": [],
   "source": [
    "train_clean = [pre.preprocess_string(x[\"verse_text\"], preprocess) for x in poem[\"train\"]]\n",
    "test_clean = [pre.preprocess_string(x[\"verse_text\"], preprocess) for x in poem[\"test\"]]"
   ]
  },
  {
   "cell_type": "code",
   "execution_count": 176,
   "metadata": {},
   "outputs": [],
   "source": [
    "vectorizer = TfidfVectorizer(input=\"content\")\n",
    "train_x_one_hot = vectorizer.fit_transform(poem[\"train\"][\"verse_text\"])\n",
    "test_x_one_hot = vectorizer.transform(poem[\"test\"][\"verse_text\"])"
   ]
  },
  {
   "cell_type": "code",
   "execution_count": 177,
   "metadata": {},
   "outputs": [
    {
     "name": "stdout",
     "output_type": "stream",
     "text": [
      "(104,)\n",
      "(104,)\n"
     ]
    },
    {
     "data": {
      "text/plain": [
       "(0.6634615384615384,\n",
       " (0.44881221719457015, 0.6634615384615384, 0.535425101214575, None),\n",
       " array([[ 0,  1, 18],\n",
       "        [ 1,  0, 15],\n",
       "        [ 0,  0, 69]]))"
      ]
     },
     "execution_count": 177,
     "metadata": {},
     "output_type": "execute_result"
    }
   ],
   "source": [
    "eval_classifier(train_x_one_hot, np.array(poem[\"train\"][\"label\"]), test_x_one_hot, np.array(poem[\"test\"][\"label\"]))"
   ]
  },
  {
   "cell_type": "code",
   "execution_count": 184,
   "metadata": {},
   "outputs": [
    {
     "name": "stdout",
     "output_type": "stream",
     "text": [
      "(104,)\n",
      "(104,)\n"
     ]
    },
    {
     "data": {
      "text/plain": [
       "(0.7596153846153846,\n",
       " (0.8086538461538461, 0.7596153846153846, 0.7080228200917856, None),\n",
       " array([[ 9,  0, 10],\n",
       "        [ 0,  2, 14],\n",
       "        [ 1,  0, 68]]))"
      ]
     },
     "execution_count": 184,
     "metadata": {},
     "output_type": "execute_result"
    }
   ],
   "source": [
    "train_x_emb = compute_embeddings(train_clean, skip)\n",
    "test_x_emb = compute_embeddings(test_clean, skip)\n",
    "eval_classifier(train_x_emb, np.array(poem[\"train\"][\"label\"]), test_x_emb, np.array(poem[\"test\"][\"label\"]))"
   ]
  }
 ],
 "metadata": {
  "kernelspec": {
   "display_name": "nlp",
   "language": "python",
   "name": "python3"
  },
  "language_info": {
   "codemirror_mode": {
    "name": "ipython",
    "version": 3
   },
   "file_extension": ".py",
   "mimetype": "text/x-python",
   "name": "python",
   "nbconvert_exporter": "python",
   "pygments_lexer": "ipython3",
   "version": "3.8.16"
  }
 },
 "nbformat": 4,
 "nbformat_minor": 2
}
