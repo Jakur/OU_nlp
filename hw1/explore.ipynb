{
 "cells": [
  {
   "cell_type": "code",
   "execution_count": 163,
   "metadata": {},
   "outputs": [],
   "source": [
    "import math \n",
    "from convokit import Corpus, download\n",
    "import polars as pl\n",
    "import numpy as np\n",
    "import nltk\n",
    "from collections import defaultdict, Counter\n",
    "from nltk.tokenize import word_tokenize\n",
    "from nltk.corpus import stopwords\n",
    "from nltk.stem import WordNetLemmatizer\n",
    "from scipy.sparse import csc_array\n",
    "from gensim.models.ldamodel import LdaModel\n",
    "from gensim.matutils import Sparse2Corpus"
   ]
  },
  {
   "cell_type": "code",
   "execution_count": 56,
   "metadata": {},
   "outputs": [
    {
     "name": "stderr",
     "output_type": "stream",
     "text": [
      "[nltk_data] Downloading package punkt to /home/justin/nltk_data...\n",
      "[nltk_data]   Package punkt is already up-to-date!\n",
      "[nltk_data] Downloading package stopwords to /home/justin/nltk_data...\n",
      "[nltk_data]   Package stopwords is already up-to-date!\n",
      "[nltk_data] Downloading package wordnet to /home/justin/nltk_data...\n",
      "[nltk_data]   Package wordnet is already up-to-date!\n",
      "[nltk_data] Downloading package averaged_perceptron_tagger to\n",
      "[nltk_data]     /home/justin/nltk_data...\n",
      "[nltk_data]   Unzipping taggers/averaged_perceptron_tagger.zip.\n"
     ]
    },
    {
     "data": {
      "text/plain": [
       "True"
      ]
     },
     "execution_count": 56,
     "metadata": {},
     "output_type": "execute_result"
    }
   ],
   "source": [
    "nltk.download('punkt')\n",
    "nltk.download('stopwords')\n",
    "nltk.download('wordnet')\n",
    "nltk.download('averaged_perceptron_tagger')"
   ]
  },
  {
   "cell_type": "code",
   "execution_count": 3,
   "metadata": {},
   "outputs": [
    {
     "name": "stdout",
     "output_type": "stream",
     "text": [
      "Dataset already exists at /home/justin/.convokit/downloads/tennis-corpus\n"
     ]
    }
   ],
   "source": [
    "corpus = Corpus(filename=download(\"tennis-corpus\"))"
   ]
  },
  {
   "cell_type": "code",
   "execution_count": 20,
   "metadata": {},
   "outputs": [
    {
     "data": {
      "text/html": [
       "<div><style>\n",
       ".dataframe > thead > tr > th,\n",
       ".dataframe > tbody > tr > td {\n",
       "  text-align: right;\n",
       "  white-space: pre-wrap;\n",
       "}\n",
       "</style>\n",
       "<small>shape: (5, 3)</small><table border=\"1\" class=\"dataframe\"><thead><tr><th>id</th><th>vectors</th><th>meta.gender</th></tr><tr><td>str</td><td>list[null]</td><td>str</td></tr></thead><tbody><tr><td>&quot;REPORTER&quot;</td><td>[]</td><td>null</td></tr><tr><td>&quot;Kei Nishikori&quot;</td><td>[]</td><td>&quot;M&quot;</td></tr><tr><td>&quot;Sergiy Stakhov…</td><td>[]</td><td>&quot;M&quot;</td></tr><tr><td>&quot;Jelena Jankovi…</td><td>[]</td><td>&quot;F&quot;</td></tr><tr><td>&quot;Fernando Verda…</td><td>[]</td><td>&quot;M&quot;</td></tr></tbody></table></div>"
      ],
      "text/plain": [
       "shape: (5, 3)\n",
       "┌───────────────────┬────────────┬─────────────┐\n",
       "│ id                ┆ vectors    ┆ meta.gender │\n",
       "│ ---               ┆ ---        ┆ ---         │\n",
       "│ str               ┆ list[null] ┆ str         │\n",
       "╞═══════════════════╪════════════╪═════════════╡\n",
       "│ REPORTER          ┆ []         ┆ null        │\n",
       "│ Kei Nishikori     ┆ []         ┆ M           │\n",
       "│ Sergiy Stakhovsky ┆ []         ┆ M           │\n",
       "│ Jelena Jankovic   ┆ []         ┆ F           │\n",
       "│ Fernando Verdasco ┆ []         ┆ M           │\n",
       "└───────────────────┴────────────┴─────────────┘"
      ]
     },
     "execution_count": 20,
     "metadata": {},
     "output_type": "execute_result"
    }
   ],
   "source": [
    "speakers = pl.from_pandas(corpus.get_speakers_dataframe(), include_index=True)\n",
    "speakers.head()"
   ]
  },
  {
   "cell_type": "code",
   "execution_count": 75,
   "metadata": {},
   "outputs": [
    {
     "data": {
      "text/html": [
       "<div><style>\n",
       ".dataframe > thead > tr > th,\n",
       ".dataframe > tbody > tr > td {\n",
       "  text-align: right;\n",
       "  white-space: pre-wrap;\n",
       "}\n",
       "</style>\n",
       "<small>shape: (5, 8)</small><table border=\"1\" class=\"dataframe\"><thead><tr><th>timestamp</th><th>text</th><th>speaker</th><th>reply_to</th><th>conversation_id</th><th>meta.is_answer</th><th>meta.is_question</th><th>meta.pair_idx</th></tr><tr><td>datetime[μs]</td><td>str</td><td>str</td><td>str</td><td>str</td><td>bool</td><td>bool</td><td>str</td></tr></thead><tbody><tr><td>2008-08-28 00:00:00</td><td>&quot;I think this i…</td><td>&quot;REPORTER&quot;</td><td>null</td><td>&quot;1681_0.q&quot;</td><td>false</td><td>true</td><td>&quot;1681_0&quot;</td></tr><tr><td>2008-08-28 00:00:00</td><td>&quot;Yeah.&quot;</td><td>&quot;Kei Nishikori&quot;</td><td>&quot;1681_0.q&quot;</td><td>&quot;1681_0.q&quot;</td><td>true</td><td>false</td><td>&quot;1681_0&quot;</td></tr><tr><td>2008-08-28 00:00:00</td><td>&quot;How would you …</td><td>&quot;REPORTER&quot;</td><td>null</td><td>&quot;1681_1.q&quot;</td><td>false</td><td>true</td><td>&quot;1681_1&quot;</td></tr><tr><td>2008-08-28 00:00:00</td><td>&quot;Yeah, I&#x27;m pret…</td><td>&quot;Kei Nishikori&quot;</td><td>&quot;1681_1.q&quot;</td><td>&quot;1681_1.q&quot;</td><td>true</td><td>false</td><td>&quot;1681_1&quot;</td></tr><tr><td>2008-08-28 00:00:00</td><td>&quot;Do you know wh…</td><td>&quot;REPORTER&quot;</td><td>null</td><td>&quot;1681_2.q&quot;</td><td>false</td><td>true</td><td>&quot;1681_2&quot;</td></tr></tbody></table></div>"
      ],
      "text/plain": [
       "shape: (5, 8)\n",
       "┌────────────┬────────────┬────────────┬──────────┬────────────┬───────────┬───────────┬───────────┐\n",
       "│ timestamp  ┆ text       ┆ speaker    ┆ reply_to ┆ conversati ┆ meta.is_a ┆ meta.is_q ┆ meta.pair │\n",
       "│ ---        ┆ ---        ┆ ---        ┆ ---      ┆ on_id      ┆ nswer     ┆ uestion   ┆ _idx      │\n",
       "│ datetime[μ ┆ str        ┆ str        ┆ str      ┆ ---        ┆ ---       ┆ ---       ┆ ---       │\n",
       "│ s]         ┆            ┆            ┆          ┆ str        ┆ bool      ┆ bool      ┆ str       │\n",
       "╞════════════╪════════════╪════════════╪══════════╪════════════╪═══════════╪═══════════╪═══════════╡\n",
       "│ 2008-08-28 ┆ I think    ┆ REPORTER   ┆ null     ┆ 1681_0.q   ┆ false     ┆ true      ┆ 1681_0    │\n",
       "│ 00:00:00   ┆ this is    ┆            ┆          ┆            ┆           ┆           ┆           │\n",
       "│            ┆ your       ┆            ┆          ┆            ┆           ┆           ┆           │\n",
       "│            ┆ biggest    ┆            ┆          ┆            ┆           ┆           ┆           │\n",
       "│            ┆ suc…       ┆            ┆          ┆            ┆           ┆           ┆           │\n",
       "│ 2008-08-28 ┆ Yeah.      ┆ Kei        ┆ 1681_0.q ┆ 1681_0.q   ┆ true      ┆ false     ┆ 1681_0    │\n",
       "│ 00:00:00   ┆            ┆ Nishikori  ┆          ┆            ┆           ┆           ┆           │\n",
       "│ 2008-08-28 ┆ How would  ┆ REPORTER   ┆ null     ┆ 1681_1.q   ┆ false     ┆ true      ┆ 1681_1    │\n",
       "│ 00:00:00   ┆ you        ┆            ┆          ┆            ┆           ┆           ┆           │\n",
       "│            ┆ describe   ┆            ┆          ┆            ┆           ┆           ┆           │\n",
       "│            ┆ it? Is it… ┆            ┆          ┆            ┆           ┆           ┆           │\n",
       "│ 2008-08-28 ┆ Yeah, I'm  ┆ Kei        ┆ 1681_1.q ┆ 1681_1.q   ┆ true      ┆ false     ┆ 1681_1    │\n",
       "│ 00:00:00   ┆ pretty     ┆ Nishikori  ┆          ┆            ┆           ┆           ┆           │\n",
       "│            ┆ happy, but ┆            ┆          ┆            ┆           ┆           ┆           │\n",
       "│            ┆ it w…      ┆            ┆          ┆            ┆           ┆           ┆           │\n",
       "│ 2008-08-28 ┆ Do you     ┆ REPORTER   ┆ null     ┆ 1681_2.q   ┆ false     ┆ true      ┆ 1681_2    │\n",
       "│ 00:00:00   ┆ know why   ┆            ┆          ┆            ┆           ┆           ┆           │\n",
       "│            ┆ he has     ┆            ┆          ┆            ┆           ┆           ┆           │\n",
       "│            ┆ retired?   ┆            ┆          ┆            ┆           ┆           ┆           │\n",
       "└────────────┴────────────┴────────────┴──────────┴────────────┴───────────┴───────────┴───────────┘"
      ]
     },
     "execution_count": 75,
     "metadata": {},
     "output_type": "execute_result"
    }
   ],
   "source": [
    "df = pl.from_pandas(corpus.get_utterances_dataframe())\n",
    "df = df.with_columns(pl.col(\"timestamp\").str.strptime(pl.Datetime, \"%Y-%m-%d\"))\n",
    "df = df.drop(\"vectors\")\n",
    "df.head()"
   ]
  },
  {
   "cell_type": "code",
   "execution_count": 76,
   "metadata": {},
   "outputs": [],
   "source": [
    "df = df.with_columns(pl.col(\"meta.pair_idx\").str.split(\"_\").list.first().str.parse_int(radix=10).alias(\"conversation\"))\n",
    "NUM_DOCS = 1 + df.get_column(\"conversation\").max()\n",
    "NUM_DOCS"
   ]
  },
  {
   "cell_type": "code",
   "execution_count": 9,
   "metadata": {},
   "outputs": [
    {
     "data": {
      "text/html": [
       "<div><style>\n",
       ".dataframe > thead > tr > th,\n",
       ".dataframe > tbody > tr > td {\n",
       "  text-align: right;\n",
       "  white-space: pre-wrap;\n",
       "}\n",
       "</style>\n",
       "<small>shape: (5, 7)</small><table border=\"1\" class=\"dataframe\"><thead><tr><th>meta.match_id</th><th>meta.opponent</th><th>meta.result</th><th>meta.stage</th><th>meta.tournament</th><th>meta.tournament_type</th><th>meta.player_ranking</th></tr><tr><td>i64</td><td>str</td><td>i64</td><td>str</td><td>str</td><td>str</td><td>i64</td></tr></thead><tbody><tr><td>1681</td><td>null</td><td>1</td><td>&quot;2nd Round&quot;</td><td>&quot;U.S. OPEN&quot;</td><td>&quot;Grand Slam&quot;</td><td>126</td></tr><tr><td>1681</td><td>null</td><td>1</td><td>&quot;2nd Round&quot;</td><td>&quot;U.S. OPEN&quot;</td><td>&quot;Grand Slam&quot;</td><td>126</td></tr><tr><td>1681</td><td>null</td><td>1</td><td>&quot;2nd Round&quot;</td><td>&quot;U.S. OPEN&quot;</td><td>&quot;Grand Slam&quot;</td><td>126</td></tr><tr><td>1681</td><td>null</td><td>1</td><td>&quot;2nd Round&quot;</td><td>&quot;U.S. OPEN&quot;</td><td>&quot;Grand Slam&quot;</td><td>126</td></tr><tr><td>1681</td><td>null</td><td>1</td><td>&quot;2nd Round&quot;</td><td>&quot;U.S. OPEN&quot;</td><td>&quot;Grand Slam&quot;</td><td>126</td></tr></tbody></table></div>"
      ],
      "text/plain": [
       "shape: (5, 7)\n",
       "┌──────────────┬──────────────┬─────────────┬────────────┬─────────────┬─────────────┬─────────────┐\n",
       "│ meta.match_i ┆ meta.opponen ┆ meta.result ┆ meta.stage ┆ meta.tourna ┆ meta.tourna ┆ meta.player │\n",
       "│ d            ┆ t            ┆ ---         ┆ ---        ┆ ment        ┆ ment_type   ┆ _ranking    │\n",
       "│ ---          ┆ ---          ┆ i64         ┆ str        ┆ ---         ┆ ---         ┆ ---         │\n",
       "│ i64          ┆ str          ┆             ┆            ┆ str         ┆ str         ┆ i64         │\n",
       "╞══════════════╪══════════════╪═════════════╪════════════╪═════════════╪═════════════╪═════════════╡\n",
       "│ 1681         ┆ null         ┆ 1           ┆ 2nd Round  ┆ U.S. OPEN   ┆ Grand Slam  ┆ 126         │\n",
       "│ 1681         ┆ null         ┆ 1           ┆ 2nd Round  ┆ U.S. OPEN   ┆ Grand Slam  ┆ 126         │\n",
       "│ 1681         ┆ null         ┆ 1           ┆ 2nd Round  ┆ U.S. OPEN   ┆ Grand Slam  ┆ 126         │\n",
       "│ 1681         ┆ null         ┆ 1           ┆ 2nd Round  ┆ U.S. OPEN   ┆ Grand Slam  ┆ 126         │\n",
       "│ 1681         ┆ null         ┆ 1           ┆ 2nd Round  ┆ U.S. OPEN   ┆ Grand Slam  ┆ 126         │\n",
       "└──────────────┴──────────────┴─────────────┴────────────┴─────────────┴─────────────┴─────────────┘"
      ]
     },
     "execution_count": 9,
     "metadata": {},
     "output_type": "execute_result"
    }
   ],
   "source": [
    "match = pl.from_pandas(corpus.get_conversations_dataframe())\n",
    "match = match.drop(\"vectors\")\n",
    "match.head()"
   ]
  },
  {
   "cell_type": "code",
   "execution_count": 14,
   "metadata": {},
   "outputs": [],
   "source": [
    "match = match.unique(\"meta.match_id\")"
   ]
  },
  {
   "cell_type": "code",
   "execution_count": 18,
   "metadata": {},
   "outputs": [
    {
     "data": {
      "text/html": [
       "<div><style>\n",
       ".dataframe > thead > tr > th,\n",
       ".dataframe > tbody > tr > td {\n",
       "  text-align: right;\n",
       "  white-space: pre-wrap;\n",
       "}\n",
       "</style>\n",
       "<small>shape: (9, 2)</small><table border=\"1\" class=\"dataframe\"><thead><tr><th>meta.opponent</th><th>counts</th></tr><tr><td>str</td><td>u32</td></tr></thead><tbody><tr><td>null</td><td>940</td></tr><tr><td>&quot;Novak Djokovic…</td><td>178</td></tr><tr><td>&quot;Roger Federer&quot;</td><td>162</td></tr><tr><td>&quot;Rafael Nadal&quot;</td><td>157</td></tr><tr><td>&quot;Andy Murray&quot;</td><td>153</td></tr><tr><td>&quot;Serena William…</td><td>124</td></tr><tr><td>&quot;Caroline Wozni…</td><td>95</td></tr><tr><td>&quot;Agnieszka Radw…</td><td>87</td></tr><tr><td>&quot;Tomas Berdych&quot;</td><td>86</td></tr></tbody></table></div>"
      ],
      "text/plain": [
       "shape: (9, 2)\n",
       "┌─────────────────────┬────────┐\n",
       "│ meta.opponent       ┆ counts │\n",
       "│ ---                 ┆ ---    │\n",
       "│ str                 ┆ u32    │\n",
       "╞═════════════════════╪════════╡\n",
       "│ null                ┆ 940    │\n",
       "│ Novak Djokovic      ┆ 178    │\n",
       "│ Roger Federer       ┆ 162    │\n",
       "│ Rafael Nadal        ┆ 157    │\n",
       "│ Andy Murray         ┆ 153    │\n",
       "│ Serena Williams     ┆ 124    │\n",
       "│ Caroline Wozniacki  ┆ 95     │\n",
       "│ Agnieszka Radwanska ┆ 87     │\n",
       "│ Tomas Berdych       ┆ 86     │\n",
       "└─────────────────────┴────────┘"
      ]
     },
     "execution_count": 18,
     "metadata": {},
     "output_type": "execute_result"
    }
   ],
   "source": [
    "match.get_column(\"meta.opponent\").value_counts(sort=True).head(9)"
   ]
  },
  {
   "cell_type": "code",
   "execution_count": 106,
   "metadata": {},
   "outputs": [
    {
     "data": {
      "text/html": [
       "<div><style>\n",
       ".dataframe > thead > tr > th,\n",
       ".dataframe > tbody > tr > td {\n",
       "  text-align: right;\n",
       "  white-space: pre-wrap;\n",
       "}\n",
       "</style>\n",
       "<small>shape: (6_467, 7)</small><table border=\"1\" class=\"dataframe\"><thead><tr><th>meta.match_id</th><th>meta.opponent</th><th>meta.result</th><th>meta.stage</th><th>meta.tournament</th><th>meta.tournament_type</th><th>meta.player_ranking</th></tr><tr><td>i64</td><td>str</td><td>i64</td><td>str</td><td>str</td><td>str</td><td>i64</td></tr></thead><tbody><tr><td>336</td><td>&quot;Dominic Thiem&quot;</td><td>1</td><td>&quot;Quarterfinals&quot;</td><td>&quot;MIAMI OPEN PRE…</td><td>&quot;Masters 1000&quot;</td><td>4</td></tr><tr><td>608</td><td>null</td><td>1</td><td>&quot;2nd Round&quot;</td><td>&quot;WIMBLEDON&quot;</td><td>&quot;Grand Slam&quot;</td><td>4</td></tr><tr><td>5936</td><td>null</td><td>1</td><td>&quot;1st Round&quot;</td><td>&quot;DUBAI DUTY FRE…</td><td>&quot;Premier&quot;</td><td>7</td></tr><tr><td>4848</td><td>&quot;Rafael Nadal&quot;</td><td>0</td><td>&quot;Round Robin&quot;</td><td>&quot;BARCLAYS ATP W…</td><td>&quot;Masters Cup&quot;</td><td>6</td></tr><tr><td>848</td><td>&quot;Elena Dementie…</td><td>1</td><td>&quot;Semifinals&quot;</td><td>&quot;PILOT PEN TENN…</td><td>&quot;2&quot;</td><td>4</td></tr><tr><td>1728</td><td>null</td><td>1</td><td>&quot;1st Round&quot;</td><td>&quot;WESTERN &amp; SOUT…</td><td>&quot;Masters&quot;</td><td>11</td></tr><tr><td>4560</td><td>&quot;Serena William…</td><td>0</td><td>&quot;Semifinals&quot;</td><td>&quot;WIMBLEDON&quot;</td><td>&quot;Grand Slam&quot;</td><td>2</td></tr><tr><td>2064</td><td>&quot;Richard Gasque…</td><td>1</td><td>&quot;Semifinals&quot;</td><td>&quot;MEDIBANK INTER…</td><td>&quot;ATP250&quot;</td><td>11</td></tr><tr><td>5392</td><td>&quot;Richard Gasque…</td><td>1</td><td>&quot;3rd Round&quot;</td><td>&quot;WIMBLEDON&quot;</td><td>&quot;Grand Slam&quot;</td><td>59</td></tr><tr><td>4320</td><td>&quot;Andy Murray&quot;</td><td>1</td><td>&quot;3rd Round&quot;</td><td>&quot;ROGERS CUP MEN…</td><td>&quot;Masters&quot;</td><td>24</td></tr><tr><td>2656</td><td>&quot;Tommy Robredo&quot;</td><td>1</td><td>&quot;Quarterfinals&quot;</td><td>&quot;BNP PARIBAS OP…</td><td>&quot;Masters 1000&quot;</td><td>8</td></tr><tr><td>4752</td><td>&quot;Tomas Berdych&quot;</td><td>1</td><td>&quot;Quarterfinals&quot;</td><td>&quot;AUSTRALIAN OPE…</td><td>&quot;Grand Slam&quot;</td><td>1</td></tr><tr><td>&hellip;</td><td>&hellip;</td><td>&hellip;</td><td>&hellip;</td><td>&hellip;</td><td>&hellip;</td><td>&hellip;</td></tr><tr><td>3871</td><td>&quot;Andy Roddick&quot;</td><td>1</td><td>&quot;3rd Round&quot;</td><td>&quot;WIMBLEDON&quot;</td><td>&quot;Grand Slam&quot;</td><td>44</td></tr><tr><td>4799</td><td>&quot;Jerzy Janowicz…</td><td>1</td><td>&quot;3rd Round&quot;</td><td>&quot;AUSTRALIAN OPE…</td><td>&quot;Grand Slam&quot;</td><td>11</td></tr><tr><td>2191</td><td>&quot;James Blake&quot;</td><td>1</td><td>&quot;2nd Round&quot;</td><td>&quot;SHANGHAI ATP M…</td><td>&quot;Masters 1000&quot;</td><td>2</td></tr><tr><td>511</td><td>null</td><td>1</td><td>&quot;1st Round&quot;</td><td>&quot;WESTERN &amp; SOUT…</td><td>&quot;Premier&quot;</td><td>30</td></tr><tr><td>5503</td><td>&quot;Kevin Anderson…</td><td>0</td><td>&quot;2nd Round&quot;</td><td>&quot;AEGON CHAMPION…</td><td>&quot;ATP250&quot;</td><td>139</td></tr><tr><td>47</td><td>&quot;Garbine Muguru…</td><td>1</td><td>&quot;3rd Round&quot;</td><td>&quot;AEGON INTERNAT…</td><td>&quot;Premier&quot;</td><td>146</td></tr><tr><td>1903</td><td>&quot;Amer Delic&quot;</td><td>1</td><td>&quot;3rd Round&quot;</td><td>&quot;AUSTRALIAN OPE…</td><td>&quot;Grand Slam&quot;</td><td>3</td></tr><tr><td>6175</td><td>&quot;Dustin Brown&quot;</td><td>1</td><td>&quot;1st Round&quot;</td><td>&quot;ROLAND GARROS&quot;</td><td>&quot;Grand Slam&quot;</td><td>66</td></tr><tr><td>239</td><td>&quot;Gilles Muller&quot;</td><td>1</td><td>&quot;3rd Round&quot;</td><td>&quot;COUPE ROGERS&quot;</td><td>&quot;Masters 1000&quot;</td><td>3</td></tr><tr><td>191</td><td>&quot;Jack Sock&quot;</td><td>1</td><td>&quot;Quarterfinals&quot;</td><td>&quot;CHINA OPEN&quot;</td><td>&quot;ATP500&quot;</td><td>8</td></tr><tr><td>15</td><td>&quot;Alexandr Dolgo…</td><td>0</td><td>&quot;1st Round&quot;</td><td>&quot;AEGON CHAMPION…</td><td>&quot;ATP500&quot;</td><td>10</td></tr><tr><td>991</td><td>&quot;Venus Williams…</td><td>1</td><td>&quot;Semifinals&quot;</td><td>&quot;U.S. OPEN&quot;</td><td>&quot;Grand Slam&quot;</td><td>1</td></tr></tbody></table></div>"
      ],
      "text/plain": [
       "shape: (6_467, 7)\n",
       "┌──────────────┬─────────────┬─────────────┬─────────────┬─────────────┬─────────────┬─────────────┐\n",
       "│ meta.match_i ┆ meta.oppone ┆ meta.result ┆ meta.stage  ┆ meta.tourna ┆ meta.tourna ┆ meta.player │\n",
       "│ d            ┆ nt          ┆ ---         ┆ ---         ┆ ment        ┆ ment_type   ┆ _ranking    │\n",
       "│ ---          ┆ ---         ┆ i64         ┆ str         ┆ ---         ┆ ---         ┆ ---         │\n",
       "│ i64          ┆ str         ┆             ┆             ┆ str         ┆ str         ┆ i64         │\n",
       "╞══════════════╪═════════════╪═════════════╪═════════════╪═════════════╪═════════════╪═════════════╡\n",
       "│ 336          ┆ Dominic     ┆ 1           ┆ Quarterfina ┆ MIAMI OPEN  ┆ Masters     ┆ 4           │\n",
       "│              ┆ Thiem       ┆             ┆ ls          ┆ PRESENTED   ┆ 1000        ┆             │\n",
       "│              ┆             ┆             ┆             ┆ BY ITAU     ┆             ┆             │\n",
       "│ 608          ┆ null        ┆ 1           ┆ 2nd Round   ┆ WIMBLEDON   ┆ Grand Slam  ┆ 4           │\n",
       "│ 5936         ┆ null        ┆ 1           ┆ 1st Round   ┆ DUBAI DUTY  ┆ Premier     ┆ 7           │\n",
       "│              ┆             ┆             ┆             ┆ FREE TENNIS ┆             ┆             │\n",
       "│              ┆             ┆             ┆             ┆ CHAMPIONS…  ┆             ┆             │\n",
       "│ 4848         ┆ Rafael      ┆ 0           ┆ Round Robin ┆ BARCLAYS    ┆ Masters Cup ┆ 6           │\n",
       "│              ┆ Nadal       ┆             ┆             ┆ ATP WORLD   ┆             ┆             │\n",
       "│              ┆             ┆             ┆             ┆ TOUR FINALS ┆             ┆             │\n",
       "│ …            ┆ …           ┆ …           ┆ …           ┆ …           ┆ …           ┆ …           │\n",
       "│ 239          ┆ Gilles      ┆ 1           ┆ 3rd Round   ┆ COUPE       ┆ Masters     ┆ 3           │\n",
       "│              ┆ Muller      ┆             ┆             ┆ ROGERS      ┆ 1000        ┆             │\n",
       "│ 191          ┆ Jack Sock   ┆ 1           ┆ Quarterfina ┆ CHINA OPEN  ┆ ATP500      ┆ 8           │\n",
       "│              ┆             ┆             ┆ ls          ┆             ┆             ┆             │\n",
       "│ 15           ┆ Alexandr    ┆ 0           ┆ 1st Round   ┆ AEGON CHAMP ┆ ATP500      ┆ 10          │\n",
       "│              ┆ Dolgopolov  ┆             ┆             ┆ IONSHIPS    ┆             ┆             │\n",
       "│ 991          ┆ Venus       ┆ 1           ┆ Semifinals  ┆ U.S. OPEN   ┆ Grand Slam  ┆ 1           │\n",
       "│              ┆ Williams    ┆             ┆             ┆             ┆             ┆             │\n",
       "└──────────────┴─────────────┴─────────────┴─────────────┴─────────────┴─────────────┴─────────────┘"
      ]
     },
     "execution_count": 106,
     "metadata": {},
     "output_type": "execute_result"
    }
   ],
   "source": [
    "match"
   ]
  },
  {
   "cell_type": "code",
   "execution_count": 128,
   "metadata": {},
   "outputs": [
    {
     "data": {
      "text/plain": [
       "array([ True, False,  True, ...,  True,  True,  True])"
      ]
     },
     "execution_count": 128,
     "metadata": {},
     "output_type": "execute_result"
    }
   ],
   "source": [
    "win_array = np.zeros(NUM_DOCS, dtype=bool)\n",
    "for row in match.select([\"meta.match_id\", \"meta.result\"]).rows():\n",
    "    match_id = row[0]\n",
    "    result = row[1]\n",
    "    win_array[match_id] = result\n",
    "win_array"
   ]
  },
  {
   "cell_type": "code",
   "execution_count": 112,
   "metadata": {},
   "outputs": [
    {
     "data": {
      "text/plain": [
       "6467"
      ]
     },
     "execution_count": 112,
     "metadata": {},
     "output_type": "execute_result"
    }
   ],
   "source": [
    "NUM_DOCS"
   ]
  },
  {
   "cell_type": "code",
   "execution_count": 74,
   "metadata": {},
   "outputs": [],
   "source": [
    "class Indexer:\n",
    "    def __init__(self):\n",
    "        self.token_to_idx = {}\n",
    "        self.idx_to_token = {}\n",
    "\n",
    "    def to_token(self, x):\n",
    "        return self.idx_to_token[x]\n",
    "    \n",
    "    def to_idx(self, token):\n",
    "        if token in self.token_to_idx:\n",
    "            return self.token_to_idx[token]\n",
    "        else:\n",
    "            length = len(self.token_to_idx)\n",
    "            self.idx_to_token[length] = token\n",
    "            self.token_to_idx[token] = length\n",
    "            return length\n",
    "        \n",
    "    def token_count(self):\n",
    "        return len(self.token_to_idx)"
   ]
  },
  {
   "cell_type": "code",
   "execution_count": 103,
   "metadata": {},
   "outputs": [],
   "source": [
    "stops = set(stopwords.words('english'))\n",
    "wnl = WordNetLemmatizer()\n",
    "stops.add(\",\")\n",
    "stops.add(\".\")\n",
    "indexer = Indexer()\n",
    "row_idx = [] # Document\n",
    "col_idx = [] # Term\n",
    "data = [] # Count\n",
    "# print(len(stops))\n",
    "for group in df.select([\"text\", \"conversation\"]).group_by(by=\"conversation\"):\n",
    "    conv_id = group[0]\n",
    "    text = group[1].get_column(\"text\").str.concat(\"\\n\")\n",
    "    tokens = [token.lower() for token in word_tokenize(text[0]) if token not in stops]\n",
    "\n",
    "    pos = nltk.pos_tag(tokens)\n",
    "    pos = ['v' if x[1][0] == \"V\" else 'n' for x in pos]\n",
    "\n",
    "    tokens = [wnl.lemmatize(token.lower(), pos=p) for token, p in zip(tokens, pos)]\n",
    "    idxs = [indexer.to_idx(token) for token in tokens]\n",
    "    counter = Counter(idxs)\n",
    "    for k, v in counter.items():\n",
    "        col_idx.append(k)\n",
    "        data.append(v)\n",
    "        row_idx.append(conv_id)\n",
    "\n",
    "term_doc = csc_array((data, (row_idx, col_idx)), shape=(NUM_DOCS, indexer.token_count()))"
   ]
  },
  {
   "cell_type": "code",
   "execution_count": 132,
   "metadata": {},
   "outputs": [],
   "source": [
    "NUM_TERMS = indexer.token_count()"
   ]
  },
  {
   "cell_type": "code",
   "execution_count": 133,
   "metadata": {},
   "outputs": [
    {
     "data": {
      "text/plain": [
       "[0.26307902365813085,\n",
       " 0.38683437065794024,\n",
       " 2.315695179599997,\n",
       " 0.8608141746848155,\n",
       " 0.18898474637695983,\n",
       " 0.034542349734891786,\n",
       " 4.6588808950478775,\n",
       " 1.2510820448259032,\n",
       " 0.4805272715349851,\n",
       " 0.49586025546708434]"
      ]
     },
     "execution_count": 133,
     "metadata": {},
     "output_type": "execute_result"
    }
   ],
   "source": [
    "idx_offset = math.log2(NUM_DOCS)\n",
    "idf = [idx_offset - math.log2(term_doc.getcol(idx).count_nonzero()) for idx in range(NUM_TERMS)]\n",
    "idf[0:10]"
   ]
  },
  {
   "cell_type": "code",
   "execution_count": 175,
   "metadata": {},
   "outputs": [
    {
     "data": {
      "text/plain": [
       "(21689,)"
      ]
     },
     "execution_count": 175,
     "metadata": {},
     "output_type": "execute_result"
    }
   ],
   "source": [
    "idf.shape"
   ]
  },
  {
   "cell_type": "code",
   "execution_count": 177,
   "metadata": {},
   "outputs": [],
   "source": [
    "data_idf = [x * idf[f] for x, f in zip(data, col_idx)]\n",
    "term_doc_idf = csc_array((data_idf, (row_idx, col_idx)), shape=(NUM_DOCS, indexer.token_count()))"
   ]
  },
  {
   "cell_type": "code",
   "execution_count": 149,
   "metadata": {},
   "outputs": [
    {
     "data": {
      "text/plain": [
       "array([0.26307902, 0.38683437, 2.31569518, 0.86081417, 0.18898475,\n",
       "       0.03454235, 4.6588809 , 1.25108204, 0.48052727, 0.49586026])"
      ]
     },
     "execution_count": 149,
     "metadata": {},
     "output_type": "execute_result"
    }
   ],
   "source": [
    "idf = np.array(idf)\n",
    "idf[0:10]"
   ]
  },
  {
   "cell_type": "code",
   "execution_count": 151,
   "metadata": {},
   "outputs": [
    {
     "data": {
      "text/plain": [
       "21689"
      ]
     },
     "execution_count": 151,
     "metadata": {},
     "output_type": "execute_result"
    }
   ],
   "source": [
    "len(idf)"
   ]
  },
  {
   "cell_type": "code",
   "execution_count": 173,
   "metadata": {},
   "outputs": [
    {
     "data": {
      "text/plain": [
       "<4398x1 sparse array of type '<class 'numpy.float64'>'\n",
       "\twith 3746 stored elements in Compressed Sparse Column format>"
      ]
     },
     "execution_count": 173,
     "metadata": {},
     "output_type": "execute_result"
    }
   ],
   "source": [
    "term_doc.getcol(0)[win_array] * idf[0]"
   ]
  },
  {
   "cell_type": "code",
   "execution_count": 174,
   "metadata": {},
   "outputs": [
    {
     "data": {
      "text/plain": [
       "array([9, 7, 7, ..., 1, 1, 1])"
      ]
     },
     "execution_count": 174,
     "metadata": {},
     "output_type": "execute_result"
    }
   ],
   "source": [
    "term_doc.data"
   ]
  },
  {
   "cell_type": "code",
   "execution_count": 172,
   "metadata": {},
   "outputs": [
    {
     "data": {
      "text/plain": [
       "array([ 0.26307902,  0.38683437,  2.31569518, ..., 12.6588809 ,\n",
       "       12.6588809 , 12.6588809 ])"
      ]
     },
     "execution_count": 172,
     "metadata": {},
     "output_type": "execute_result"
    }
   ],
   "source": [
    "idf"
   ]
  },
  {
   "cell_type": "code",
   "execution_count": 155,
   "metadata": {},
   "outputs": [],
   "source": [
    "def get_log_prob(class_mask, idf=None):\n",
    "    term_count = []\n",
    "    total = 0\n",
    "    if idf is None: \n",
    "        idf = np.ones(NUM_TERMS)\n",
    "    for t_idx in range(NUM_TERMS):\n",
    "        count = 1 + term_doc.getcol(t_idx)[class_mask].sum()\n",
    "        count *= idf[t_idx]\n",
    "        term_count.append(count)\n",
    "        total += count\n",
    "    return np.array([math.log2(tc / total) for tc in term_count])\n",
    "win_prob = get_log_prob(win_array, idf=idf)\n",
    "loss_prob = get_log_prob(~win_array, idf=idf)"
   ]
  },
  {
   "cell_type": "code",
   "execution_count": 156,
   "metadata": {},
   "outputs": [],
   "source": [
    "sort_indices = (win_prob - loss_prob).argsort()"
   ]
  },
  {
   "cell_type": "code",
   "execution_count": 160,
   "metadata": {},
   "outputs": [
    {
     "data": {
      "text/plain": [
       "['qubec',\n",
       " 'anesthesia',\n",
       " 'latvian',\n",
       " 'provincial',\n",
       " 'weil',\n",
       " 'umpiring',\n",
       " 'barty',\n",
       " 'footfault',\n",
       " 'plateau',\n",
       " 'risen']"
      ]
     },
     "execution_count": 160,
     "metadata": {},
     "output_type": "execute_result"
    }
   ],
   "source": [
    "loss_words = [indexer.to_token(x) for x in sort_indices[0:10]]\n",
    "loss_words"
   ]
  },
  {
   "cell_type": "code",
   "execution_count": 159,
   "metadata": {},
   "outputs": [
    {
     "data": {
      "text/plain": [
       "['overrate',\n",
       " 'suarez',\n",
       " 'lpez',\n",
       " 'nasty',\n",
       " 'gil',\n",
       " 'playstation',\n",
       " 'van',\n",
       " 'antidoping',\n",
       " 'karaoke',\n",
       " 'no.1s']"
      ]
     },
     "execution_count": 159,
     "metadata": {},
     "output_type": "execute_result"
    }
   ],
   "source": [
    "win_words = [indexer.to_token(x) for x in sort_indices[-10:]]\n",
    "win_words"
   ]
  },
  {
   "cell_type": "code",
   "execution_count": 178,
   "metadata": {},
   "outputs": [],
   "source": [
    "assert(term_doc.shape[0] == NUM_DOCS)\n",
    "assert(term_doc.shape[1] == NUM_TERMS)\n",
    "gensim_corpus = Sparse2Corpus(term_doc_idf, documents_columns=False)"
   ]
  },
  {
   "cell_type": "code",
   "execution_count": 179,
   "metadata": {},
   "outputs": [],
   "source": [
    "lda = LdaModel(gensim_corpus, num_topics=4, id2word=indexer.idx_to_token, passes=10)"
   ]
  },
  {
   "cell_type": "code",
   "execution_count": 180,
   "metadata": {},
   "outputs": [
    {
     "data": {
      "text/plain": [
       "[(0,\n",
       "  '0.002*\"sport\" + 0.002*\"coach\" + 0.002*\"people\" + 0.002*\"money\" + 0.002*\"british\" + 0.002*\"centre\" + 0.002*\"\\'ve\" + 0.002*\"definitely\" + 0.002*\"learn\" + 0.002*\"life\"'),\n",
       " (1,\n",
       "  '0.003*\"course\" + 0.003*\"clay\" + 0.003*\"difficult\" + 0.003*\"final\" + 0.003*\"grass\" + 0.003*\"season\" + 0.003*\"he\" + 0.002*\"important\" + 0.002*\"roland\" + 0.002*\"garros\"'),\n",
       " (2,\n",
       "  '0.005*\"guy\" + 0.004*\"sort\" + 0.003*\"obviously\" + 0.003*\"he\" + 0.003*\"\\'ve\" + 0.002*\"pretty\" + 0.002*\"get\" + 0.002*\"mean\" + 0.002*\"serve\" + 0.002*\"hit\"'),\n",
       " (3,\n",
       "  '0.006*\"she\" + 0.005*\"serena\" + 0.003*\"definitely\" + 0.003*\"--\" + 0.003*\"venus\" + 0.003*\"girl\" + 0.002*\"kind\" + 0.002*\"love\" + 0.002*\"uhm\" + 0.002*\"oh\"')]"
      ]
     },
     "execution_count": 180,
     "metadata": {},
     "output_type": "execute_result"
    }
   ],
   "source": [
    "# Personal Details, Court/Surface, Men's Tennis, Women's Tennis\n",
    "lda.show_topics()"
   ]
  }
 ],
 "metadata": {
  "kernelspec": {
   "display_name": "nlp",
   "language": "python",
   "name": "python3"
  },
  "language_info": {
   "codemirror_mode": {
    "name": "ipython",
    "version": 3
   },
   "file_extension": ".py",
   "mimetype": "text/x-python",
   "name": "python",
   "nbconvert_exporter": "python",
   "pygments_lexer": "ipython3",
   "version": "3.8.16"
  }
 },
 "nbformat": 4,
 "nbformat_minor": 2
}
