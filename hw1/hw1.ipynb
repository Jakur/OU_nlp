{
 "cells": [
  {
   "cell_type": "code",
   "execution_count": 105,
   "metadata": {},
   "outputs": [],
   "source": [
    "import math \n",
    "from convokit import Corpus, download\n",
    "import polars as pl\n",
    "import pandas as pd\n",
    "import numpy as np\n",
    "import nltk\n",
    "from collections import defaultdict, Counter\n",
    "from nltk.tokenize import word_tokenize\n",
    "from nltk.corpus import stopwords\n",
    "from nltk.stem import WordNetLemmatizer\n",
    "from scipy.sparse import csc_array\n",
    "from gensim.models.ldamodel import LdaModel\n",
    "from gensim.matutils import Sparse2Corpus\n",
    "\n",
    "EXPORT_TABLES = False"
   ]
  },
  {
   "cell_type": "code",
   "execution_count": 2,
   "metadata": {},
   "outputs": [
    {
     "name": "stderr",
     "output_type": "stream",
     "text": [
      "[nltk_data] Downloading package punkt to /home/justin/nltk_data...\n",
      "[nltk_data]   Package punkt is already up-to-date!\n",
      "[nltk_data] Downloading package stopwords to /home/justin/nltk_data...\n",
      "[nltk_data]   Package stopwords is already up-to-date!\n",
      "[nltk_data] Downloading package wordnet to /home/justin/nltk_data...\n",
      "[nltk_data]   Package wordnet is already up-to-date!\n",
      "[nltk_data] Downloading package averaged_perceptron_tagger to\n",
      "[nltk_data]     /home/justin/nltk_data...\n",
      "[nltk_data]   Package averaged_perceptron_tagger is already up-to-\n",
      "[nltk_data]       date!\n"
     ]
    },
    {
     "data": {
      "text/plain": [
       "True"
      ]
     },
     "execution_count": 2,
     "metadata": {},
     "output_type": "execute_result"
    }
   ],
   "source": [
    "nltk.download('punkt')\n",
    "nltk.download('stopwords')\n",
    "nltk.download('wordnet')\n",
    "nltk.download('averaged_perceptron_tagger')"
   ]
  },
  {
   "cell_type": "code",
   "execution_count": 3,
   "metadata": {},
   "outputs": [
    {
     "name": "stdout",
     "output_type": "stream",
     "text": [
      "Dataset already exists at /home/justin/.convokit/downloads/tennis-corpus\n"
     ]
    }
   ],
   "source": [
    "corpus = Corpus(filename=download(\"tennis-corpus\"))"
   ]
  },
  {
   "cell_type": "code",
   "execution_count": 4,
   "metadata": {},
   "outputs": [
    {
     "data": {
      "text/html": [
       "<div><style>\n",
       ".dataframe > thead > tr > th,\n",
       ".dataframe > tbody > tr > td {\n",
       "  text-align: right;\n",
       "  white-space: pre-wrap;\n",
       "}\n",
       "</style>\n",
       "<small>shape: (5, 3)</small><table border=\"1\" class=\"dataframe\"><thead><tr><th>id</th><th>vectors</th><th>meta.gender</th></tr><tr><td>str</td><td>list[null]</td><td>str</td></tr></thead><tbody><tr><td>&quot;REPORTER&quot;</td><td>[]</td><td>null</td></tr><tr><td>&quot;Kei Nishikori&quot;</td><td>[]</td><td>&quot;M&quot;</td></tr><tr><td>&quot;Sergiy Stakhov…</td><td>[]</td><td>&quot;M&quot;</td></tr><tr><td>&quot;Jelena Jankovi…</td><td>[]</td><td>&quot;F&quot;</td></tr><tr><td>&quot;Fernando Verda…</td><td>[]</td><td>&quot;M&quot;</td></tr></tbody></table></div>"
      ],
      "text/plain": [
       "shape: (5, 3)\n",
       "┌───────────────────┬────────────┬─────────────┐\n",
       "│ id                ┆ vectors    ┆ meta.gender │\n",
       "│ ---               ┆ ---        ┆ ---         │\n",
       "│ str               ┆ list[null] ┆ str         │\n",
       "╞═══════════════════╪════════════╪═════════════╡\n",
       "│ REPORTER          ┆ []         ┆ null        │\n",
       "│ Kei Nishikori     ┆ []         ┆ M           │\n",
       "│ Sergiy Stakhovsky ┆ []         ┆ M           │\n",
       "│ Jelena Jankovic   ┆ []         ┆ F           │\n",
       "│ Fernando Verdasco ┆ []         ┆ M           │\n",
       "└───────────────────┴────────────┴─────────────┘"
      ]
     },
     "execution_count": 4,
     "metadata": {},
     "output_type": "execute_result"
    }
   ],
   "source": [
    "speakers = pl.from_pandas(corpus.get_speakers_dataframe(), include_index=True)\n",
    "speakers.head()"
   ]
  },
  {
   "cell_type": "code",
   "execution_count": 5,
   "metadata": {},
   "outputs": [
    {
     "data": {
      "text/html": [
       "<div><style>\n",
       ".dataframe > thead > tr > th,\n",
       ".dataframe > tbody > tr > td {\n",
       "  text-align: right;\n",
       "  white-space: pre-wrap;\n",
       "}\n",
       "</style>\n",
       "<small>shape: (5, 8)</small><table border=\"1\" class=\"dataframe\"><thead><tr><th>timestamp</th><th>text</th><th>speaker</th><th>reply_to</th><th>conversation_id</th><th>meta.is_answer</th><th>meta.is_question</th><th>meta.pair_idx</th></tr><tr><td>datetime[μs]</td><td>str</td><td>str</td><td>str</td><td>str</td><td>bool</td><td>bool</td><td>str</td></tr></thead><tbody><tr><td>2008-08-28 00:00:00</td><td>&quot;I think this i…</td><td>&quot;REPORTER&quot;</td><td>null</td><td>&quot;1681_0.q&quot;</td><td>false</td><td>true</td><td>&quot;1681_0&quot;</td></tr><tr><td>2008-08-28 00:00:00</td><td>&quot;Yeah.&quot;</td><td>&quot;Kei Nishikori&quot;</td><td>&quot;1681_0.q&quot;</td><td>&quot;1681_0.q&quot;</td><td>true</td><td>false</td><td>&quot;1681_0&quot;</td></tr><tr><td>2008-08-28 00:00:00</td><td>&quot;How would you …</td><td>&quot;REPORTER&quot;</td><td>null</td><td>&quot;1681_1.q&quot;</td><td>false</td><td>true</td><td>&quot;1681_1&quot;</td></tr><tr><td>2008-08-28 00:00:00</td><td>&quot;Yeah, I&#x27;m pret…</td><td>&quot;Kei Nishikori&quot;</td><td>&quot;1681_1.q&quot;</td><td>&quot;1681_1.q&quot;</td><td>true</td><td>false</td><td>&quot;1681_1&quot;</td></tr><tr><td>2008-08-28 00:00:00</td><td>&quot;Do you know wh…</td><td>&quot;REPORTER&quot;</td><td>null</td><td>&quot;1681_2.q&quot;</td><td>false</td><td>true</td><td>&quot;1681_2&quot;</td></tr></tbody></table></div>"
      ],
      "text/plain": [
       "shape: (5, 8)\n",
       "┌────────────┬────────────┬────────────┬──────────┬────────────┬───────────┬───────────┬───────────┐\n",
       "│ timestamp  ┆ text       ┆ speaker    ┆ reply_to ┆ conversati ┆ meta.is_a ┆ meta.is_q ┆ meta.pair │\n",
       "│ ---        ┆ ---        ┆ ---        ┆ ---      ┆ on_id      ┆ nswer     ┆ uestion   ┆ _idx      │\n",
       "│ datetime[μ ┆ str        ┆ str        ┆ str      ┆ ---        ┆ ---       ┆ ---       ┆ ---       │\n",
       "│ s]         ┆            ┆            ┆          ┆ str        ┆ bool      ┆ bool      ┆ str       │\n",
       "╞════════════╪════════════╪════════════╪══════════╪════════════╪═══════════╪═══════════╪═══════════╡\n",
       "│ 2008-08-28 ┆ I think    ┆ REPORTER   ┆ null     ┆ 1681_0.q   ┆ false     ┆ true      ┆ 1681_0    │\n",
       "│ 00:00:00   ┆ this is    ┆            ┆          ┆            ┆           ┆           ┆           │\n",
       "│            ┆ your       ┆            ┆          ┆            ┆           ┆           ┆           │\n",
       "│            ┆ biggest    ┆            ┆          ┆            ┆           ┆           ┆           │\n",
       "│            ┆ suc…       ┆            ┆          ┆            ┆           ┆           ┆           │\n",
       "│ 2008-08-28 ┆ Yeah.      ┆ Kei        ┆ 1681_0.q ┆ 1681_0.q   ┆ true      ┆ false     ┆ 1681_0    │\n",
       "│ 00:00:00   ┆            ┆ Nishikori  ┆          ┆            ┆           ┆           ┆           │\n",
       "│ 2008-08-28 ┆ How would  ┆ REPORTER   ┆ null     ┆ 1681_1.q   ┆ false     ┆ true      ┆ 1681_1    │\n",
       "│ 00:00:00   ┆ you        ┆            ┆          ┆            ┆           ┆           ┆           │\n",
       "│            ┆ describe   ┆            ┆          ┆            ┆           ┆           ┆           │\n",
       "│            ┆ it? Is it… ┆            ┆          ┆            ┆           ┆           ┆           │\n",
       "│ 2008-08-28 ┆ Yeah, I'm  ┆ Kei        ┆ 1681_1.q ┆ 1681_1.q   ┆ true      ┆ false     ┆ 1681_1    │\n",
       "│ 00:00:00   ┆ pretty     ┆ Nishikori  ┆          ┆            ┆           ┆           ┆           │\n",
       "│            ┆ happy, but ┆            ┆          ┆            ┆           ┆           ┆           │\n",
       "│            ┆ it w…      ┆            ┆          ┆            ┆           ┆           ┆           │\n",
       "│ 2008-08-28 ┆ Do you     ┆ REPORTER   ┆ null     ┆ 1681_2.q   ┆ false     ┆ true      ┆ 1681_2    │\n",
       "│ 00:00:00   ┆ know why   ┆            ┆          ┆            ┆           ┆           ┆           │\n",
       "│            ┆ he has     ┆            ┆          ┆            ┆           ┆           ┆           │\n",
       "│            ┆ retired?   ┆            ┆          ┆            ┆           ┆           ┆           │\n",
       "└────────────┴────────────┴────────────┴──────────┴────────────┴───────────┴───────────┴───────────┘"
      ]
     },
     "execution_count": 5,
     "metadata": {},
     "output_type": "execute_result"
    }
   ],
   "source": [
    "df = pl.from_pandas(corpus.get_utterances_dataframe())\n",
    "df = df.with_columns(pl.col(\"timestamp\").str.strptime(pl.Datetime, \"%Y-%m-%d\"))\n",
    "df = df.drop(\"vectors\")\n",
    "df.head()"
   ]
  },
  {
   "cell_type": "code",
   "execution_count": 6,
   "metadata": {},
   "outputs": [
    {
     "data": {
      "text/plain": [
       "6467"
      ]
     },
     "execution_count": 6,
     "metadata": {},
     "output_type": "execute_result"
    }
   ],
   "source": [
    "df = df.with_columns(pl.col(\"meta.pair_idx\").str.split(\"_\").list.first().str.parse_int(radix=10).alias(\"conversation\"))\n",
    "NUM_DOCS = 1 + df.get_column(\"conversation\").max()\n",
    "NUM_DOCS"
   ]
  },
  {
   "cell_type": "code",
   "execution_count": 7,
   "metadata": {},
   "outputs": [
    {
     "data": {
      "text/html": [
       "<div><style>\n",
       ".dataframe > thead > tr > th,\n",
       ".dataframe > tbody > tr > td {\n",
       "  text-align: right;\n",
       "  white-space: pre-wrap;\n",
       "}\n",
       "</style>\n",
       "<small>shape: (5, 7)</small><table border=\"1\" class=\"dataframe\"><thead><tr><th>meta.match_id</th><th>meta.opponent</th><th>meta.result</th><th>meta.stage</th><th>meta.tournament</th><th>meta.tournament_type</th><th>meta.player_ranking</th></tr><tr><td>i64</td><td>str</td><td>i64</td><td>str</td><td>str</td><td>str</td><td>i64</td></tr></thead><tbody><tr><td>1681</td><td>null</td><td>1</td><td>&quot;2nd Round&quot;</td><td>&quot;U.S. OPEN&quot;</td><td>&quot;Grand Slam&quot;</td><td>126</td></tr><tr><td>1681</td><td>null</td><td>1</td><td>&quot;2nd Round&quot;</td><td>&quot;U.S. OPEN&quot;</td><td>&quot;Grand Slam&quot;</td><td>126</td></tr><tr><td>1681</td><td>null</td><td>1</td><td>&quot;2nd Round&quot;</td><td>&quot;U.S. OPEN&quot;</td><td>&quot;Grand Slam&quot;</td><td>126</td></tr><tr><td>1681</td><td>null</td><td>1</td><td>&quot;2nd Round&quot;</td><td>&quot;U.S. OPEN&quot;</td><td>&quot;Grand Slam&quot;</td><td>126</td></tr><tr><td>1681</td><td>null</td><td>1</td><td>&quot;2nd Round&quot;</td><td>&quot;U.S. OPEN&quot;</td><td>&quot;Grand Slam&quot;</td><td>126</td></tr></tbody></table></div>"
      ],
      "text/plain": [
       "shape: (5, 7)\n",
       "┌──────────────┬──────────────┬─────────────┬────────────┬─────────────┬─────────────┬─────────────┐\n",
       "│ meta.match_i ┆ meta.opponen ┆ meta.result ┆ meta.stage ┆ meta.tourna ┆ meta.tourna ┆ meta.player │\n",
       "│ d            ┆ t            ┆ ---         ┆ ---        ┆ ment        ┆ ment_type   ┆ _ranking    │\n",
       "│ ---          ┆ ---          ┆ i64         ┆ str        ┆ ---         ┆ ---         ┆ ---         │\n",
       "│ i64          ┆ str          ┆             ┆            ┆ str         ┆ str         ┆ i64         │\n",
       "╞══════════════╪══════════════╪═════════════╪════════════╪═════════════╪═════════════╪═════════════╡\n",
       "│ 1681         ┆ null         ┆ 1           ┆ 2nd Round  ┆ U.S. OPEN   ┆ Grand Slam  ┆ 126         │\n",
       "│ 1681         ┆ null         ┆ 1           ┆ 2nd Round  ┆ U.S. OPEN   ┆ Grand Slam  ┆ 126         │\n",
       "│ 1681         ┆ null         ┆ 1           ┆ 2nd Round  ┆ U.S. OPEN   ┆ Grand Slam  ┆ 126         │\n",
       "│ 1681         ┆ null         ┆ 1           ┆ 2nd Round  ┆ U.S. OPEN   ┆ Grand Slam  ┆ 126         │\n",
       "│ 1681         ┆ null         ┆ 1           ┆ 2nd Round  ┆ U.S. OPEN   ┆ Grand Slam  ┆ 126         │\n",
       "└──────────────┴──────────────┴─────────────┴────────────┴─────────────┴─────────────┴─────────────┘"
      ]
     },
     "execution_count": 7,
     "metadata": {},
     "output_type": "execute_result"
    }
   ],
   "source": [
    "match = pl.from_pandas(corpus.get_conversations_dataframe())\n",
    "match = match.drop(\"vectors\")\n",
    "match.head()"
   ]
  },
  {
   "cell_type": "code",
   "execution_count": 8,
   "metadata": {},
   "outputs": [],
   "source": [
    "match = match.unique(\"meta.match_id\")"
   ]
  },
  {
   "cell_type": "code",
   "execution_count": 9,
   "metadata": {},
   "outputs": [
    {
     "data": {
      "text/html": [
       "<div><style>\n",
       ".dataframe > thead > tr > th,\n",
       ".dataframe > tbody > tr > td {\n",
       "  text-align: right;\n",
       "  white-space: pre-wrap;\n",
       "}\n",
       "</style>\n",
       "<small>shape: (9, 2)</small><table border=\"1\" class=\"dataframe\"><thead><tr><th>meta.opponent</th><th>counts</th></tr><tr><td>str</td><td>u32</td></tr></thead><tbody><tr><td>null</td><td>940</td></tr><tr><td>&quot;Novak Djokovic…</td><td>178</td></tr><tr><td>&quot;Roger Federer&quot;</td><td>162</td></tr><tr><td>&quot;Rafael Nadal&quot;</td><td>157</td></tr><tr><td>&quot;Andy Murray&quot;</td><td>153</td></tr><tr><td>&quot;Serena William…</td><td>124</td></tr><tr><td>&quot;Caroline Wozni…</td><td>95</td></tr><tr><td>&quot;Agnieszka Radw…</td><td>87</td></tr><tr><td>&quot;Tomas Berdych&quot;</td><td>86</td></tr></tbody></table></div>"
      ],
      "text/plain": [
       "shape: (9, 2)\n",
       "┌─────────────────────┬────────┐\n",
       "│ meta.opponent       ┆ counts │\n",
       "│ ---                 ┆ ---    │\n",
       "│ str                 ┆ u32    │\n",
       "╞═════════════════════╪════════╡\n",
       "│ null                ┆ 940    │\n",
       "│ Novak Djokovic      ┆ 178    │\n",
       "│ Roger Federer       ┆ 162    │\n",
       "│ Rafael Nadal        ┆ 157    │\n",
       "│ Andy Murray         ┆ 153    │\n",
       "│ Serena Williams     ┆ 124    │\n",
       "│ Caroline Wozniacki  ┆ 95     │\n",
       "│ Agnieszka Radwanska ┆ 87     │\n",
       "│ Tomas Berdych       ┆ 86     │\n",
       "└─────────────────────┴────────┘"
      ]
     },
     "execution_count": 9,
     "metadata": {},
     "output_type": "execute_result"
    }
   ],
   "source": [
    "match.get_column(\"meta.opponent\").value_counts(sort=True).head(9)"
   ]
  },
  {
   "cell_type": "code",
   "execution_count": 10,
   "metadata": {},
   "outputs": [
    {
     "data": {
      "text/plain": [
       "array([ True, False,  True, ...,  True,  True,  True])"
      ]
     },
     "execution_count": 10,
     "metadata": {},
     "output_type": "execute_result"
    }
   ],
   "source": [
    "win_array = np.zeros(NUM_DOCS, dtype=bool)\n",
    "for row in match.select([\"meta.match_id\", \"meta.result\"]).rows():\n",
    "    match_id = row[0]\n",
    "    result = row[1]\n",
    "    win_array[match_id] = result\n",
    "win_array"
   ]
  },
  {
   "cell_type": "code",
   "execution_count": 74,
   "metadata": {},
   "outputs": [
    {
     "data": {
      "text/plain": [
       "6467"
      ]
     },
     "execution_count": 74,
     "metadata": {},
     "output_type": "execute_result"
    }
   ],
   "source": [
    "NUM_DOCS"
   ]
  },
  {
   "cell_type": "code",
   "execution_count": 12,
   "metadata": {},
   "outputs": [],
   "source": [
    "class Indexer:\n",
    "    def __init__(self):\n",
    "        self.token_to_idx = {}\n",
    "        self.idx_to_token = {}\n",
    "\n",
    "    def to_token(self, x):\n",
    "        return self.idx_to_token[x]\n",
    "    \n",
    "    def to_idx(self, token):\n",
    "        if token in self.token_to_idx:\n",
    "            return self.token_to_idx[token]\n",
    "        else:\n",
    "            length = len(self.token_to_idx)\n",
    "            self.idx_to_token[length] = token\n",
    "            self.token_to_idx[token] = length\n",
    "            return length\n",
    "        \n",
    "    def token_count(self):\n",
    "        return len(self.token_to_idx)"
   ]
  },
  {
   "cell_type": "code",
   "execution_count": 13,
   "metadata": {},
   "outputs": [],
   "source": [
    "stops = set(stopwords.words('english'))\n",
    "wnl = WordNetLemmatizer()\n",
    "stops.add(\",\")\n",
    "stops.add(\".\")\n",
    "stops.add(\"(\")\n",
    "stops.add(\")\")\n",
    "stops.add(\"--\")\n",
    "indexer = Indexer()\n",
    "row_idx = [] # Document\n",
    "col_idx = [] # Term\n",
    "data = [] # Count\n",
    "# print(len(stops))\n",
    "for group in df.select([\"text\", \"conversation\"]).group_by(by=\"conversation\"):\n",
    "    conv_id = group[0]\n",
    "    text = group[1].get_column(\"text\").str.concat(\"\\n\")\n",
    "    tokens = [token.lower() for token in word_tokenize(text[0]) if token not in stops]\n",
    "\n",
    "    pos = nltk.pos_tag(tokens)\n",
    "    pos = ['v' if x[1][0] == \"V\" else 'n' for x in pos]\n",
    "\n",
    "    tokens = [wnl.lemmatize(token.lower(), pos=p) for token, p in zip(tokens, pos)]\n",
    "    idxs = [indexer.to_idx(token) for token in tokens]\n",
    "    counter = Counter(idxs)\n",
    "    for k, v in counter.items():\n",
    "        col_idx.append(k)\n",
    "        data.append(v)\n",
    "        row_idx.append(conv_id)\n",
    "\n",
    "term_doc = csc_array((data, (row_idx, col_idx)), shape=(NUM_DOCS, indexer.token_count()))"
   ]
  },
  {
   "cell_type": "code",
   "execution_count": 45,
   "metadata": {},
   "outputs": [
    {
     "data": {
      "text/plain": [
       "21682"
      ]
     },
     "execution_count": 45,
     "metadata": {},
     "output_type": "execute_result"
    }
   ],
   "source": [
    "NUM_TERMS = indexer.token_count()\n",
    "NUM_TERMS"
   ]
  },
  {
   "cell_type": "code",
   "execution_count": 95,
   "metadata": {},
   "outputs": [
    {
     "name": "stderr",
     "output_type": "stream",
     "text": [
      "/tmp/ipykernel_17411/240542334.py:12: FutureWarning: In future versions `DataFrame.to_latex` is expected to utilise the base implementation of `Styler.to_latex` for formatting and rendering. The arguments signature may therefore change. It is recommended instead to use `DataFrame.style.to_latex` which also contains additional functionality.\n",
      "  corpus_info.to_latex(\"corpus.table\", index=False)\n"
     ]
    },
    {
     "data": {
      "text/html": [
       "<div>\n",
       "<style scoped>\n",
       "    .dataframe tbody tr th:only-of-type {\n",
       "        vertical-align: middle;\n",
       "    }\n",
       "\n",
       "    .dataframe tbody tr th {\n",
       "        vertical-align: top;\n",
       "    }\n",
       "\n",
       "    .dataframe thead th {\n",
       "        text-align: right;\n",
       "    }\n",
       "</style>\n",
       "<table border=\"1\" class=\"dataframe\">\n",
       "  <thead>\n",
       "    <tr style=\"text-align: right;\">\n",
       "      <th></th>\n",
       "      <th>Class Name</th>\n",
       "      <th>Document Count</th>\n",
       "      <th>Average Tokens / Doc</th>\n",
       "      <th>Std Tokens / Doc</th>\n",
       "    </tr>\n",
       "  </thead>\n",
       "  <tbody>\n",
       "    <tr>\n",
       "      <th>0</th>\n",
       "      <td>Win</td>\n",
       "      <td>4398</td>\n",
       "      <td>693.282401</td>\n",
       "      <td>358.090978</td>\n",
       "    </tr>\n",
       "    <tr>\n",
       "      <th>1</th>\n",
       "      <td>Loss</td>\n",
       "      <td>2069</td>\n",
       "      <td>569.201547</td>\n",
       "      <td>320.263525</td>\n",
       "    </tr>\n",
       "  </tbody>\n",
       "</table>\n",
       "</div>"
      ],
      "text/plain": [
       "  Class Name  Document Count  Average Tokens / Doc  Std Tokens / Doc\n",
       "0        Win            4398            693.282401        358.090978\n",
       "1       Loss            2069            569.201547        320.263525"
      ]
     },
     "execution_count": 95,
     "metadata": {},
     "output_type": "execute_result"
    }
   ],
   "source": [
    "records = []\n",
    "for mask, name in zip([win_array, ~win_array], [\"Win\", \"Loss\"]):\n",
    "    counts = term_doc[mask].sum(axis=1)\n",
    "    num_docs = len(counts)\n",
    "    mean = counts.mean()\n",
    "    std = counts.std()\n",
    "    record = {\"Class Name\": name, \"Document Count\": num_docs, \"Average Tokens / Doc\": mean, \"Std Tokens / Doc\": std}\n",
    "    records.append(record)\n",
    "\n",
    "corpus_info = pd.DataFrame.from_records(records)\n",
    "if EXPORT_TABLES:\n",
    "    corpus_info.to_latex(\"corpus.table\", index=False)\n",
    "corpus_info"
   ]
  },
  {
   "cell_type": "code",
   "execution_count": null,
   "metadata": {},
   "outputs": [],
   "source": []
  },
  {
   "cell_type": "code",
   "execution_count": 15,
   "metadata": {},
   "outputs": [
    {
     "data": {
      "text/plain": [
       "[0.08074411163312867,\n",
       " 0.21619652718204385,\n",
       " 3.226338994659619,\n",
       " 2.3168062270487386,\n",
       " 0.6624074063146494,\n",
       " 0.44425820874554134,\n",
       " 2.9741322746262515,\n",
       " 0.08003650348967462,\n",
       " 0.20947428006229707,\n",
       " 0.011872256606229925]"
      ]
     },
     "execution_count": 15,
     "metadata": {},
     "output_type": "execute_result"
    }
   ],
   "source": [
    "idx_offset = math.log2(NUM_DOCS)\n",
    "idf = [idx_offset - math.log2(term_doc.getcol(idx).count_nonzero()) for idx in range(NUM_TERMS)]\n",
    "idf[0:10]"
   ]
  },
  {
   "cell_type": "code",
   "execution_count": 16,
   "metadata": {},
   "outputs": [],
   "source": [
    "data_idf = [x * idf[f] for x, f in zip(data, col_idx)]\n",
    "term_doc_idf = csc_array((data_idf, (row_idx, col_idx)), shape=(NUM_DOCS, indexer.token_count()))"
   ]
  },
  {
   "cell_type": "code",
   "execution_count": 17,
   "metadata": {},
   "outputs": [
    {
     "data": {
      "text/plain": [
       "array([0.08074411, 0.21619653, 3.22633899, 2.31680623, 0.66240741,\n",
       "       0.44425821, 2.97413227, 0.0800365 , 0.20947428, 0.01187226])"
      ]
     },
     "execution_count": 17,
     "metadata": {},
     "output_type": "execute_result"
    }
   ],
   "source": [
    "idf = np.array(idf)\n",
    "idf[0:10]"
   ]
  },
  {
   "cell_type": "code",
   "execution_count": 18,
   "metadata": {},
   "outputs": [
    {
     "data": {
      "text/plain": [
       "21682"
      ]
     },
     "execution_count": 18,
     "metadata": {},
     "output_type": "execute_result"
    }
   ],
   "source": [
    "len(idf)"
   ]
  },
  {
   "cell_type": "code",
   "execution_count": 19,
   "metadata": {},
   "outputs": [
    {
     "data": {
      "text/plain": [
       "<4398x1 sparse array of type '<class 'numpy.float64'>'\n",
       "\twith 4202 stored elements in Compressed Sparse Column format>"
      ]
     },
     "execution_count": 19,
     "metadata": {},
     "output_type": "execute_result"
    }
   ],
   "source": [
    "term_doc.getcol(0)[win_array] * idf[0]"
   ]
  },
  {
   "cell_type": "code",
   "execution_count": 20,
   "metadata": {},
   "outputs": [
    {
     "data": {
      "text/plain": [
       "array([12, 15, 11, ...,  1,  1,  1])"
      ]
     },
     "execution_count": 20,
     "metadata": {},
     "output_type": "execute_result"
    }
   ],
   "source": [
    "term_doc.data"
   ]
  },
  {
   "cell_type": "code",
   "execution_count": 96,
   "metadata": {},
   "outputs": [
    {
     "data": {
      "text/plain": [
       "array([ 0.08074411,  0.21619653,  3.22633899, ..., 12.6588809 ,\n",
       "       12.6588809 , 12.6588809 ])"
      ]
     },
     "execution_count": 96,
     "metadata": {},
     "output_type": "execute_result"
    }
   ],
   "source": [
    "idf"
   ]
  },
  {
   "cell_type": "code",
   "execution_count": 44,
   "metadata": {},
   "outputs": [
    {
     "data": {
      "text/plain": [
       "(6467, 21682)"
      ]
     },
     "execution_count": 44,
     "metadata": {},
     "output_type": "execute_result"
    }
   ],
   "source": [
    "term_doc.shape"
   ]
  },
  {
   "cell_type": "code",
   "execution_count": 72,
   "metadata": {},
   "outputs": [],
   "source": [
    "def get_log_prob(class_mask, idf=None):\n",
    "    term_count = []\n",
    "    total = 0\n",
    "    if idf is None: \n",
    "        idf = np.ones(NUM_TERMS)\n",
    "    for t_idx in range(NUM_TERMS):\n",
    "        count = 1 + term_doc.getcol(t_idx)[class_mask].sum()\n",
    "        count *= idf[t_idx]\n",
    "        term_count.append(count)\n",
    "        total += count\n",
    "    return np.array([math.log2(tc / total) for tc in term_count])\n",
    "\n",
    "def binary_dirichlet_prior(term_doc, mask):\n",
    "    win_counts = term_doc[mask].sum(axis=0)\n",
    "    loss_counts = term_doc[~mask].sum(axis=0)\n",
    "    background = win_counts + loss_counts\n",
    "    win_corpus = win_counts.sum()\n",
    "    loss_corpus = loss_counts.sum()\n",
    "    background_corpus = win_corpus + loss_corpus\n",
    "    log_odds_ratio1 = np.log((win_counts + background) / (win_corpus + background_corpus - win_counts - background))\n",
    "    log_odds_ratio2 = np.log((loss_counts + background) / (loss_corpus + background_corpus - loss_counts - background))\n",
    "    variance = 1.0 / (win_counts + background) + 1.0 / (loss_counts + background)\n",
    "    z_score = (log_odds_ratio1 - log_odds_ratio2) / np.sqrt(variance)\n",
    "    return np.argsort(z_score)\n",
    "\n",
    "def print_win_loss(sort_indices):\n",
    "    loss_words = [indexer.to_token(x) for x in sort_indices[0:10]]\n",
    "    print(\"Loss words:\")\n",
    "    print(loss_words)\n",
    "    \n",
    "    win_words = [indexer.to_token(x) for x in sort_indices[-10:]]\n",
    "    print(\"Win words:\")\n",
    "    print(win_words)\n"
   ]
  },
  {
   "cell_type": "code",
   "execution_count": 97,
   "metadata": {},
   "outputs": [
    {
     "name": "stdout",
     "output_type": "stream",
     "text": [
      "Count-based Naive Bayes\n",
      "Loss words:\n",
      "['qubec', 'latvian', 'anesthesia', 'weil', 'provincial', 'lineman', 'plateau', 'risen', 'umpiring', 'footfault']\n",
      "Win words:\n",
      "['overrate', 'suarez', 'lpez', 'nasty', 'gil', 'playstation', 'van', 'antidoping', 'karaoke', 'no.1s']\n"
     ]
    }
   ],
   "source": [
    "# Raw counts\n",
    "win_prob = get_log_prob(win_array, idf=None)\n",
    "loss_prob = get_log_prob(~win_array, idf=None)\n",
    "sort_indices = (win_prob - loss_prob).argsort()\n",
    "print(\"Count-based Naive Bayes\")\n",
    "print_win_loss(sort_indices)"
   ]
  },
  {
   "cell_type": "code",
   "execution_count": 98,
   "metadata": {},
   "outputs": [
    {
     "name": "stdout",
     "output_type": "stream",
     "text": [
      "td-idf Naive Bayes\n",
      "Loss words:\n",
      "['qubec', 'latvian', 'provincial', 'anesthesia', 'weil', 'lineman', 'plateau', 'zhe', 'umpiring', 'risen']\n",
      "Win words:\n",
      "['overrate', 'suarez', 'lpez', 'nasty', 'gil', 'playstation', 'van', 'antidoping', 'karaoke', 'no.1s']\n"
     ]
    }
   ],
   "source": [
    "# Tf*idf counts\n",
    "win_prob = get_log_prob(win_array, idf=idf)\n",
    "loss_prob = get_log_prob(~win_array, idf=idf)\n",
    "sort_indices = (win_prob - loss_prob).argsort()\n",
    "print(\"td-idf Naive Bayes\")\n",
    "print_win_loss(sort_indices)"
   ]
  },
  {
   "cell_type": "code",
   "execution_count": 71,
   "metadata": {},
   "outputs": [
    {
     "name": "stdout",
     "output_type": "stream",
     "text": [
      "Words by Log Odds Ratio Informative Dirichlet Prior\n",
      "Loss words:\n",
      "['disappointed', 'disappointing', 'today', 'week', 'chance', \"n't\", 'could', 'set', 'disappoint', 'loss']\n",
      "Win words:\n",
      "['help', 'we', 'victory', 'focus', 'opponent', 'win', 'always', 'happy', 'important', 'tomorrow']\n"
     ]
    }
   ],
   "source": [
    "# Log Odds Ratio Informative Dirichlet Prior\n",
    "print(\"Words by Log Odds Ratio Informative Dirichlet Prior\")\n",
    "z_score_indices = binary_dirichlet_prior(term_doc, win_array)\n",
    "print_win_loss(z_score_indices)"
   ]
  },
  {
   "cell_type": "code",
   "execution_count": 26,
   "metadata": {},
   "outputs": [],
   "source": [
    "from gensim.corpora import Dictionary"
   ]
  },
  {
   "cell_type": "code",
   "execution_count": 27,
   "metadata": {},
   "outputs": [],
   "source": [
    "assert(term_doc.shape[0] == NUM_DOCS)\n",
    "assert(term_doc.shape[1] == NUM_TERMS)\n",
    "gensim_corpus = Sparse2Corpus(term_doc_idf, documents_columns=False)\n",
    "dictionary = Dictionary.from_corpus(gensim_corpus, id2word=indexer.idx_to_token)"
   ]
  },
  {
   "cell_type": "code",
   "execution_count": 36,
   "metadata": {},
   "outputs": [],
   "source": [
    "lda = LdaModel(gensim_corpus, num_topics=4, id2word=indexer.idx_to_token, passes=16)"
   ]
  },
  {
   "cell_type": "code",
   "execution_count": 99,
   "metadata": {},
   "outputs": [
    {
     "data": {
      "text/plain": [
       "[(0,\n",
       "  '0.003*\"definitely\" + 0.003*\"guy\" + 0.003*\"\\'ve\" + 0.003*\"kind\" + 0.002*\"american\" + 0.002*\"pretty\" + 0.002*\"she\" + 0.002*\"obviously\" + 0.002*\"love\" + 0.002*\"college\"'),\n",
       " (1,\n",
       "  '0.005*\"she\" + 0.003*\"serena\" + 0.003*\"course\" + 0.003*\"coach\" + 0.002*\"also\" + 0.002*\"grand\" + 0.002*\"slam\" + 0.002*\"woman\" + 0.002*\"life\" + 0.002*\"girl\"'),\n",
       " (2,\n",
       "  '0.005*\"clay\" + 0.004*\"roland\" + 0.004*\"difficult\" + 0.003*\"garros\" + 0.003*\"grass\" + 0.003*\"gon\" + 0.003*\"important\" + 0.003*\"na\" + 0.003*\"season\" + 0.003*\"true\"'),\n",
       " (3,\n",
       "  '0.004*\"he\" + 0.003*\"guy\" + 0.003*\"obviously\" + 0.003*\"sort\" + 0.003*\"serve\" + 0.002*\"roger\" + 0.002*\"mean\" + 0.002*\"\\'ve\" + 0.002*\"return\" + 0.002*\"rafa\"')]"
      ]
     },
     "execution_count": 99,
     "metadata": {},
     "output_type": "execute_result"
    }
   ],
   "source": [
    "lda.show_topics()"
   ]
  },
  {
   "cell_type": "code",
   "execution_count": 38,
   "metadata": {},
   "outputs": [
    {
     "name": "stderr",
     "output_type": "stream",
     "text": [
      "/home/justin/miniconda3/envs/nlp/lib/python3.8/site-packages/pyLDAvis/_prepare.py:243: FutureWarning: In a future version of pandas all arguments of DataFrame.drop except for the argument 'labels' will be keyword-only.\n",
      "  default_term_info = default_term_info.sort_values(\n"
     ]
    }
   ],
   "source": [
    "import pyLDAvis\n",
    "pyLDAvis.enable_notebook()\n",
    "\n",
    "vis = pyLDAvis.gensim_models.prepare(lda, gensim_corpus, dictionary)\n",
    "pyLDAvis.save_html(vis, 'lda.html')"
   ]
  },
  {
   "cell_type": "code",
   "execution_count": 73,
   "metadata": {},
   "outputs": [
    {
     "data": {
      "text/html": [
       "\n",
       "<link rel=\"stylesheet\" type=\"text/css\" href=\"https://cdn.jsdelivr.net/gh/bmabey/pyLDAvis@3.4.0/pyLDAvis/js/ldavis.v1.0.0.css\">\n",
       "\n",
       "\n",
       "<div id=\"ldavis_el17411140358673440320943963490\" style=\"background-color:white;\"></div>\n",
       "<script type=\"text/javascript\">\n",
       "\n",
       "var ldavis_el17411140358673440320943963490_data = {\"mdsDat\": {\"x\": [-0.026956802006791406, 0.02440639891180262, 0.12361712076210564, -0.12106671766711673], \"y\": [0.06479966314176998, -0.11061811803170049, 0.04084320244129055, 0.004975252448639847], \"topics\": [1, 2, 3, 4], \"cluster\": [1, 1, 1, 1], \"Freq\": [35.11179297793596, 23.415052058063914, 22.148474773232994, 19.324680190767136]}, \"tinfo\": {\"Term\": [\"roland\", \"garros\", \"clay\", \"she\", \"serena\", \"pain\", \"difficult\", \"china\", \"college\", \"li\", \"course\", \"chinese\", \"guy\", \"true\", \"american\", \"woman\", \"mistake\", \"novak\", \"girl\", \"yes\", \"rafa\", \"madrid\", \"rome\", \"venus\", \"season\", \"arrive\", \"gon\", \"important\", \"problem\", \"definitely\", \"milo\", \"hawkeye\", \"overrule\", \"linesman\", \"vasek\", \"accuracy\", \"mirka\", \"overanalyze\", \"concede\", \"love15\", \"rasheed\", \"five-setters\", \"familiarity\", \"falla\", \"returners\", \"defensively\", \"doublefaulted\", \"bestoffiveset\", \"kubot\", \"celsius\", \"2-all\", \"roche\", \"agile\", \"30-love\", \"kooyong\", \"significantly\", \"playable\", \"frontrunner\", \"gilbert\", \"severin\", \"hewitt\", \"tony\", \"lendl\", \"rochey\", \"combat\", \"baghdatis\", \"ivan\", \"goran\", \"jerzy\", \"violation\", \"lleyton\", \"nevertheless\", \"clearly\", \"standpoint\", \"kyrgios\", \"midway\", \"shade\", \"service\", \"fifth\", \"tomic\", \"laver\", \"brad\", \"roof\", \"umpire\", \"volley\", \"roger\", \"ace\", \"tiebreaker\", \"stan\", \"rafa\", \"sort\", \"dictate\", \"he\", \"guy\", \"return\", \"novak\", \"serve\", \"obviously\", \"percentage\", \"slice\", \"tonight\", \"break\", \"rally\", \"serf\", \"hit\", \"shot\", \"couple\", \"set\", \"quite\", \"net\", \"third\", \"mean\", \"ball\", \"guess\", \"'ve\", \"get\", \"andy\", \"point\", \"pretty\", \"grass\", \"felt\", \"way\", \"chance\", \"probably\", \"chinese\", \"china\", \"husband\", \"russia\", \"singapore\", \"wuhan\", \"romania\", \"nuremberg\", \"flavia\", \"venezuela\", \"army\", \"li\", \"poland\", \"marian\", \"qubec\", \"zhang\", \"sabine\", \"belgrade\", \"shuai\", \"kazakhstan\", \"zheng\", \"boyfriend\", \"peng\", \"engraver\", \"sochi\", \"internship\", \"petko\", \"kiev\", \"jelena\", \"government\", \"serbia\", \"ana\", \"israel\", \"aga\", \"flower\", \"caroline\", \"istanbul\", \"andrea\", \"japanese\", \"jankovic\", \"wozniacki\", \"translation\", \"through\", \"russian\", \"martina\", \"kiss\", \"wta\", \"petra\", \"steffi\", \"genie\", \"maria\", \"serena\", \"kim\", \"justine\", \"bouchard\", \"she\", \"sharapova\", \"beijing\", \"girl\", \"woman\", \"country\", \"radwanska\", \"coach\", \"life\", \"course\", \"money\", \"grand\", \"venus\", \"title\", \"also\", \"of\", \"sport\", \"team\", \"experience\", \"slam\", \"focus\", \"enjoy\", \"people\", \"young\", \"tennis\", \"actually\", \"definitely\", \"no.1\", \"learn\", \"final\", \"many\", \"always\", \"college\", \"usta\", \"jack\", \"l.a.\", \"d.c.\", \"chicago\", \"green\", \"zina\", \"artist\", \"atlanta\", \"california\", \"georgia\", \"boca\", \"robby\", \"latvian\", \"steve\", \"nba\", \"dolphin\", \"wifi\", \"neighborhood\", \"brian\", \"justin\", \"bally\", \"ncaa\", \"african\", \"athens\", \"hill\", \"classy\", \"opt\", \"darn\", \"dog\", \"delray\", \"tea\", \"laura\", \"americans\", \"awesome\", \"nike\", \"taylor\", \"american\", \"james\", \"hair\", \"basketball\", \"ton\", \"patrick\", \"british\", \"pro\", \"wear\", \"florida\", \"cool\", \"u.s.\", \"sam\", \"mardy\", \"ashe\", \"definitely\", \"everyone\", \"'ve\", \"kind\", \"uhm\", \"fun\", \"certainly\", \"stuff\", \"guy\", \"'d\", \"pretty\", \"love\", \"walk\", \"someone\", \"get\", \"people\", \"'ll\", \"anyone\", \"obviously\", \"she\", \"whatever\", \"ever\", \"sort\", \"mean\", \"watch\", \"guess\", \"'re\", \"would\", \"wimbledon\", \"probably\", \"coach\", \"work\", \"barcelona\", \"central\", \"thiem\", \"mallorca\", \"toni\", \"spite\", \"gil\", \"inflammation\", \"montenegro\", \"dmitry\", \"schwartzman\", \"tablet\", \"rib\", \"antibiotic\", \"confrontation\", \"compulsory\", \"achilles\", \"paire\", \"garcialopez\", \"babolat\", \"djoko\", \"appraise\", \"yonex\", \"roberta\", \"carl\", \"tendon\", \"pascal\", \"adaptation\", \"abdicate\", \"6/1\", \"frankly\", \"laurent\", \"abdominal\", \"capacity\", \"thigh\", \"mri\", \"pain\", \"roland\", \"garros\", \"hurting\", \"montecarlo\", \"muscle\", \"chatrier\", \"6love\", \"solution\", \"arrive\", \"spanish\", \"medical\", \"painful\", \"doctor\", \"philippe\", \"true\", \"madrid\", \"61\", \"rome\", \"clay\", \"defeat\", \"timeout\", \"difficult\", \"victory\", \"mistake\", \"injury\", \"problem\", \"knee\", \"gon\", \"season\", \"tire\", \"na\", \"important\", \"yes\", \"grass\", \"nothing\", \"tomorrow\", \"surface\", \"forehand\", \"course\", \"final\", \"semifinal\", \"aggressive\", \"fight\", \"yesterday\", \"and\", \"moment\", \"lose\", \"he\", \"practice\"], \"Freq\": [4451.0, 4231.0, 8743.0, 11472.0, 6320.0, 3005.0, 7647.0, 2720.0, 2488.0, 2590.0, 8526.0, 2357.0, 11153.0, 3902.0, 3865.0, 4347.0, 4680.0, 5225.0, 4149.0, 5951.0, 6229.0, 3063.0, 3137.0, 3280.0, 6307.0, 2212.0, 6626.0, 7266.0, 5142.0, 9439.0, 1615.8385920139015, 1196.290778352988, 351.0963066390651, 302.24670750924497, 309.81204990179623, 273.70843968922594, 288.3369316678155, 246.30477431045406, 244.07372004908694, 234.012896541417, 234.3567568479516, 232.43153102878898, 241.04689133372227, 248.51412576711763, 268.3766157615854, 224.19384702841677, 221.5085777066393, 211.16328713567626, 228.24217718021575, 203.21608226145966, 202.24874876918634, 193.35769455935923, 188.87207219076282, 218.8211113841121, 351.5483246987257, 350.71866002370336, 200.09191750612143, 176.58804721494616, 175.75818956012822, 419.93208096772383, 1024.9045312172564, 360.325134869566, 709.0410802638792, 241.2366646957814, 215.35948434469293, 498.4414574219098, 1246.776430500585, 964.3062033753754, 245.1501168150656, 598.4877650230625, 1572.4174254663121, 482.8386549892064, 3152.4540495327433, 808.2018184276883, 878.9215505884537, 678.5524101836734, 444.02926021812783, 2838.7943090881586, 3307.469672162935, 668.494184480944, 711.8949842377993, 467.48212446486986, 2235.472964280459, 2403.806449185219, 2968.200978438526, 4674.002950937016, 2102.016450629127, 1866.3377673368134, 1734.0650214408042, 4275.883138750761, 6051.7699101933395, 1533.662213483994, 7321.777426621739, 6777.819992126557, 4361.786580606616, 3531.657804020482, 5437.605832280055, 6080.925178953646, 1783.108134771798, 1752.3372985412464, 3290.7862422533494, 4239.93783134897, 2737.8481812339883, 2481.169139694034, 4116.008463002915, 3740.1500874946546, 3850.382521869211, 4074.1580926129955, 4050.3468797304504, 3074.686635858786, 3654.8660810934307, 4582.447635584841, 3734.483963182661, 3473.7522271786074, 4378.557415519002, 3746.238510977789, 3348.2768828455155, 3430.206247237073, 3636.8036472537888, 4012.6833989855604, 3520.4737638795045, 3347.7467525024417, 3308.6353888850704, 3298.627516064389, 2356.282986936233, 2719.2395250309596, 780.1825960314598, 843.7569555332708, 757.6174966253026, 647.6735680710239, 577.1318245877457, 462.1067512733711, 448.93229986946994, 390.3478122946434, 768.4663320806288, 2585.546880474197, 455.6395265782509, 354.05147740372627, 327.77850329765533, 329.91218891126675, 326.1539062649101, 336.73296219225904, 284.8870627508661, 269.30722571409365, 261.9804920751488, 269.96743913989246, 237.74648574459707, 234.74083769214425, 232.87374398695906, 225.90837949117017, 225.63030423280802, 223.6894201048449, 1204.0931515636528, 222.64966216478464, 1181.1479136768583, 1089.7489221072035, 325.1294528584714, 438.44138855231887, 271.5635257865899, 1529.0585707079533, 639.448757271573, 367.8640862819977, 749.4296305344386, 728.6589431479239, 797.9674540436008, 1171.6135654093696, 1252.700904714149, 1198.3158386131313, 990.8973948201677, 627.6225699434244, 1555.198793328989, 1111.8215045943846, 534.935542488543, 1240.2067823973136, 2285.0898603272794, 4378.439454931353, 1196.473909283409, 999.5860933592716, 947.5806149515278, 6868.743114254932, 1555.7887999291452, 1599.409373800228, 2822.152198419472, 2899.344068643919, 2545.999490423145, 982.7735187068778, 3638.7758195510414, 2855.9930763120215, 3768.042543455949, 1953.438042895116, 3121.154555313817, 1888.896864524217, 2419.3845492027513, 3136.0227216377502, 2488.4829543923593, 2755.4223727463027, 2468.7599444975845, 2626.178140368167, 2930.9266071794145, 2636.7436142643846, 2552.7493243199638, 2719.203411875299, 2205.844133570155, 2578.344048221285, 2449.491516869239, 2630.5934488207713, 2182.8699893197286, 2256.5376590465985, 2422.68747742639, 2294.732706452783, 2268.551935727146, 2488.1914080711313, 726.8593093421745, 770.1992877446169, 616.1000926871504, 588.4123392294875, 540.5040244004804, 733.2391590013972, 510.6960843053473, 514.5823128111458, 502.1207243565396, 510.075890853475, 472.16955320934954, 442.10294322783943, 437.08494969354877, 417.17647020655045, 435.0533086123188, 397.5974895597575, 349.5817139858886, 340.4177358406699, 310.1288630289019, 305.81610638364236, 297.3031852851953, 288.4425618184833, 287.6725450904007, 287.0266944024774, 313.11394198411483, 286.2618278495146, 268.64575685599016, 264.50198213838627, 254.94460552565852, 1134.2293966509358, 312.5701584031097, 462.65824725405645, 834.5669629631672, 361.59229692328285, 1590.692751080251, 508.4827075900743, 810.798324220431, 3130.1342554810535, 1307.8599660091793, 896.7411505063615, 974.4281898916407, 897.2106966540043, 536.6136382987671, 1830.720726491503, 1448.3546457494697, 1712.6589360748965, 1078.226804413032, 2156.040546053552, 1275.6220421971923, 1201.4719558050463, 949.4504023982497, 811.0385658438341, 3683.2617149302664, 2412.7639284260167, 3609.9340085012386, 3277.286781969575, 1952.8875248529941, 2331.070090253409, 1805.3399143851066, 2197.6900684305147, 3625.0319996914973, 2276.6004897776884, 2751.4924817390543, 2493.1448652291947, 1774.9030161764429, 2063.049283738311, 2414.0483633729673, 2407.3626494953614, 2385.7256214149065, 1545.6402926307253, 2508.1297398459146, 2605.998199271628, 1770.0150317900836, 1865.164798045686, 2220.9633165104615, 2249.7701374739577, 2005.8355201355234, 1973.7360330307547, 1981.887018549697, 2021.0207084725366, 2046.979239132, 1969.5123650511116, 1969.9314207546718, 1969.122824532965, 1063.1917763787876, 793.6918092835433, 423.6387934423379, 383.8305630996481, 383.8565767235468, 286.62673575021574, 268.2444012367303, 263.94306813333526, 265.40922669587354, 262.9367559299414, 256.4058166912717, 252.37713643233275, 346.22858872354493, 239.48627465582507, 238.51015917163022, 229.60425123600058, 217.16264735865843, 225.38811601891703, 209.4255714149256, 224.53151287466898, 208.7595932307294, 206.16801863025088, 204.962143368644, 198.1024063032845, 193.0630346630592, 216.82067931785912, 431.81265970041545, 194.3810528271893, 172.2915481451112, 172.24045228962672, 410.16010873484225, 309.64199537072494, 269.0869027745559, 403.8391249317723, 516.9638783550013, 362.48785531018524, 2768.4195295590716, 4048.837549417255, 3842.5233675547343, 249.050431853475, 1255.7066458151317, 1300.2682449971048, 1431.0186011898659, 744.0037614501913, 1248.0958960814246, 1844.3426659520387, 1404.8290258450716, 1096.5772560530547, 641.9206148764181, 1229.3021639492845, 531.832592558613, 2847.3731003610824, 2256.635074835776, 878.3665472390796, 2226.8480375327254, 5300.260444201425, 1613.1348839574468, 956.4238245121373, 3960.8199954298684, 2074.141398439071, 2627.617848968336, 2643.1888983367817, 2662.4800266444727, 1647.583327364038, 3156.2570404303565, 2932.523403963571, 1710.5796968126947, 3098.331105372573, 3114.0744459786993, 2616.775265949965, 3683.1832543669047, 2465.196101761469, 2623.509003609619, 2582.9172925893563, 2290.053823189853, 2732.912370876321, 2626.5979580454327, 2072.9045094474645, 2271.071459604015, 2211.235941541646, 2124.4078245585533, 2345.9922650930826, 2342.8209559685447, 2262.565396754316, 2570.628404370907, 2280.8395100171224], \"Total\": [4451.0, 4231.0, 8743.0, 11472.0, 6320.0, 3005.0, 7647.0, 2720.0, 2488.0, 2590.0, 8526.0, 2357.0, 11153.0, 3902.0, 3865.0, 4347.0, 4680.0, 5225.0, 4149.0, 5951.0, 6229.0, 3063.0, 3137.0, 3280.0, 6307.0, 2212.0, 6626.0, 7266.0, 5142.0, 9439.0, 1616.6341003988214, 1197.0333430295634, 351.8369570054862, 302.98101909746504, 310.5778713055876, 274.4513251237194, 289.1382069212134, 247.0358072213975, 244.80003291098373, 234.73445803458154, 235.0967362384063, 233.1664597523189, 241.82346995078677, 249.3278823353599, 269.27027911471635, 224.94209986087435, 222.27525301793204, 211.89787452139618, 229.04668525156723, 203.95209758134544, 203.0034321001073, 194.08291883492024, 189.60024971447356, 219.68455113078073, 352.94382105275145, 352.1144549147716, 200.90773742458387, 177.31556067138092, 176.4897519660964, 421.6843306820122, 1035.0417889314544, 362.3638584966849, 718.859862650719, 242.4364162109129, 216.2778086835006, 512.1906874555519, 1318.9216373317665, 1025.4086152986906, 247.26785404132931, 629.8260438603011, 1746.6064407458318, 504.7876812325691, 3718.6415991307076, 877.4694702078166, 960.5739113130235, 732.1537932906658, 464.71858912904503, 3463.7207438846476, 4127.992821437187, 727.4851668312712, 780.1294065725152, 494.5546794053245, 2736.474164052223, 3067.4535618677464, 3909.848099395483, 6677.857069467543, 2713.174516701602, 2391.9228352345835, 2206.0002823425243, 6229.579055944274, 9336.445537417594, 1939.293013586595, 12102.345018698012, 11153.058854863004, 6718.441365296182, 5225.81623785446, 8854.952125976703, 10260.80089680522, 2351.065846887544, 2302.3731250455717, 4971.616799684916, 7023.426165205106, 4196.587859487986, 3735.7246437141116, 7492.994779142864, 6566.3550992923065, 6838.278882958741, 7513.934219273363, 7680.122552729414, 5133.424898731716, 7004.181358155056, 10037.26439424572, 7258.927711828655, 6671.183861349246, 9951.816126577138, 7610.4397581801895, 6368.789077702012, 6931.16047886438, 7952.62285873549, 11076.96260528062, 7679.97779787702, 6787.237404655706, 6439.394029241743, 7132.984615003621, 2357.046702293514, 2720.3806405231603, 780.9472057696578, 844.6060586654595, 758.3984656342648, 648.4295606232778, 578.0198701047028, 462.87353452395786, 449.796092431671, 391.1165147961669, 770.0349386114972, 2590.8354266175484, 456.6192449179068, 354.8137637747442, 328.52838564410735, 330.6681131962441, 326.9381719724172, 337.5910736984716, 285.63987468181205, 270.06569757081826, 262.7427654724781, 270.7939277172682, 238.50657677518274, 235.5005135951174, 233.64227981130162, 226.6642910714442, 226.38778775804357, 224.44052721909384, 1208.1545638145699, 223.40355023175877, 1185.5684769384668, 1093.8799493054714, 326.7993137389401, 442.1315266949889, 272.6645570923192, 1571.7435729425256, 648.7978240860122, 370.9125275488545, 770.9582426554725, 749.432886457545, 829.0768259850524, 1238.551366012737, 1353.7126353581586, 1292.2258937024462, 1060.4009245178586, 654.9202453969045, 1753.5189844325264, 1227.7343678885784, 558.6686305958627, 1431.702633123313, 2941.1962130852285, 6320.6493461973605, 1415.5708018713879, 1151.5974973942768, 1080.9890142472625, 11472.887180841519, 1957.990586853647, 2026.7708514002193, 4149.6052116807905, 4347.556891150262, 3919.0076563300318, 1131.5244501696523, 7538.857485884907, 5348.199466664481, 8526.488252026124, 3151.6708200457974, 7171.474062190689, 3280.624620552741, 4964.9232198423715, 7943.293453812829, 5332.717184693488, 6602.754930155375, 5433.722595027055, 6310.853003594484, 8323.92412943934, 6769.197708385581, 6556.4354855503925, 7660.430918993575, 4795.428945390957, 7135.630530190997, 7092.818336795406, 9439.059683423124, 5453.442331323908, 6301.580181887646, 8338.75537977156, 6967.082413663074, 7429.02562550626, 2488.938367228766, 727.6052379099597, 771.0320888797721, 616.8712848616766, 589.1602430842594, 541.2436156983904, 734.2635428240465, 511.4376331421454, 515.3364852884827, 502.86644410031016, 510.84181013391355, 472.9099991616539, 442.84979645286717, 437.83368977836835, 417.9241214858055, 435.9340965340914, 398.43177932860124, 350.3380436036625, 341.1548552063836, 310.8724887906214, 306.5793299120278, 298.06328006354533, 289.1876770716437, 288.41868893637536, 287.7747989329321, 313.9471337836603, 287.04015756501497, 269.3999932951091, 265.25198863553635, 255.6915157134626, 1138.9508059776647, 313.7623799835561, 466.5571155723519, 852.6141557573441, 365.2343031679463, 1776.2367193857378, 528.4035311402084, 878.5909362873215, 3865.601613111285, 1500.6193007575534, 997.7849520893732, 1103.6500881872335, 1021.4865850069282, 571.0531021834589, 2310.1211308893457, 1765.5630385635814, 2313.503784915611, 1348.4556422123176, 3427.9285408147393, 1810.762327398493, 1706.391214178667, 1285.7152139613415, 1032.5864285254183, 9439.059683423124, 5311.567142102999, 9951.816126577138, 8717.553822920669, 3935.1465566978222, 5320.150317447042, 3636.60039462552, 4972.781707639056, 11153.058854863004, 5286.0055439878415, 7952.62285873549, 6702.866621014354, 3762.0755032561465, 5093.308831550168, 7610.4397581801895, 7660.430918993575, 7598.733310055397, 3085.4473105410816, 10260.80089680522, 11472.887180841519, 4412.851634588842, 5152.974602427118, 9336.445537417594, 10037.26439424572, 6993.648261008123, 6671.183861349246, 7004.74215898027, 8007.257505612314, 8775.905030063315, 7132.984615003621, 7538.857485884907, 8050.743926246857, 1064.1715082295334, 794.886108834903, 424.4249996900728, 384.58873499776354, 384.61844991057467, 287.4143675437622, 269.0141994122888, 264.7219190603768, 266.19572777254587, 263.71853621771555, 257.17167554824385, 253.15272962315117, 347.32960090780205, 240.24784608616503, 239.28967067019016, 230.37075198041484, 217.92784347602827, 226.19837413181415, 210.18055323746762, 225.34701304626944, 209.51802885001078, 206.93457064404257, 205.7471122188415, 198.88129390898166, 193.82840871695032, 217.68553340296887, 433.56870545332225, 195.19288286102844, 173.04489823574363, 172.99741405532336, 412.61294262664427, 311.13067594956954, 270.55736130188546, 407.8263023250638, 523.8543562724867, 368.0399318089234, 3005.049272346096, 4451.214544524216, 4231.808386318261, 251.75568188179253, 1387.5857583103518, 1450.36079760505, 1608.9717891880146, 805.5795743325606, 1434.2669859621749, 2212.0138675386465, 1667.9449266968322, 1273.6875002081038, 706.7707661969093, 1465.3795875994977, 580.1557691122014, 3902.013328966891, 3063.774154542656, 1054.7353702193986, 3137.9175458430473, 8743.079181713034, 2367.0811823857543, 1245.364090851575, 7647.938319425992, 3439.2692521191802, 4680.6677979066, 4749.505988682843, 5142.394122948266, 2710.0058149906804, 6626.588878924882, 6307.216524370666, 2963.3036194439856, 7156.899600188676, 7266.18555977332, 5951.272849671171, 11076.96260528062, 5600.898945687957, 6385.022180614499, 7149.538221507428, 5659.9249435128095, 8526.488252026124, 8338.75537977156, 4771.351940154273, 6038.400355781216, 5662.898310699234, 5135.807646000626, 6925.256660572666, 7276.604488724239, 6653.052709800002, 12102.345018698012, 7199.903684741828], \"Category\": [\"Default\", \"Default\", \"Default\", \"Default\", \"Default\", \"Default\", \"Default\", \"Default\", \"Default\", \"Default\", \"Default\", \"Default\", \"Default\", \"Default\", \"Default\", \"Default\", \"Default\", \"Default\", \"Default\", \"Default\", \"Default\", \"Default\", \"Default\", \"Default\", \"Default\", \"Default\", \"Default\", \"Default\", \"Default\", \"Default\", \"Topic1\", \"Topic1\", \"Topic1\", \"Topic1\", \"Topic1\", \"Topic1\", \"Topic1\", \"Topic1\", \"Topic1\", \"Topic1\", \"Topic1\", \"Topic1\", \"Topic1\", \"Topic1\", \"Topic1\", \"Topic1\", \"Topic1\", \"Topic1\", \"Topic1\", \"Topic1\", \"Topic1\", \"Topic1\", \"Topic1\", \"Topic1\", \"Topic1\", \"Topic1\", \"Topic1\", \"Topic1\", \"Topic1\", \"Topic1\", \"Topic1\", \"Topic1\", \"Topic1\", \"Topic1\", \"Topic1\", \"Topic1\", \"Topic1\", \"Topic1\", \"Topic1\", \"Topic1\", \"Topic1\", \"Topic1\", \"Topic1\", \"Topic1\", \"Topic1\", \"Topic1\", \"Topic1\", \"Topic1\", \"Topic1\", \"Topic1\", \"Topic1\", \"Topic1\", \"Topic1\", \"Topic1\", \"Topic1\", \"Topic1\", \"Topic1\", \"Topic1\", \"Topic1\", \"Topic1\", \"Topic1\", \"Topic1\", \"Topic1\", \"Topic1\", \"Topic1\", \"Topic1\", \"Topic1\", \"Topic1\", \"Topic1\", \"Topic1\", \"Topic1\", \"Topic1\", \"Topic1\", \"Topic1\", \"Topic1\", \"Topic1\", \"Topic1\", \"Topic1\", \"Topic1\", \"Topic1\", \"Topic1\", \"Topic1\", \"Topic1\", \"Topic1\", \"Topic1\", \"Topic1\", \"Topic1\", \"Topic1\", \"Topic1\", \"Topic1\", \"Topic1\", \"Topic1\", \"Topic1\", \"Topic1\", \"Topic2\", \"Topic2\", \"Topic2\", \"Topic2\", \"Topic2\", \"Topic2\", \"Topic2\", \"Topic2\", \"Topic2\", \"Topic2\", \"Topic2\", \"Topic2\", \"Topic2\", \"Topic2\", \"Topic2\", \"Topic2\", \"Topic2\", \"Topic2\", \"Topic2\", \"Topic2\", \"Topic2\", \"Topic2\", \"Topic2\", \"Topic2\", \"Topic2\", \"Topic2\", \"Topic2\", \"Topic2\", \"Topic2\", \"Topic2\", \"Topic2\", \"Topic2\", \"Topic2\", \"Topic2\", \"Topic2\", \"Topic2\", \"Topic2\", \"Topic2\", \"Topic2\", \"Topic2\", \"Topic2\", \"Topic2\", \"Topic2\", \"Topic2\", \"Topic2\", \"Topic2\", \"Topic2\", \"Topic2\", \"Topic2\", \"Topic2\", \"Topic2\", \"Topic2\", \"Topic2\", \"Topic2\", \"Topic2\", \"Topic2\", \"Topic2\", \"Topic2\", \"Topic2\", \"Topic2\", \"Topic2\", \"Topic2\", \"Topic2\", \"Topic2\", \"Topic2\", \"Topic2\", \"Topic2\", \"Topic2\", \"Topic2\", \"Topic2\", \"Topic2\", \"Topic2\", \"Topic2\", \"Topic2\", \"Topic2\", \"Topic2\", \"Topic2\", \"Topic2\", \"Topic2\", \"Topic2\", \"Topic2\", \"Topic2\", \"Topic2\", \"Topic2\", \"Topic2\", \"Topic2\", \"Topic2\", \"Topic3\", \"Topic3\", \"Topic3\", \"Topic3\", \"Topic3\", \"Topic3\", \"Topic3\", \"Topic3\", \"Topic3\", \"Topic3\", \"Topic3\", \"Topic3\", \"Topic3\", \"Topic3\", \"Topic3\", \"Topic3\", \"Topic3\", \"Topic3\", \"Topic3\", \"Topic3\", \"Topic3\", \"Topic3\", \"Topic3\", \"Topic3\", \"Topic3\", \"Topic3\", \"Topic3\", \"Topic3\", \"Topic3\", \"Topic3\", \"Topic3\", \"Topic3\", \"Topic3\", \"Topic3\", \"Topic3\", \"Topic3\", \"Topic3\", \"Topic3\", \"Topic3\", \"Topic3\", \"Topic3\", \"Topic3\", \"Topic3\", \"Topic3\", \"Topic3\", \"Topic3\", \"Topic3\", \"Topic3\", \"Topic3\", \"Topic3\", \"Topic3\", \"Topic3\", \"Topic3\", \"Topic3\", \"Topic3\", \"Topic3\", \"Topic3\", \"Topic3\", \"Topic3\", \"Topic3\", \"Topic3\", \"Topic3\", \"Topic3\", \"Topic3\", \"Topic3\", \"Topic3\", \"Topic3\", \"Topic3\", \"Topic3\", \"Topic3\", \"Topic3\", \"Topic3\", \"Topic3\", \"Topic3\", \"Topic3\", \"Topic3\", \"Topic3\", \"Topic3\", \"Topic3\", \"Topic3\", \"Topic3\", \"Topic3\", \"Topic3\", \"Topic3\", \"Topic3\", \"Topic4\", \"Topic4\", \"Topic4\", \"Topic4\", \"Topic4\", \"Topic4\", \"Topic4\", \"Topic4\", \"Topic4\", \"Topic4\", \"Topic4\", \"Topic4\", \"Topic4\", \"Topic4\", \"Topic4\", \"Topic4\", \"Topic4\", \"Topic4\", \"Topic4\", \"Topic4\", \"Topic4\", \"Topic4\", \"Topic4\", \"Topic4\", \"Topic4\", \"Topic4\", \"Topic4\", \"Topic4\", \"Topic4\", \"Topic4\", \"Topic4\", \"Topic4\", \"Topic4\", \"Topic4\", \"Topic4\", \"Topic4\", \"Topic4\", \"Topic4\", \"Topic4\", \"Topic4\", \"Topic4\", \"Topic4\", \"Topic4\", \"Topic4\", \"Topic4\", \"Topic4\", \"Topic4\", \"Topic4\", \"Topic4\", \"Topic4\", \"Topic4\", \"Topic4\", \"Topic4\", \"Topic4\", \"Topic4\", \"Topic4\", \"Topic4\", \"Topic4\", \"Topic4\", \"Topic4\", \"Topic4\", \"Topic4\", \"Topic4\", \"Topic4\", \"Topic4\", \"Topic4\", \"Topic4\", \"Topic4\", \"Topic4\", \"Topic4\", \"Topic4\", \"Topic4\", \"Topic4\", \"Topic4\", \"Topic4\", \"Topic4\", \"Topic4\", \"Topic4\", \"Topic4\", \"Topic4\", \"Topic4\", \"Topic4\", \"Topic4\", \"Topic4\", \"Topic4\", \"Topic4\"], \"logprob\": [30.0, 29.0, 28.0, 27.0, 26.0, 25.0, 24.0, 23.0, 22.0, 21.0, 20.0, 19.0, 18.0, 17.0, 16.0, 15.0, 14.0, 13.0, 12.0, 11.0, 10.0, 9.0, 8.0, 7.0, 6.0, 5.0, 4.0, 3.0, 2.0, 1.0, -7.141, -7.4416, -8.6675, -8.8173, -8.7926, -8.9165, -8.8644, -9.022, -9.0311, -9.0732, -9.0717, -9.08, -9.0436, -9.0131, -8.9362, -9.1161, -9.1281, -9.1759, -9.0982, -9.2143, -9.2191, -9.264, -9.2875, -9.1403, -8.6662, -8.6686, -9.2298, -9.3548, -9.3595, -8.4885, -7.5962, -8.6416, -7.9647, -9.0428, -9.1563, -8.3171, -7.4003, -7.6572, -9.0267, -8.1342, -7.1682, -8.3489, -6.4726, -7.8338, -7.7499, -8.0086, -8.4327, -6.5774, -6.4246, -8.0235, -7.9606, -8.3812, -6.8164, -6.7438, -6.5329, -6.0788, -6.8779, -6.9968, -7.0703, -6.1678, -5.8205, -7.1932, -5.63, -5.7072, -6.1479, -6.359, -5.9275, -5.8157, -7.0425, -7.0599, -6.4297, -6.1763, -6.6136, -6.7121, -6.2059, -6.3017, -6.2726, -6.2162, -6.222, -6.4976, -6.3248, -6.0986, -6.3032, -6.3756, -6.1441, -6.3001, -6.4124, -6.3882, -6.3297, -6.2314, -6.3622, -6.4125, -6.4243, -6.4273, -6.3586, -6.2153, -7.4639, -7.3855, -7.4932, -7.65, -7.7653, -7.9876, -8.0165, -8.1564, -7.479, -6.2657, -8.0017, -8.254, -8.3311, -8.3246, -8.336, -8.3041, -8.4713, -8.5276, -8.5551, -8.5251, -8.6522, -8.6649, -8.6729, -8.7033, -8.7045, -8.7132, -7.0299, -8.7178, -7.0492, -7.1297, -8.3392, -8.0402, -8.5192, -6.791, -7.6628, -8.2157, -7.5041, -7.5322, -7.4413, -7.0573, -6.9904, -7.0347, -7.2248, -7.6815, -6.7741, -7.1097, -7.8413, -7.0004, -6.3893, -5.739, -7.0363, -7.2161, -7.2695, -5.2887, -6.7737, -6.746, -6.1782, -6.1512, -6.2811, -7.233, -5.924, -6.1662, -5.8891, -6.5461, -6.0775, -6.5797, -6.3321, -6.0727, -6.304, -6.2021, -6.3119, -6.2501, -6.1403, -6.2461, -6.2785, -6.2153, -6.4245, -6.2685, -6.3198, -6.2484, -6.435, -6.4018, -6.3308, -6.385, -6.3965, -6.2485, -7.4791, -7.4212, -7.6444, -7.6904, -7.7753, -7.4703, -7.832, -7.8244, -7.849, -7.8332, -7.9105, -7.9763, -7.9877, -8.0343, -7.9923, -8.0824, -8.2111, -8.2376, -8.3308, -8.3448, -8.3731, -8.4033, -8.406, -8.4082, -8.3212, -8.4109, -8.4744, -8.49, -8.5268, -7.0341, -8.323, -7.9308, -7.3409, -8.1773, -6.6959, -7.8364, -7.3698, -6.019, -6.8917, -7.269, -7.186, -7.2685, -7.7825, -6.5553, -6.7896, -6.622, -7.0847, -6.3918, -6.9166, -6.9765, -7.2119, -7.3695, -5.8562, -6.2793, -5.8764, -5.973, -6.4907, -6.3137, -6.5693, -6.3726, -5.8722, -6.3374, -6.1479, -6.2465, -6.5863, -6.4359, -6.2787, -6.2815, -6.2905, -6.7246, -6.2405, -6.2022, -6.5891, -6.5367, -6.3621, -6.3492, -6.464, -6.4801, -6.476, -6.4564, -6.4437, -6.4823, -6.482, -6.4825, -6.9624, -7.2547, -7.8825, -7.9812, -7.9811, -8.2732, -8.3395, -8.3557, -8.3501, -8.3595, -8.3847, -8.4005, -8.0843, -8.4529, -8.457, -8.4951, -8.5508, -8.5136, -8.587, -8.5174, -8.5902, -8.6027, -8.6086, -8.6426, -8.6684, -8.5523, -7.8634, -8.6616, -8.7822, -8.7825, -7.9149, -8.196, -8.3364, -7.9304, -7.6834, -8.0384, -6.0054, -5.6252, -5.6775, -8.4138, -6.796, -6.7611, -6.6653, -7.3194, -6.802, -6.4115, -6.6837, -6.9315, -7.467, -6.8172, -7.6551, -5.9773, -6.2098, -7.1534, -6.2231, -5.3559, -6.5455, -7.0682, -5.6472, -6.2941, -6.0576, -6.0517, -6.0444, -6.5244, -5.8743, -5.9478, -6.4868, -5.8928, -5.8877, -6.0617, -5.7199, -6.1214, -6.0591, -6.0747, -6.1951, -6.0183, -6.058, -6.2947, -6.2034, -6.2301, -6.2702, -6.171, -6.1723, -6.2072, -6.0795, -6.1991], \"loglift\": [30.0, 29.0, 28.0, 27.0, 26.0, 25.0, 24.0, 23.0, 22.0, 21.0, 20.0, 19.0, 18.0, 17.0, 16.0, 15.0, 14.0, 13.0, 12.0, 11.0, 10.0, 9.0, 8.0, 7.0, 6.0, 5.0, 4.0, 3.0, 2.0, 1.0, 1.0461, 1.046, 1.0445, 1.0442, 1.0442, 1.0439, 1.0439, 1.0437, 1.0437, 1.0436, 1.0435, 1.0435, 1.0434, 1.0434, 1.0433, 1.0433, 1.0432, 1.0432, 1.0431, 1.043, 1.0429, 1.0429, 1.0428, 1.0427, 1.0427, 1.0427, 1.0426, 1.0425, 1.0425, 1.0425, 1.0368, 1.041, 1.0329, 1.0417, 1.0424, 1.0194, 0.9904, 0.9852, 1.038, 0.9956, 0.9416, 1.0022, 0.8815, 0.9644, 0.9578, 0.9706, 1.0011, 0.8477, 0.825, 0.9621, 0.9551, 0.9903, 0.8444, 0.8028, 0.7711, 0.6899, 0.7914, 0.7985, 0.8059, 0.6703, 0.6131, 0.812, 0.5441, 0.5486, 0.6147, 0.6548, 0.559, 0.5235, 0.7701, 0.7736, 0.634, 0.5419, 0.6195, 0.6374, 0.4475, 0.4838, 0.4723, 0.4345, 0.4068, 0.5341, 0.3962, 0.2626, 0.382, 0.3941, 0.2256, 0.3379, 0.4037, 0.3432, 0.2642, 0.0312, 0.2666, 0.3399, 0.3807, 0.2754, 1.4515, 1.4514, 1.4508, 1.4508, 1.4508, 1.4506, 1.4503, 1.4501, 1.4499, 1.4498, 1.4498, 1.4497, 1.4496, 1.4496, 1.4495, 1.4495, 1.4494, 1.4492, 1.4492, 1.449, 1.4489, 1.4487, 1.4486, 1.4486, 1.4485, 1.4485, 1.4484, 1.4484, 1.4484, 1.4484, 1.4481, 1.448, 1.4467, 1.4434, 1.4477, 1.4243, 1.4373, 1.4435, 1.4235, 1.4237, 1.4135, 1.3962, 1.3742, 1.3763, 1.384, 1.4092, 1.3318, 1.3526, 1.4084, 1.3082, 1.1994, 1.0847, 1.2836, 1.3102, 1.3201, 0.9388, 1.2219, 1.215, 1.0663, 1.0467, 1.0205, 1.3108, 0.7234, 0.8245, 0.6352, 0.9734, 0.6199, 0.8998, 0.7329, 0.5224, 0.6896, 0.5779, 0.6629, 0.575, 0.408, 0.509, 0.5085, 0.4161, 0.6752, 0.4338, 0.3886, 0.1741, 0.5362, 0.4248, 0.2158, 0.3412, 0.2655, 1.5071, 1.5064, 1.5063, 1.5062, 1.5061, 1.506, 1.506, 1.506, 1.5059, 1.5059, 1.5059, 1.5058, 1.5057, 1.5057, 1.5056, 1.5054, 1.5053, 1.5052, 1.5052, 1.505, 1.5049, 1.5048, 1.5048, 1.5048, 1.5048, 1.5047, 1.5047, 1.5046, 1.5046, 1.5045, 1.5032, 1.5036, 1.499, 1.486, 1.4974, 1.3971, 1.469, 1.4271, 1.2964, 1.3699, 1.4006, 1.3829, 1.3777, 1.4452, 1.2748, 1.3094, 1.2067, 1.2838, 1.0437, 1.1571, 1.1566, 1.2042, 1.2659, 0.5663, 0.7183, 0.4933, 0.5291, 0.8068, 0.6822, 0.8071, 0.6908, 0.3836, 0.665, 0.446, 0.5184, 0.7562, 0.6037, 0.3592, 0.3499, 0.3489, 0.8161, 0.0986, 0.0252, 0.5939, 0.4912, 0.0714, 0.0119, 0.2585, 0.2895, 0.2449, 0.1307, 0.0518, 0.2205, 0.1653, 0.0992, 1.6429, 1.6423, 1.6419, 1.6418, 1.6418, 1.641, 1.6409, 1.6408, 1.6408, 1.6408, 1.6408, 1.6407, 1.6406, 1.6406, 1.6405, 1.6405, 1.6403, 1.6402, 1.6402, 1.6402, 1.6402, 1.6401, 1.64, 1.6399, 1.6398, 1.6398, 1.6397, 1.6396, 1.6394, 1.6394, 1.6378, 1.639, 1.6383, 1.634, 1.6305, 1.6286, 1.5618, 1.549, 1.5473, 1.633, 1.5439, 1.5345, 1.5266, 1.5643, 1.5048, 1.462, 1.4721, 1.4941, 1.5475, 1.4681, 1.5568, 1.3287, 1.338, 1.4608, 1.3008, 1.1433, 1.2603, 1.3798, 0.9858, 1.1381, 1.0664, 1.0577, 0.9855, 1.1461, 0.9021, 0.878, 1.0943, 0.8066, 0.7965, 0.8221, 0.5427, 0.8231, 0.7543, 0.6257, 0.739, 0.506, 0.4886, 0.8101, 0.6659, 0.7034, 0.761, 0.5613, 0.5105, 0.5652, 0.0945, 0.4943]}, \"token.table\": {\"Topic\": [1, 2, 3, 4, 1, 2, 3, 4, 1, 2, 3, 4, 1, 2, 3, 4, 1, 1, 4, 1, 2, 3, 4, 1, 2, 4, 4, 1, 4, 1, 1, 2, 3, 4, 4, 1, 2, 3, 4, 4, 3, 2, 3, 1, 2, 3, 4, 1, 1, 2, 3, 4, 1, 2, 3, 4, 1, 2, 3, 4, 2, 3, 2, 4, 1, 2, 3, 4, 2, 4, 1, 2, 3, 4, 4, 1, 2, 3, 4, 4, 2, 3, 1, 2, 4, 3, 1, 2, 3, 3, 3, 1, 2, 3, 4, 4, 1, 3, 4, 1, 2, 3, 4, 3, 4, 1, 2, 3, 1, 2, 3, 4, 2, 1, 3, 2, 3, 4, 2, 1, 3, 1, 2, 3, 4, 3, 1, 2, 3, 4, 3, 1, 4, 4, 1, 2, 3, 4, 1, 2, 4, 1, 2, 3, 4, 1, 2, 3, 4, 1, 2, 3, 4, 3, 2, 4, 2, 3, 1, 2, 3, 4, 1, 2, 3, 4, 1, 2, 3, 4, 3, 1, 4, 1, 4, 1, 2, 3, 4, 1, 2, 3, 4, 1, 2, 3, 4, 1, 2, 3, 4, 3, 3, 1, 2, 3, 4, 1, 1, 2, 3, 4, 1, 3, 1, 2, 3, 4, 1, 2, 3, 4, 4, 4, 2, 3, 4, 1, 3, 3, 1, 2, 1, 2, 3, 4, 1, 2, 3, 4, 1, 2, 3, 4, 1, 2, 3, 4, 1, 1, 1, 2, 3, 4, 1, 2, 3, 4, 1, 2, 3, 4, 1, 2, 3, 4, 1, 2, 2, 3, 2, 4, 1, 2, 3, 4, 1, 2, 3, 4, 2, 4, 1, 1, 2, 3, 4, 4, 1, 2, 4, 1, 2, 3, 3, 1, 2, 3, 4, 4, 1, 1, 2, 3, 4, 1, 2, 3, 4, 1, 2, 4, 2, 1, 2, 3, 4, 1, 2, 3, 4, 3, 1, 2, 3, 4, 1, 2, 3, 4, 1, 2, 3, 1, 1, 2, 3, 4, 1, 3, 4, 3, 1, 2, 3, 4, 1, 3, 4, 2, 1, 2, 3, 4, 4, 1, 2, 3, 4, 2, 2, 3, 1, 2, 3, 1, 3, 4, 3, 1, 3, 2, 3, 4, 1, 2, 4, 1, 2, 3, 4, 1, 2, 3, 1, 2, 3, 4, 2, 2, 1, 2, 3, 4, 1, 2, 3, 4, 1, 2, 3, 1, 3, 4, 1, 3, 1, 1, 3, 4, 3, 3, 2, 3, 2, 4, 1, 2, 3, 4, 1, 2, 3, 4, 1, 2, 3, 2, 4, 1, 2, 3, 4, 1, 1, 3, 4, 1, 2, 3, 4, 1, 2, 3, 4, 1, 1, 2, 3, 4, 4, 1, 2, 3, 4, 1, 3, 4, 1, 2, 3, 4, 2, 2, 3, 1, 2, 3, 4, 1, 2, 3, 4, 1, 2, 3, 4, 1, 1, 1, 2, 3, 4, 1, 2, 3, 4, 1, 2, 3, 4, 1, 2, 4, 4, 3, 4, 1, 2, 3, 4, 1, 2, 3, 4, 3, 3, 3, 1, 2, 3, 4, 1, 2, 1, 3, 4, 1, 2, 3, 4, 1, 2, 3, 4, 1, 2, 3, 4, 2, 1, 2, 3, 4, 1, 2, 3, 4, 3, 1, 1, 1, 2, 3, 4, 1, 2, 3, 4, 4, 1, 4, 1, 2, 3, 2, 1, 2, 3, 4, 1, 2, 3, 4, 2, 2, 3, 4, 2, 4, 1, 1, 2, 3, 4, 2, 1, 2, 3, 4, 1, 2, 3, 4, 1, 2, 3, 4, 1, 2, 3, 4, 1, 2, 3, 4, 2, 1, 2, 3, 4, 2, 3, 4, 1, 2, 3, 4, 1, 2, 3, 4, 1, 1, 2, 3, 4, 1, 3, 4, 3, 4, 1, 1, 3, 1, 2, 3, 4, 2, 4, 2, 1, 2, 3, 4, 1, 2, 3, 4, 2, 2, 3, 2, 1, 2, 3, 4, 4, 1, 2, 3, 4, 1, 2, 3, 4, 1, 2, 1, 2, 3, 4, 1, 2, 3, 4, 1, 2, 3, 4, 1, 2, 3, 4, 1, 2, 3, 4, 1, 4, 1, 4, 1, 2, 3, 4, 1, 2, 3, 4, 1, 2, 3, 4, 2, 1, 2, 2, 1, 2, 3, 4, 1, 2, 3, 4, 2, 1, 4, 1, 2, 3, 4, 1, 2, 3, 4, 1, 2, 3, 4, 4, 1, 2, 3, 4, 1, 2, 3, 4, 1, 2, 3, 4, 2, 3, 3, 1, 2, 3, 4, 1, 2, 3, 4, 4, 2, 3, 3, 4, 1, 2, 3, 4, 4, 1, 2, 3, 4, 4, 1, 4, 1, 2, 3, 4, 2, 4, 1, 2, 3, 4, 1, 2, 3, 4, 1, 2, 3, 4, 1, 2, 3, 4, 1, 3, 4, 1, 2, 3, 4, 1, 2, 3, 4, 1, 2, 3, 4, 1, 3, 2, 4, 1, 2, 3, 4, 1, 2, 3, 4, 1, 2, 3, 1, 2, 3, 4, 3, 1, 2, 1, 2, 3, 4, 1, 2, 3, 4, 1, 3, 1, 2, 3, 4, 1, 2, 3, 4, 1, 2, 3, 4, 1, 2, 3, 4, 1, 2, 3, 4, 1, 2, 3, 4, 3, 1, 2, 3, 4, 1, 2, 3, 4, 1, 2, 3, 4, 1, 2, 3, 4, 1, 2, 3, 4, 2, 3, 4, 2, 1, 2, 3, 4, 1, 2, 3, 4, 4, 1, 2, 3, 4, 2, 2, 3], \"Freq\": [0.41222052868982234, 0.08437372913981678, 0.43076004764879555, 0.07264464571679292, 0.39914547283643104, 0.14081294293932778, 0.3139997026665758, 0.1460769781893961, 0.38059930536945114, 0.2221352284901973, 0.28295117150872173, 0.11435110412638047, 0.44002018770277745, 0.14439575467661367, 0.3627478596955987, 0.05285467429359693, 0.9950570682981731, 0.9968839359560918, 0.9942345146557833, 0.0796408297016975, 0.0853294603946759, 0.0018962102309927978, 0.8324362914058382, 0.014896107575644838, 0.060825772600549756, 0.92355866968998, 0.9939616929109338, 0.003696073894231283, 0.9942438775482151, 0.9983555367294512, 0.7747382216148023, 0.008477154660866059, 0.19534312914169613, 0.02137717262305354, 0.9957424280384332, 0.3282193183946411, 0.34527882764109796, 0.2568795524549124, 0.06950692610333249, 0.9938886969466109, 0.99730762062625, 0.9906554352143291, 0.006785311200098144, 0.36234762040996343, 0.2161168394127067, 0.04537625593799359, 0.37609298261015855, 0.9968341301481538, 0.333111198193226, 0.39479845711789746, 0.0355016469729742, 0.23655175412134227, 0.3256147066843849, 0.30542363351255447, 0.15049079870737592, 0.21860201887368377, 0.06001653124654805, 0.09649209549552769, 0.8097057879383422, 0.03388864479869739, 0.008213905358775966, 0.9911445799589667, 0.9964530391950827, 0.002742531300536925, 0.2987614902100841, 0.2539978063216713, 0.10858803317447231, 0.33876000774908516, 0.9921476700501283, 0.008088160353669525, 0.5256886292123881, 0.06987199522088193, 0.19642666521645682, 0.2078888127470734, 0.9948060051047555, 0.282292942428259, 0.1630233639970313, 0.5010618702572771, 0.0541250532554756, 0.9954837384534932, 0.9973573424925802, 0.0012986423730372138, 0.043399366255701274, 0.12251279432599005, 0.8336294934949287, 0.9993470571207581, 0.17141422268425924, 0.04357988712311676, 0.7854064101521708, 0.9969831424410679, 0.9982769896252267, 0.05179489816639735, 0.005629880235477973, 0.8957139454645455, 0.046728005954467175, 0.9984600947597286, 0.972294132238038, 0.0019523978558996747, 0.023428774270796097, 0.5144010449250414, 0.10332104544557606, 0.11640837786868237, 0.26574172888602166, 0.9958930578105185, 0.9988991358813182, 0.020839938533215672, 0.09604493410960266, 0.882526092667481, 0.05131315162153153, 0.7889397061810473, 0.03453769820680007, 0.12482910923314881, 0.9982491429883021, 0.9957627016154638, 0.9980810729514299, 0.8769746847613726, 0.053654569320843476, 0.06938090860453898, 0.9970681480047915, 0.9442838566638222, 0.054594569871355886, 0.6036939664868219, 0.07204461015149338, 0.14465874291287997, 0.17968438342131351, 0.9981103425589911, 0.07964950302375012, 0.1268331760106456, 0.7925991306330786, 0.0008657554676494578, 0.998352111911723, 0.007356072874399373, 0.990617813752449, 0.9957260717227471, 0.0038174165959954614, 0.9728049958795101, 0.01017977758932123, 0.012724721986651538, 0.9953317588167206, 0.001258041861450744, 0.9988852379918907, 0.3445525666916252, 0.12044215818909165, 0.4963426838614393, 0.03849749348509779, 0.5138682281241989, 0.14504470385856807, 0.07360941073764589, 0.26757176097249763, 0.013673328611375183, 0.003729089621284141, 0.09322724053210353, 0.8893878746762677, 0.9995498964027945, 0.9994924825950479, 0.0003675956169897197, 0.9995559263664587, 0.9985152438564803, 0.20667775762336787, 0.08955654909745271, 0.09756288171152894, 0.6061937550657719, 0.8476213466597132, 0.05351416496995017, 0.032000932821226485, 0.06669101966104343, 0.14683922624517698, 0.48269913668129993, 0.26131280551309727, 0.10916773550115687, 0.9996229849476704, 0.9940918178740633, 0.998390629117509, 0.9967318921428632, 0.998789456020484, 0.17415765611558137, 0.17853347662099797, 0.6289512673118818, 0.018378446122749793, 0.11023198673833362, 0.6496542551754569, 0.20540914195453372, 0.03470266249169762, 0.5630071639216633, 0.14067867316691948, 0.22915122749746658, 0.06712215278962166, 0.22811266989523096, 0.4419169872314809, 0.009382526268184307, 0.3205305536368464, 0.9980306833363611, 0.9972955077858839, 0.2331985924722892, 0.07731040293918283, 0.008026763146691113, 0.6814299450322509, 0.9958118117441909, 0.31306084494725367, 0.2787353918971995, 0.3901871715535483, 0.01801026857564573, 0.0031871252380620287, 0.997570199513415, 0.7910099140526309, 0.0953955893740135, 0.0629095238034035, 0.05104953161095858, 0.3191709841330424, 0.15128260083651374, 0.011637123141270288, 0.517917356882827, 0.9975275213648481, 0.9972753670332738, 0.05459336316472887, 0.1064570581712213, 0.8386905416181473, 0.003512004187543849, 0.9956531871686811, 0.9990350930770027, 0.998761656935737, 0.9978746815135278, 0.251661135633288, 0.3893884116798693, 0.16243582390875863, 0.19644820769434848, 0.31573996099915996, 0.21812643894471775, 0.3619268760070272, 0.10401759010175153, 0.22121531528542146, 0.2699768188249314, 0.4542915368372102, 0.054409554142541956, 0.2649404128170433, 0.41610856702006915, 0.19601153747289624, 0.12296277532657032, 0.9986849351452843, 0.9965947476026443, 0.4583346583336524, 0.12682328330027767, 0.23242254691067316, 0.18229219365542992, 0.8011157342198689, 0.010658933264491754, 0.05910862992127246, 0.12911844159032057, 0.18329836473292271, 0.33692994211022786, 0.08935353810680047, 0.3904361121623238, 0.3709186634138599, 0.2905709413035184, 0.023624628739906367, 0.3150350238565179, 0.9949973089887887, 0.9982301037179598, 0.20022905577897226, 0.7994330449249337, 0.9975627301934434, 0.003667510037475895, 0.26517174964122864, 0.3895587207821281, 0.14595525829834757, 0.19943279220928062, 0.4697942157426742, 0.03303930738769465, 0.09258073300081282, 0.4045990049081324, 0.004847157695219741, 0.9936673275200468, 0.9982203441695354, 0.27386444236770446, 0.25901523787419134, 0.43814551486555875, 0.028946550531658538, 0.99438314715951, 0.0002363055953178484, 0.09168657098332518, 0.9081224028064914, 0.004190814392029701, 0.8661016410194716, 0.12921677708758247, 0.9980757455683595, 0.49221859958533387, 0.1250913258956855, 0.31719586209263106, 0.0654364288824069, 0.9962299409677835, 0.997225040204088, 0.00602466951063853, 0.6800646943608772, 0.27592986358724464, 0.03783492452680996, 0.33395764252679033, 0.0922043016646493, 0.09763696100986595, 0.47626313593065983, 0.9401130296912875, 0.0419345023617483, 0.017553977732824872, 0.9981936265948319, 0.2836236988882964, 0.4351964425911372, 0.10848536761804062, 0.17262838703230626, 0.36228342940211056, 0.14661058792649578, 0.1586174895239243, 0.33249186904758865, 0.9982791698751831, 0.5207471525597233, 0.1473501585970662, 0.2958995046496528, 0.03597562366561128, 0.6077256551949987, 0.021249775786546868, 0.3250229418828371, 0.04608601162145608, 0.062137637844879585, 0.03908657864435974, 0.898991308820274, 0.9991367466615858, 0.6050067147059167, 0.057426887014560515, 0.125182350830301, 0.2124381676466692, 0.990298180190559, 0.003864578264158279, 0.0057968673962374186, 0.996376264652867, 0.5493130745876265, 0.08247703598035791, 0.2216737164455898, 0.1465368697515097, 0.007944209977906536, 0.003972104988953268, 0.9890541422493637, 0.9987871065256911, 0.2720822340328005, 0.2452455948641631, 0.054086149709099945, 0.42856048395454766, 0.9972729154316377, 0.16359596173821891, 0.15454238856609098, 0.12527618691665413, 0.5564789277659107, 0.9970692733808925, 0.9944941324436884, 0.00305998194598058, 0.004623936592614536, 0.9848984942268961, 0.009247873185229072, 0.9454693627763459, 0.05307366110212045, 0.0015163903172034415, 0.9986614190321551, 0.12794717481180815, 0.871640128405443, 0.9727355353270816, 0.02401816136610078, 0.00400302689435013, 0.016862132448604572, 0.9715182464619095, 0.011673784002880088, 0.0008277086640658357, 0.9965612315352661, 0.0016554173281316713, 0.0016554173281316713, 0.9908283506963657, 0.008088394699562169, 0.9964327036080437, 0.04168122986426225, 0.8683589555054635, 0.08770425450605182, 0.001736717911010927, 0.9960539321342771, 0.9980372207080773, 0.13068933023726512, 0.8448888592636167, 0.021899293174893072, 0.002119286436279975, 0.35847211998663886, 0.2014326536628921, 0.37590820390278895, 0.06412349282320995, 0.022903552158338725, 0.9588953836957813, 0.01832284172667098, 0.11439089845682344, 0.2774901794823588, 0.6081167763124034, 0.9973258603878197, 0.0028333121033744875, 0.9954302536602194, 0.9150779441828492, 0.0010410443050999421, 0.08432458871309531, 0.9985875742913338, 0.9977887816512719, 0.02111154251715572, 0.9793410001013905, 0.003214083590272814, 0.9963659129845724, 0.9126690956672937, 0.058964576405471224, 0.007691031705061464, 0.020509417880163906, 0.31753940158555566, 0.358164132622988, 0.2691388431229897, 0.05522424375400967, 0.9862840267442922, 0.012519825445273103, 0.001391091716141456, 0.9981336419257393, 0.0019298794314109421, 0.12621070029405207, 0.5340114963552781, 0.20118920520948153, 0.13873828091583207, 0.996762110377781, 0.9000310335101754, 0.08187305203050578, 0.017748703587032722, 0.3879422142858068, 0.16488671409203023, 0.1070185418719467, 0.34014460710142613, 0.17962463943789428, 0.33269347669975435, 0.3719304203643442, 0.11577136229551989, 0.9968711111239009, 0.10085599799901891, 0.09465449650393361, 0.06789012163040756, 0.7366730986530281, 0.9984691829370225, 0.3641409487312387, 0.3294061794789881, 0.11568687610460322, 0.190754166678682, 0.24888870919872436, 0.738110578217467, 0.012444435459936218, 0.00033999771778266683, 0.7768947851333937, 0.09213938151910271, 0.13055912362854408, 0.9977065044881945, 0.9345521840718748, 0.06506972825525667, 0.4564988845593051, 0.2173899096701012, 0.22416466395862863, 0.10192020054652315, 0.025909023991056074, 0.09342951075562646, 0.019628048478072785, 0.8612787672178338, 0.9274007813962609, 0.028682498393698793, 0.0013658332568427997, 0.04370666421896959, 0.9996077650479691, 0.9960634503017322, 0.33435399980744984, 0.10404498268768567, 0.00021364472831146954, 0.561458346002542, 0.30714875371656325, 0.26825698758600963, 0.1026577713764084, 0.32199084114447774, 0.0691696603000031, 0.6196713145225048, 0.2725538449435902, 0.038392334386698965, 0.04828530388030587, 0.04684395152566988, 0.9051692787114056, 0.9955080880427669, 0.013585482356289175, 0.9835889225953363, 0.053779721658776036, 0.00827380333211939, 0.041369016660596954, 0.8963286943129339, 0.26925066825713173, 0.21098521487715044, 0.08690914149244211, 0.43286900376782256, 0.998916302988359, 0.9985483293821237, 0.9971934190959914, 0.5990152891415089, 0.11551741998728936, 0.07694667941817757, 0.2086326421692865, 0.9568379299998587, 0.041601649130428645, 0.00567747909164515, 0.9613864595185786, 0.032172381519322515, 0.30494500518469425, 0.4002976225605457, 0.12670895885906416, 0.167967302915923, 0.2358549962800198, 0.17604316906290654, 0.14801195451637883, 0.44010792265726634, 0.6758752775145643, 0.010333313982385751, 0.0009567883317023844, 0.31286978446667973, 0.9981128008866261, 0.5926437966351502, 0.1260135551799456, 0.24442536457177386, 0.03693668786790363, 0.20946169866388714, 0.46655389997829116, 0.008250953215050165, 0.3155989604756688, 0.9990500028413262, 0.9958070563411514, 0.9976211793877209, 0.04791934738813005, 0.003993278949010837, 0.026954632905823152, 0.9211163442384998, 0.008489315471104777, 0.007074429559253981, 0.0749889533280922, 0.9083567554082113, 0.9947021098784918, 0.0023064395271666107, 0.9963818757359757, 0.0052534518918281045, 0.054285669548890414, 0.9403678886372306, 0.9978760469332456, 0.2110847310156856, 0.35494086804678365, 0.31421208877845097, 0.11970605958032388, 0.758379439844453, 0.0825157663094918, 0.07656102028715733, 0.0825157663094918, 0.9982870641482745, 0.9057333810019386, 0.0008145084361528224, 0.09366847015757458, 0.08273640038683622, 0.9169951042874347, 0.995481819484804, 0.4948666259364955, 0.14341032833261705, 0.1359079771522387, 0.225936191316779, 0.9986438484036778, 0.28264266983357156, 0.21389175014432443, 0.1866691637623195, 0.3168097935579247, 0.45733339359919084, 0.1419657413729685, 0.34592360896105967, 0.0548246795736176, 0.04531132463278458, 0.11724305248733011, 0.8201349758534009, 0.017558138295204025, 0.4624992451351762, 0.10290222671391916, 0.2761817256490746, 0.1585591531518291, 0.303944031248988, 0.12056641034828698, 0.057949661748047616, 0.5176577166889355, 0.9983916590858004, 0.5273353351061675, 0.19361670205009163, 0.113670061122885, 0.1653619445888476, 0.8687395131873786, 0.05037451907597211, 0.0804224778230432, 0.6864027186427363, 0.011878812249663818, 0.03130227552276276, 0.2704837654146423, 0.6524348093439073, 0.07982675716954307, 0.02525861570140766, 0.24257802626446223, 0.995334957618067, 0.6492577314928611, 0.05581651749422809, 0.08141769351824737, 0.2135912069445795, 0.9952825127270166, 0.00287910963357669, 0.9961719332175348, 0.998095875676469, 0.9955687440902059, 0.9944203289943236, 0.9940750806608886, 0.004124792865812816, 0.6999251333740631, 0.04522408863478114, 0.04612258046196222, 0.20874960118173813, 0.0903124295580251, 0.9096393713443871, 0.998235579506085, 0.15105559437912286, 0.10994552755442487, 0.02931880734784663, 0.7097063474310266, 0.8167444185514873, 0.1403265578182421, 0.042390314340927306, 0.0003654337443183388, 0.9992824362799183, 0.9270824906375517, 0.07196884109289842, 0.9971304299930559, 0.11193212811514243, 0.18108391407109428, 0.7038245333313407, 0.0029301604218623673, 0.9954439945777619, 0.2950588413778439, 0.21213795258654222, 0.027904543837990608, 0.4650228811183321, 0.26365692905883714, 0.30033416481821434, 0.0016766736347143857, 0.43446805559536517, 0.0033739088697173646, 0.9961465937840519, 0.02214962297888381, 0.6926503528682381, 0.2844644436859507, 0.0007910579635315647, 0.6641281776949582, 0.04952185121868895, 0.15846992389980463, 0.12768607043953853, 0.6141196386649225, 0.09350699904644279, 0.10536477066465111, 0.18701399809288557, 0.8196388248135709, 0.05514301357498839, 0.09238620075390724, 0.032623877141223494, 0.5421926624736911, 0.10606960039065581, 0.08504200081509293, 0.2667044908191647, 0.9960057072092575, 0.0023714421600220417, 0.9554169133456123, 0.043036797898451, 0.0005107276851657032, 0.7946922781178343, 0.10674208619963198, 0.09805971555181503, 0.045324249406752976, 0.5987159022595888, 0.22714421914230432, 0.12882546273688633, 0.5695701714948497, 0.12198548325330873, 0.0896996874359536, 0.2188428707053741, 0.99775985519345, 0.9968349640316773, 0.002839985652511901, 0.9994745959382558, 0.34551011701661366, 0.35211757752979644, 0.16194285039582587, 0.1405587054622524, 0.7609539830627244, 0.04690812224359261, 0.03431242275225756, 0.15766341087429736, 0.9972510120521836, 0.12968296824821796, 0.8701308837299786, 0.3251324541213791, 0.21086488872364803, 0.40504121549058275, 0.05890080690604694, 0.6482124247118939, 0.07422524955805394, 0.23788496286931862, 0.039736749763402614, 0.013789424118186433, 0.08393562506722177, 0.059954017905158405, 0.8423539515674756, 0.9985582921713226, 0.20930657197169045, 0.41725007654269697, 0.2262691885135351, 0.1470598273404569, 0.7860379773653913, 0.0004533090988266386, 0.027651855028424953, 0.18585673051892182, 0.9208297581095742, 0.04102706843062459, 0.03304958290244759, 0.004558563158958288, 0.957633865050525, 0.04116930634796649, 0.9978572528702895, 0.46674077738713954, 0.07259518338507426, 0.44200613041660175, 0.01870180624601636, 0.40576047153271183, 0.15385609055014926, 0.07916595204671317, 0.361282074446396, 0.9954465052584377, 0.07625846936587256, 0.9230689351600395, 0.992375819693612, 0.006430080905142194, 0.18201149998071914, 0.4543846243199146, 0.23041294031937348, 0.13324198785241725, 0.9968508086309078, 0.2818251297473178, 0.36128552187398577, 0.1875097084047296, 0.16943141813252474, 0.998998645955391, 0.01145356515252315, 0.9869155306424113, 0.521831148153301, 0.1149313472676901, 0.11350362866809147, 0.24970798306980121, 0.925602648060153, 0.0738709216328933, 0.780125500920265, 0.016722947500970312, 0.20109344369916798, 0.002090368437621289, 0.17986707794571924, 0.039345923300626084, 0.012847648424694231, 0.7676469933754803, 0.23757268589713187, 0.1403838598483052, 0.04488233980727065, 0.5773961158664668, 0.2509605778031666, 0.4872180077896148, 0.10010225294395972, 0.16173462598390273, 0.9182317804631365, 0.059107734371130045, 0.020618977106208154, 0.35614598284467486, 0.18590381778215878, 0.046984958158928086, 0.4109617673634243, 0.08419102243953278, 0.03720068433374704, 0.878131943351871, 0.9983920430475489, 0.6619576955747217, 0.10640401730751375, 0.06416423727995631, 0.16755112744264455, 0.9934765610828529, 0.005519314228238072, 0.9462667695188247, 0.05328806039952426, 0.08739078297569122, 0.13967148598754167, 0.0430546965979945, 0.7296233405624425, 0.0579866271852765, 0.1739598815558295, 0.7046755836991697, 0.06350916310768379, 0.38499201444515246, 0.11867410610289518, 0.49629663644315697, 0.7837119459230623, 0.07889279988077415, 0.043032436298604086, 0.09421495522951955, 0.9991681781845081, 0.9981393674212576, 0.9971453141099175, 0.00030482000096418026, 0.5758049818213365, 0.42369980134021057, 0.00030482000096418026, 0.11979288906971657, 0.24859932076361083, 0.028785184509470728, 0.6030350775014373, 0.9494685172667133, 0.04921993985830788, 0.7591087747012203, 0.05064135356834286, 0.0797984965319342, 0.1104902259672935, 0.16825818606036128, 0.2480014022027126, 0.4718140288422453, 0.11217212404024085, 0.2861167627139943, 0.2934090939975594, 0.2868316971535595, 0.13354975331077995, 0.493278752516221, 0.18564254126954552, 0.16472092153916817, 0.15647014192718836, 0.1158416086229899, 0.12146079113082149, 0.7404353566088869, 0.022476730031326397, 0.342862195533789, 0.14616398950382942, 0.4011011804988807, 0.10990625567342212, 0.9966148651008206, 0.36839505315119336, 0.20396756731847698, 0.23325229625749855, 0.1943959049415205, 0.013800854480394252, 0.6668112856443822, 0.30430884129269326, 0.015180939928433676, 0.3525140069040844, 0.26109388390147475, 0.24457367145670972, 0.14185024520241873, 0.39726460623633325, 0.1832087951426284, 0.2523960293001036, 0.1670984102936856, 0.002412321677938274, 0.9625163494973713, 0.014473930067629643, 0.01929857342350619, 0.886788232009492, 0.11234551878190992, 0.0005702818212279692, 0.9993375369517934, 0.16584687426229086, 0.3642918170219317, 0.030245630564551523, 0.4397378621523963, 0.2642232913564681, 0.193348362798064, 0.12870419718984924, 0.41356689081881964, 0.9963687839368223, 0.17433268421243253, 0.4600214131251509, 0.21249402537376644, 0.15306242848316443, 0.9979795052211532, 0.9971730316869338, 0.9991443079003461], \"Term\": [\"'d\", \"'d\", \"'d\", \"'d\", \"'ll\", \"'ll\", \"'ll\", \"'ll\", \"'re\", \"'re\", \"'re\", \"'re\", \"'ve\", \"'ve\", \"'ve\", \"'ve\", \"2-all\", \"30-love\", \"6/1\", \"61\", \"61\", \"61\", \"61\", \"6love\", \"6love\", \"6love\", \"abdicate\", \"abdominal\", \"abdominal\", \"accuracy\", \"ace\", \"ace\", \"ace\", \"ace\", \"achilles\", \"actually\", \"actually\", \"actually\", \"actually\", \"adaptation\", \"african\", \"aga\", \"aga\", \"aggressive\", \"aggressive\", \"aggressive\", \"aggressive\", \"agile\", \"also\", \"also\", \"also\", \"also\", \"always\", \"always\", \"always\", \"always\", \"american\", \"american\", \"american\", \"american\", \"americans\", \"americans\", \"ana\", \"ana\", \"and\", \"and\", \"and\", \"and\", \"andrea\", \"andrea\", \"andy\", \"andy\", \"andy\", \"andy\", \"antibiotic\", \"anyone\", \"anyone\", \"anyone\", \"anyone\", \"appraise\", \"army\", \"army\", \"arrive\", \"arrive\", \"arrive\", \"artist\", \"ashe\", \"ashe\", \"ashe\", \"athens\", \"atlanta\", \"awesome\", \"awesome\", \"awesome\", \"awesome\", \"babolat\", \"baghdatis\", \"baghdatis\", \"baghdatis\", \"ball\", \"ball\", \"ball\", \"ball\", \"bally\", \"barcelona\", \"basketball\", \"basketball\", \"basketball\", \"beijing\", \"beijing\", \"beijing\", \"beijing\", \"belgrade\", \"bestoffiveset\", \"boca\", \"bouchard\", \"bouchard\", \"bouchard\", \"boyfriend\", \"brad\", \"brad\", \"break\", \"break\", \"break\", \"break\", \"brian\", \"british\", \"british\", \"british\", \"british\", \"california\", \"capacity\", \"capacity\", \"carl\", \"caroline\", \"caroline\", \"caroline\", \"caroline\", \"celsius\", \"central\", \"central\", \"certainly\", \"certainly\", \"certainly\", \"certainly\", \"chance\", \"chance\", \"chance\", \"chance\", \"chatrier\", \"chatrier\", \"chatrier\", \"chatrier\", \"chicago\", \"china\", \"china\", \"chinese\", \"classy\", \"clay\", \"clay\", \"clay\", \"clay\", \"clearly\", \"clearly\", \"clearly\", \"clearly\", \"coach\", \"coach\", \"coach\", \"coach\", \"college\", \"combat\", \"compulsory\", \"concede\", \"confrontation\", \"cool\", \"cool\", \"cool\", \"cool\", \"country\", \"country\", \"country\", \"country\", \"couple\", \"couple\", \"couple\", \"couple\", \"course\", \"course\", \"course\", \"course\", \"d.c.\", \"darn\", \"defeat\", \"defeat\", \"defeat\", \"defeat\", \"defensively\", \"definitely\", \"definitely\", \"definitely\", \"definitely\", \"delray\", \"delray\", \"dictate\", \"dictate\", \"dictate\", \"dictate\", \"difficult\", \"difficult\", \"difficult\", \"difficult\", \"djoko\", \"dmitry\", \"doctor\", \"doctor\", \"doctor\", \"dog\", \"dog\", \"dolphin\", \"doublefaulted\", \"engraver\", \"enjoy\", \"enjoy\", \"enjoy\", \"enjoy\", \"ever\", \"ever\", \"ever\", \"ever\", \"everyone\", \"everyone\", \"everyone\", \"everyone\", \"experience\", \"experience\", \"experience\", \"experience\", \"falla\", \"familiarity\", \"felt\", \"felt\", \"felt\", \"felt\", \"fifth\", \"fifth\", \"fifth\", \"fifth\", \"fight\", \"fight\", \"fight\", \"fight\", \"final\", \"final\", \"final\", \"final\", \"five-setters\", \"flavia\", \"florida\", \"florida\", \"flower\", \"flower\", \"focus\", \"focus\", \"focus\", \"focus\", \"forehand\", \"forehand\", \"forehand\", \"forehand\", \"frankly\", \"frankly\", \"frontrunner\", \"fun\", \"fun\", \"fun\", \"fun\", \"garcialopez\", \"garros\", \"garros\", \"garros\", \"genie\", \"genie\", \"genie\", \"georgia\", \"get\", \"get\", \"get\", \"get\", \"gil\", \"gilbert\", \"girl\", \"girl\", \"girl\", \"girl\", \"gon\", \"gon\", \"gon\", \"gon\", \"goran\", \"goran\", \"goran\", \"government\", \"grand\", \"grand\", \"grand\", \"grand\", \"grass\", \"grass\", \"grass\", \"grass\", \"green\", \"guess\", \"guess\", \"guess\", \"guess\", \"guy\", \"guy\", \"guy\", \"guy\", \"hair\", \"hair\", \"hair\", \"hawkeye\", \"he\", \"he\", \"he\", \"he\", \"hewitt\", \"hewitt\", \"hewitt\", \"hill\", \"hit\", \"hit\", \"hit\", \"hit\", \"hurting\", \"hurting\", \"hurting\", \"husband\", \"important\", \"important\", \"important\", \"important\", \"inflammation\", \"injury\", \"injury\", \"injury\", \"injury\", \"internship\", \"israel\", \"israel\", \"istanbul\", \"istanbul\", \"istanbul\", \"ivan\", \"ivan\", \"ivan\", \"jack\", \"james\", \"james\", \"jankovic\", \"jankovic\", \"jankovic\", \"japanese\", \"japanese\", \"japanese\", \"jelena\", \"jelena\", \"jelena\", \"jelena\", \"jerzy\", \"jerzy\", \"justin\", \"justine\", \"justine\", \"justine\", \"justine\", \"kazakhstan\", \"kiev\", \"kim\", \"kim\", \"kim\", \"kim\", \"kind\", \"kind\", \"kind\", \"kind\", \"kiss\", \"kiss\", \"kiss\", \"knee\", \"knee\", \"knee\", \"kooyong\", \"kooyong\", \"kubot\", \"kyrgios\", \"kyrgios\", \"kyrgios\", \"l.a.\", \"latvian\", \"laura\", \"laura\", \"laurent\", \"laurent\", \"laver\", \"laver\", \"laver\", \"laver\", \"learn\", \"learn\", \"learn\", \"learn\", \"lendl\", \"lendl\", \"lendl\", \"li\", \"li\", \"life\", \"life\", \"life\", \"life\", \"linesman\", \"lleyton\", \"lleyton\", \"lleyton\", \"lose\", \"lose\", \"lose\", \"lose\", \"love\", \"love\", \"love\", \"love\", \"love15\", \"madrid\", \"madrid\", \"madrid\", \"madrid\", \"mallorca\", \"many\", \"many\", \"many\", \"many\", \"mardy\", \"mardy\", \"mardy\", \"maria\", \"maria\", \"maria\", \"maria\", \"marian\", \"martina\", \"martina\", \"mean\", \"mean\", \"mean\", \"mean\", \"medical\", \"medical\", \"medical\", \"medical\", \"midway\", \"midway\", \"midway\", \"midway\", \"milo\", \"mirka\", \"mistake\", \"mistake\", \"mistake\", \"mistake\", \"moment\", \"moment\", \"moment\", \"moment\", \"money\", \"money\", \"money\", \"money\", \"montecarlo\", \"montecarlo\", \"montecarlo\", \"montenegro\", \"mri\", \"mri\", \"muscle\", \"muscle\", \"muscle\", \"muscle\", \"na\", \"na\", \"na\", \"na\", \"nba\", \"ncaa\", \"neighborhood\", \"net\", \"net\", \"net\", \"net\", \"nevertheless\", \"nevertheless\", \"nike\", \"nike\", \"nike\", \"no.1\", \"no.1\", \"no.1\", \"no.1\", \"nothing\", \"nothing\", \"nothing\", \"nothing\", \"novak\", \"novak\", \"novak\", \"novak\", \"nuremberg\", \"obviously\", \"obviously\", \"obviously\", \"obviously\", \"of\", \"of\", \"of\", \"of\", \"opt\", \"overanalyze\", \"overrule\", \"pain\", \"pain\", \"pain\", \"pain\", \"painful\", \"painful\", \"painful\", \"painful\", \"paire\", \"pascal\", \"pascal\", \"patrick\", \"patrick\", \"patrick\", \"peng\", \"people\", \"people\", \"people\", \"people\", \"percentage\", \"percentage\", \"percentage\", \"percentage\", \"petko\", \"petra\", \"petra\", \"petra\", \"philippe\", \"philippe\", \"playable\", \"point\", \"point\", \"point\", \"point\", \"poland\", \"practice\", \"practice\", \"practice\", \"practice\", \"pretty\", \"pretty\", \"pretty\", \"pretty\", \"pro\", \"pro\", \"pro\", \"pro\", \"probably\", \"probably\", \"probably\", \"probably\", \"problem\", \"problem\", \"problem\", \"problem\", \"qubec\", \"quite\", \"quite\", \"quite\", \"quite\", \"radwanska\", \"radwanska\", \"radwanska\", \"rafa\", \"rafa\", \"rafa\", \"rafa\", \"rally\", \"rally\", \"rally\", \"rally\", \"rasheed\", \"return\", \"return\", \"return\", \"return\", \"returners\", \"rib\", \"rib\", \"robby\", \"roberta\", \"roche\", \"rochey\", \"rochey\", \"roger\", \"roger\", \"roger\", \"roger\", \"roland\", \"roland\", \"romania\", \"rome\", \"rome\", \"rome\", \"rome\", \"roof\", \"roof\", \"roof\", \"roof\", \"russia\", \"russian\", \"russian\", \"sabine\", \"sam\", \"sam\", \"sam\", \"sam\", \"schwartzman\", \"season\", \"season\", \"season\", \"season\", \"semifinal\", \"semifinal\", \"semifinal\", \"semifinal\", \"serbia\", \"serbia\", \"serena\", \"serena\", \"serena\", \"serena\", \"serf\", \"serf\", \"serf\", \"serf\", \"serve\", \"serve\", \"serve\", \"serve\", \"service\", \"service\", \"service\", \"service\", \"set\", \"set\", \"set\", \"set\", \"severin\", \"severin\", \"shade\", \"shade\", \"sharapova\", \"sharapova\", \"sharapova\", \"sharapova\", \"she\", \"she\", \"she\", \"she\", \"shot\", \"shot\", \"shot\", \"shot\", \"shuai\", \"significantly\", \"significantly\", \"singapore\", \"slam\", \"slam\", \"slam\", \"slam\", \"slice\", \"slice\", \"slice\", \"slice\", \"sochi\", \"solution\", \"solution\", \"someone\", \"someone\", \"someone\", \"someone\", \"sort\", \"sort\", \"sort\", \"sort\", \"spanish\", \"spanish\", \"spanish\", \"spanish\", \"spite\", \"sport\", \"sport\", \"sport\", \"sport\", \"stan\", \"stan\", \"stan\", \"stan\", \"standpoint\", \"standpoint\", \"standpoint\", \"standpoint\", \"steffi\", \"steffi\", \"steve\", \"stuff\", \"stuff\", \"stuff\", \"stuff\", \"surface\", \"surface\", \"surface\", \"surface\", \"tablet\", \"taylor\", \"taylor\", \"tea\", \"tea\", \"team\", \"team\", \"team\", \"team\", \"tendon\", \"tennis\", \"tennis\", \"tennis\", \"tennis\", \"thiem\", \"thigh\", \"thigh\", \"third\", \"third\", \"third\", \"third\", \"through\", \"through\", \"tiebreaker\", \"tiebreaker\", \"tiebreaker\", \"tiebreaker\", \"timeout\", \"timeout\", \"timeout\", \"timeout\", \"tire\", \"tire\", \"tire\", \"tire\", \"title\", \"title\", \"title\", \"title\", \"tomic\", \"tomic\", \"tomic\", \"tomorrow\", \"tomorrow\", \"tomorrow\", \"tomorrow\", \"ton\", \"ton\", \"ton\", \"toni\", \"tonight\", \"tonight\", \"tonight\", \"tonight\", \"tony\", \"tony\", \"translation\", \"translation\", \"true\", \"true\", \"true\", \"true\", \"u.s.\", \"u.s.\", \"u.s.\", \"u.s.\", \"uhm\", \"uhm\", \"uhm\", \"umpire\", \"umpire\", \"umpire\", \"umpire\", \"usta\", \"vasek\", \"venezuela\", \"venus\", \"venus\", \"venus\", \"venus\", \"victory\", \"victory\", \"victory\", \"victory\", \"violation\", \"violation\", \"volley\", \"volley\", \"volley\", \"volley\", \"walk\", \"walk\", \"walk\", \"walk\", \"watch\", \"watch\", \"watch\", \"watch\", \"way\", \"way\", \"way\", \"way\", \"wear\", \"wear\", \"wear\", \"wear\", \"whatever\", \"whatever\", \"whatever\", \"whatever\", \"wifi\", \"wimbledon\", \"wimbledon\", \"wimbledon\", \"wimbledon\", \"woman\", \"woman\", \"woman\", \"woman\", \"work\", \"work\", \"work\", \"work\", \"would\", \"would\", \"would\", \"would\", \"wozniacki\", \"wozniacki\", \"wozniacki\", \"wozniacki\", \"wta\", \"wta\", \"wta\", \"wuhan\", \"yes\", \"yes\", \"yes\", \"yes\", \"yesterday\", \"yesterday\", \"yesterday\", \"yesterday\", \"yonex\", \"young\", \"young\", \"young\", \"young\", \"zhang\", \"zheng\", \"zina\"]}, \"R\": 30, \"lambda.step\": 0.01, \"plot.opts\": {\"xlab\": \"PC1\", \"ylab\": \"PC2\"}, \"topic.order\": [4, 2, 1, 3]};\n",
       "\n",
       "function LDAvis_load_lib(url, callback){\n",
       "  var s = document.createElement('script');\n",
       "  s.src = url;\n",
       "  s.async = true;\n",
       "  s.onreadystatechange = s.onload = callback;\n",
       "  s.onerror = function(){console.warn(\"failed to load library \" + url);};\n",
       "  document.getElementsByTagName(\"head\")[0].appendChild(s);\n",
       "}\n",
       "\n",
       "if(typeof(LDAvis) !== \"undefined\"){\n",
       "   // already loaded: just create the visualization\n",
       "   !function(LDAvis){\n",
       "       new LDAvis(\"#\" + \"ldavis_el17411140358673440320943963490\", ldavis_el17411140358673440320943963490_data);\n",
       "   }(LDAvis);\n",
       "}else if(typeof define === \"function\" && define.amd){\n",
       "   // require.js is available: use it to load d3/LDAvis\n",
       "   require.config({paths: {d3: \"https://d3js.org/d3.v5\"}});\n",
       "   require([\"d3\"], function(d3){\n",
       "      window.d3 = d3;\n",
       "      LDAvis_load_lib(\"https://cdn.jsdelivr.net/gh/bmabey/pyLDAvis@3.4.0/pyLDAvis/js/ldavis.v3.0.0.js\", function(){\n",
       "        new LDAvis(\"#\" + \"ldavis_el17411140358673440320943963490\", ldavis_el17411140358673440320943963490_data);\n",
       "      });\n",
       "    });\n",
       "}else{\n",
       "    // require.js not available: dynamically load d3 & LDAvis\n",
       "    LDAvis_load_lib(\"https://d3js.org/d3.v5.js\", function(){\n",
       "         LDAvis_load_lib(\"https://cdn.jsdelivr.net/gh/bmabey/pyLDAvis@3.4.0/pyLDAvis/js/ldavis.v3.0.0.js\", function(){\n",
       "                 new LDAvis(\"#\" + \"ldavis_el17411140358673440320943963490\", ldavis_el17411140358673440320943963490_data);\n",
       "            })\n",
       "         });\n",
       "}\n",
       "</script>"
      ],
      "text/plain": [
       "PreparedData(topic_coordinates=              x         y  topics  cluster       Freq\n",
       "topic                                                \n",
       "3     -0.026957  0.064800       1        1  35.111793\n",
       "1      0.024406 -0.110618       2        1  23.415052\n",
       "0      0.123617  0.040843       3        1  22.148475\n",
       "2     -0.121067  0.004975       4        1  19.324680, topic_info=         Term          Freq         Total Category  logprob  loglift\n",
       "692    roland   4451.000000   4451.000000  Default  30.0000  30.0000\n",
       "693    garros   4231.000000   4231.000000  Default  29.0000  29.0000\n",
       "327      clay   8743.000000   8743.000000  Default  28.0000  28.0000\n",
       "456       she  11472.000000  11472.000000  Default  27.0000  27.0000\n",
       "642    serena   6320.000000   6320.000000  Default  26.0000  26.0000\n",
       "..        ...           ...           ...      ...      ...      ...\n",
       "389       and   2345.992265   6925.256661   Topic4  -6.1710   0.5613\n",
       "724    moment   2342.820956   7276.604489   Topic4  -6.1723   0.5105\n",
       "433      lose   2262.565397   6653.052710   Topic4  -6.2072   0.5652\n",
       "281        he   2570.628404  12102.345019   Topic4  -6.0795   0.0945\n",
       "228  practice   2280.839510   7199.903685   Topic4  -6.1991   0.4943\n",
       "\n",
       "[382 rows x 6 columns], token_table=      Topic      Freq   Term\n",
       "term                        \n",
       "106       1  0.412221     'd\n",
       "106       2  0.084374     'd\n",
       "106       3  0.430760     'd\n",
       "106       4  0.072645     'd\n",
       "148       1  0.399145    'll\n",
       "...     ...       ...    ...\n",
       "215       3  0.212494  young\n",
       "215       4  0.153062  young\n",
       "3947      2  0.997980  zhang\n",
       "3245      2  0.997173  zheng\n",
       "6184      3  0.999144   zina\n",
       "\n",
       "[887 rows x 3 columns], R=30, lambda_step=0.01, plot_opts={'xlab': 'PC1', 'ylab': 'PC2'}, topic_order=[4, 2, 1, 3])"
      ]
     },
     "execution_count": 73,
     "metadata": {},
     "output_type": "execute_result"
    }
   ],
   "source": [
    "vis"
   ]
  },
  {
   "cell_type": "code",
   "execution_count": 104,
   "metadata": {},
   "outputs": [
    {
     "name": "stderr",
     "output_type": "stream",
     "text": [
      "/tmp/ipykernel_17411/1845101733.py:12: FutureWarning: In future versions `DataFrame.to_latex` is expected to utilise the base implementation of `Styler.to_latex` for formatting and rendering. The arguments signature may therefore change. It is recommended instead to use `DataFrame.style.to_latex` which also contains additional functionality.\n",
      "  topics.to_latex(\"out2.tex\", index=False)\n"
     ]
    },
    {
     "data": {
      "text/html": [
       "<div>\n",
       "<style scoped>\n",
       "    .dataframe tbody tr th:only-of-type {\n",
       "        vertical-align: middle;\n",
       "    }\n",
       "\n",
       "    .dataframe tbody tr th {\n",
       "        vertical-align: top;\n",
       "    }\n",
       "\n",
       "    .dataframe thead th {\n",
       "        text-align: right;\n",
       "    }\n",
       "</style>\n",
       "<table border=\"1\" class=\"dataframe\">\n",
       "  <thead>\n",
       "    <tr style=\"text-align: right;\">\n",
       "      <th></th>\n",
       "      <th>Topic</th>\n",
       "      <th>Word List</th>\n",
       "    </tr>\n",
       "  </thead>\n",
       "  <tbody>\n",
       "    <tr>\n",
       "      <th>0</th>\n",
       "      <td>Men's Tennis</td>\n",
       "      <td>he, guy, obviously, sort, serve, roger, mean, ...</td>\n",
       "    </tr>\n",
       "    <tr>\n",
       "      <th>1</th>\n",
       "      <td>Women's Tennis</td>\n",
       "      <td>she, serena, course, coach, also, grand, slam,...</td>\n",
       "    </tr>\n",
       "    <tr>\n",
       "      <th>2</th>\n",
       "      <td>Personal Background</td>\n",
       "      <td>definitely, guy, 've, kind, american, pretty, ...</td>\n",
       "    </tr>\n",
       "    <tr>\n",
       "      <th>3</th>\n",
       "      <td>Court / Surface</td>\n",
       "      <td>clay, roland, difficult, garros, grass, gon, i...</td>\n",
       "    </tr>\n",
       "  </tbody>\n",
       "</table>\n",
       "</div>"
      ],
      "text/plain": [
       "                 Topic                                          Word List\n",
       "0         Men's Tennis  he, guy, obviously, sort, serve, roger, mean, ...\n",
       "1       Women's Tennis  she, serena, course, coach, also, grand, slam,...\n",
       "2  Personal Background  definitely, guy, 've, kind, american, pretty, ...\n",
       "3      Court / Surface  clay, roland, difficult, garros, grass, gon, i..."
      ]
     },
     "execution_count": 104,
     "metadata": {},
     "output_type": "execute_result"
    }
   ],
   "source": [
    "topic1 = \"he, guy, obviously, sort, serve, roger, mean, 've, return, rafa, break, hit\"\n",
    "topic2 = \"she, serena, course, coach, also, grand, slam, woman, life, girl, sport, china\"\n",
    "topic3 = \"definitely, guy, 've, kind, american, pretty, she, obviously, love, college, get, everyone\"\n",
    "topic4 = \"clay, roland, difficult, garros, grass, gon, important, na, season, true, pain, course\"\n",
    "records = []\n",
    "for name, words in zip([\"Men's Tennis\", \"Women's Tennis\", \"Personal Background\", \"Court / Surface\"], [topic1, topic2, topic3, topic4]):\n",
    "    records.append({\"Topic\": name, \"Word List\": words})\n",
    "\n",
    "topics = pd.DataFrame.from_records(records)\n",
    "if EXPORT_TABLES:\n",
    "    with pd.option_context(\"max_colwidth\", 1000):\n",
    "        topics.to_latex(\"out2.tex\", index=False)\n",
    "topics"
   ]
  }
 ],
 "metadata": {
  "kernelspec": {
   "display_name": "Python 3 (ipykernel)",
   "language": "python",
   "name": "python3"
  },
  "language_info": {
   "codemirror_mode": {
    "name": "ipython",
    "version": 3
   },
   "file_extension": ".py",
   "mimetype": "text/x-python",
   "name": "python",
   "nbconvert_exporter": "python",
   "pygments_lexer": "ipython3",
   "version": "3.8.16"
  }
 },
 "nbformat": 4,
 "nbformat_minor": 4
}
