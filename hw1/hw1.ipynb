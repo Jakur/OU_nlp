{
 "cells": [
  {
   "cell_type": "code",
   "execution_count": 112,
   "metadata": {},
   "outputs": [],
   "source": [
    "import math \n",
    "from convokit import Corpus, download\n",
    "import polars as pl\n",
    "import pandas as pd\n",
    "import numpy as np\n",
    "import nltk\n",
    "from collections import defaultdict, Counter\n",
    "from nltk.tokenize import word_tokenize\n",
    "from nltk.corpus import stopwords\n",
    "from nltk.stem import WordNetLemmatizer\n",
    "from scipy.sparse import csc_array\n",
    "from gensim.models.ldamodel import LdaModel\n",
    "from gensim.matutils import Sparse2Corpus\n",
    "\n",
    "EXPORT_TABLES = False"
   ]
  },
  {
   "cell_type": "code",
   "execution_count": 4,
   "metadata": {},
   "outputs": [
    {
     "name": "stderr",
     "output_type": "stream",
     "text": [
      "[nltk_data] Downloading package punkt to /home/justin/nltk_data...\n",
      "[nltk_data]   Package punkt is already up-to-date!\n",
      "[nltk_data] Downloading package stopwords to /home/justin/nltk_data...\n",
      "[nltk_data]   Package stopwords is already up-to-date!\n",
      "[nltk_data] Downloading package wordnet to /home/justin/nltk_data...\n",
      "[nltk_data]   Package wordnet is already up-to-date!\n",
      "[nltk_data] Downloading package averaged_perceptron_tagger to\n",
      "[nltk_data]     /home/justin/nltk_data...\n",
      "[nltk_data]   Package averaged_perceptron_tagger is already up-to-\n",
      "[nltk_data]       date!\n"
     ]
    },
    {
     "data": {
      "text/plain": [
       "True"
      ]
     },
     "execution_count": 4,
     "metadata": {},
     "output_type": "execute_result"
    }
   ],
   "source": [
    "nltk.download('punkt')\n",
    "nltk.download('stopwords')\n",
    "nltk.download('wordnet')\n",
    "nltk.download('averaged_perceptron_tagger')"
   ]
  },
  {
   "cell_type": "code",
   "execution_count": 5,
   "metadata": {},
   "outputs": [
    {
     "name": "stdout",
     "output_type": "stream",
     "text": [
      "Dataset already exists at /home/justin/.convokit/downloads/tennis-corpus\n"
     ]
    }
   ],
   "source": [
    "corpus = Corpus(filename=download(\"tennis-corpus\"))"
   ]
  },
  {
   "cell_type": "code",
   "execution_count": 83,
   "metadata": {},
   "outputs": [
    {
     "data": {
      "text/plain": [
       "'M'"
      ]
     },
     "execution_count": 83,
     "metadata": {},
     "output_type": "execute_result"
    }
   ],
   "source": [
    "speakers = pl.from_pandas(corpus.get_speakers_dataframe(), include_index=True)\n",
    "speakers = speakers.drop(\"vectors\")\n",
    "speakers = speakers.drop_nulls()\n",
    "genders = {}\n",
    "for row in speakers.rows():\n",
    "    genders[row[0]] = row[1]\n",
    "genders[\"Roger Federer\"]"
   ]
  },
  {
   "cell_type": "code",
   "execution_count": 7,
   "metadata": {},
   "outputs": [
    {
     "data": {
      "text/html": [
       "<div><style>\n",
       ".dataframe > thead > tr > th,\n",
       ".dataframe > tbody > tr > td {\n",
       "  text-align: right;\n",
       "  white-space: pre-wrap;\n",
       "}\n",
       "</style>\n",
       "<small>shape: (5, 8)</small><table border=\"1\" class=\"dataframe\"><thead><tr><th>timestamp</th><th>text</th><th>speaker</th><th>reply_to</th><th>conversation_id</th><th>meta.is_answer</th><th>meta.is_question</th><th>meta.pair_idx</th></tr><tr><td>datetime[μs]</td><td>str</td><td>str</td><td>str</td><td>str</td><td>bool</td><td>bool</td><td>str</td></tr></thead><tbody><tr><td>2008-08-28 00:00:00</td><td>&quot;I think this i…</td><td>&quot;REPORTER&quot;</td><td>null</td><td>&quot;1681_0.q&quot;</td><td>false</td><td>true</td><td>&quot;1681_0&quot;</td></tr><tr><td>2008-08-28 00:00:00</td><td>&quot;Yeah.&quot;</td><td>&quot;Kei Nishikori&quot;</td><td>&quot;1681_0.q&quot;</td><td>&quot;1681_0.q&quot;</td><td>true</td><td>false</td><td>&quot;1681_0&quot;</td></tr><tr><td>2008-08-28 00:00:00</td><td>&quot;How would you …</td><td>&quot;REPORTER&quot;</td><td>null</td><td>&quot;1681_1.q&quot;</td><td>false</td><td>true</td><td>&quot;1681_1&quot;</td></tr><tr><td>2008-08-28 00:00:00</td><td>&quot;Yeah, I&#x27;m pret…</td><td>&quot;Kei Nishikori&quot;</td><td>&quot;1681_1.q&quot;</td><td>&quot;1681_1.q&quot;</td><td>true</td><td>false</td><td>&quot;1681_1&quot;</td></tr><tr><td>2008-08-28 00:00:00</td><td>&quot;Do you know wh…</td><td>&quot;REPORTER&quot;</td><td>null</td><td>&quot;1681_2.q&quot;</td><td>false</td><td>true</td><td>&quot;1681_2&quot;</td></tr></tbody></table></div>"
      ],
      "text/plain": [
       "shape: (5, 8)\n",
       "┌────────────┬────────────┬────────────┬──────────┬────────────┬───────────┬───────────┬───────────┐\n",
       "│ timestamp  ┆ text       ┆ speaker    ┆ reply_to ┆ conversati ┆ meta.is_a ┆ meta.is_q ┆ meta.pair │\n",
       "│ ---        ┆ ---        ┆ ---        ┆ ---      ┆ on_id      ┆ nswer     ┆ uestion   ┆ _idx      │\n",
       "│ datetime[μ ┆ str        ┆ str        ┆ str      ┆ ---        ┆ ---       ┆ ---       ┆ ---       │\n",
       "│ s]         ┆            ┆            ┆          ┆ str        ┆ bool      ┆ bool      ┆ str       │\n",
       "╞════════════╪════════════╪════════════╪══════════╪════════════╪═══════════╪═══════════╪═══════════╡\n",
       "│ 2008-08-28 ┆ I think    ┆ REPORTER   ┆ null     ┆ 1681_0.q   ┆ false     ┆ true      ┆ 1681_0    │\n",
       "│ 00:00:00   ┆ this is    ┆            ┆          ┆            ┆           ┆           ┆           │\n",
       "│            ┆ your       ┆            ┆          ┆            ┆           ┆           ┆           │\n",
       "│            ┆ biggest    ┆            ┆          ┆            ┆           ┆           ┆           │\n",
       "│            ┆ suc…       ┆            ┆          ┆            ┆           ┆           ┆           │\n",
       "│ 2008-08-28 ┆ Yeah.      ┆ Kei        ┆ 1681_0.q ┆ 1681_0.q   ┆ true      ┆ false     ┆ 1681_0    │\n",
       "│ 00:00:00   ┆            ┆ Nishikori  ┆          ┆            ┆           ┆           ┆           │\n",
       "│ 2008-08-28 ┆ How would  ┆ REPORTER   ┆ null     ┆ 1681_1.q   ┆ false     ┆ true      ┆ 1681_1    │\n",
       "│ 00:00:00   ┆ you        ┆            ┆          ┆            ┆           ┆           ┆           │\n",
       "│            ┆ describe   ┆            ┆          ┆            ┆           ┆           ┆           │\n",
       "│            ┆ it? Is it… ┆            ┆          ┆            ┆           ┆           ┆           │\n",
       "│ 2008-08-28 ┆ Yeah, I'm  ┆ Kei        ┆ 1681_1.q ┆ 1681_1.q   ┆ true      ┆ false     ┆ 1681_1    │\n",
       "│ 00:00:00   ┆ pretty     ┆ Nishikori  ┆          ┆            ┆           ┆           ┆           │\n",
       "│            ┆ happy, but ┆            ┆          ┆            ┆           ┆           ┆           │\n",
       "│            ┆ it w…      ┆            ┆          ┆            ┆           ┆           ┆           │\n",
       "│ 2008-08-28 ┆ Do you     ┆ REPORTER   ┆ null     ┆ 1681_2.q   ┆ false     ┆ true      ┆ 1681_2    │\n",
       "│ 00:00:00   ┆ know why   ┆            ┆          ┆            ┆           ┆           ┆           │\n",
       "│            ┆ he has     ┆            ┆          ┆            ┆           ┆           ┆           │\n",
       "│            ┆ retired?   ┆            ┆          ┆            ┆           ┆           ┆           │\n",
       "└────────────┴────────────┴────────────┴──────────┴────────────┴───────────┴───────────┴───────────┘"
      ]
     },
     "execution_count": 7,
     "metadata": {},
     "output_type": "execute_result"
    }
   ],
   "source": [
    "df = pl.from_pandas(corpus.get_utterances_dataframe())\n",
    "df = df.with_columns(pl.col(\"timestamp\").str.strptime(pl.Datetime, \"%Y-%m-%d\"))\n",
    "df = df.drop(\"vectors\")\n",
    "df.head()"
   ]
  },
  {
   "cell_type": "code",
   "execution_count": 8,
   "metadata": {},
   "outputs": [
    {
     "data": {
      "text/plain": [
       "6467"
      ]
     },
     "execution_count": 8,
     "metadata": {},
     "output_type": "execute_result"
    }
   ],
   "source": [
    "df = df.with_columns(pl.col(\"meta.pair_idx\").str.split(\"_\").list.first().str.parse_int(radix=10).alias(\"conversation\"))\n",
    "NUM_DOCS = 1 + df.get_column(\"conversation\").max()\n",
    "NUM_DOCS"
   ]
  },
  {
   "cell_type": "code",
   "execution_count": 9,
   "metadata": {},
   "outputs": [
    {
     "data": {
      "text/html": [
       "<div><style>\n",
       ".dataframe > thead > tr > th,\n",
       ".dataframe > tbody > tr > td {\n",
       "  text-align: right;\n",
       "  white-space: pre-wrap;\n",
       "}\n",
       "</style>\n",
       "<small>shape: (5, 7)</small><table border=\"1\" class=\"dataframe\"><thead><tr><th>meta.match_id</th><th>meta.opponent</th><th>meta.result</th><th>meta.stage</th><th>meta.tournament</th><th>meta.tournament_type</th><th>meta.player_ranking</th></tr><tr><td>i64</td><td>str</td><td>i64</td><td>str</td><td>str</td><td>str</td><td>i64</td></tr></thead><tbody><tr><td>1681</td><td>null</td><td>1</td><td>&quot;2nd Round&quot;</td><td>&quot;U.S. OPEN&quot;</td><td>&quot;Grand Slam&quot;</td><td>126</td></tr><tr><td>1681</td><td>null</td><td>1</td><td>&quot;2nd Round&quot;</td><td>&quot;U.S. OPEN&quot;</td><td>&quot;Grand Slam&quot;</td><td>126</td></tr><tr><td>1681</td><td>null</td><td>1</td><td>&quot;2nd Round&quot;</td><td>&quot;U.S. OPEN&quot;</td><td>&quot;Grand Slam&quot;</td><td>126</td></tr><tr><td>1681</td><td>null</td><td>1</td><td>&quot;2nd Round&quot;</td><td>&quot;U.S. OPEN&quot;</td><td>&quot;Grand Slam&quot;</td><td>126</td></tr><tr><td>1681</td><td>null</td><td>1</td><td>&quot;2nd Round&quot;</td><td>&quot;U.S. OPEN&quot;</td><td>&quot;Grand Slam&quot;</td><td>126</td></tr></tbody></table></div>"
      ],
      "text/plain": [
       "shape: (5, 7)\n",
       "┌──────────────┬──────────────┬─────────────┬────────────┬─────────────┬─────────────┬─────────────┐\n",
       "│ meta.match_i ┆ meta.opponen ┆ meta.result ┆ meta.stage ┆ meta.tourna ┆ meta.tourna ┆ meta.player │\n",
       "│ d            ┆ t            ┆ ---         ┆ ---        ┆ ment        ┆ ment_type   ┆ _ranking    │\n",
       "│ ---          ┆ ---          ┆ i64         ┆ str        ┆ ---         ┆ ---         ┆ ---         │\n",
       "│ i64          ┆ str          ┆             ┆            ┆ str         ┆ str         ┆ i64         │\n",
       "╞══════════════╪══════════════╪═════════════╪════════════╪═════════════╪═════════════╪═════════════╡\n",
       "│ 1681         ┆ null         ┆ 1           ┆ 2nd Round  ┆ U.S. OPEN   ┆ Grand Slam  ┆ 126         │\n",
       "│ 1681         ┆ null         ┆ 1           ┆ 2nd Round  ┆ U.S. OPEN   ┆ Grand Slam  ┆ 126         │\n",
       "│ 1681         ┆ null         ┆ 1           ┆ 2nd Round  ┆ U.S. OPEN   ┆ Grand Slam  ┆ 126         │\n",
       "│ 1681         ┆ null         ┆ 1           ┆ 2nd Round  ┆ U.S. OPEN   ┆ Grand Slam  ┆ 126         │\n",
       "│ 1681         ┆ null         ┆ 1           ┆ 2nd Round  ┆ U.S. OPEN   ┆ Grand Slam  ┆ 126         │\n",
       "└──────────────┴──────────────┴─────────────┴────────────┴─────────────┴─────────────┴─────────────┘"
      ]
     },
     "execution_count": 9,
     "metadata": {},
     "output_type": "execute_result"
    }
   ],
   "source": [
    "match = pl.from_pandas(corpus.get_conversations_dataframe())\n",
    "match = match.drop(\"vectors\")\n",
    "match.head()"
   ]
  },
  {
   "cell_type": "code",
   "execution_count": 10,
   "metadata": {},
   "outputs": [],
   "source": [
    "match = match.unique(\"meta.match_id\")"
   ]
  },
  {
   "cell_type": "code",
   "execution_count": 11,
   "metadata": {},
   "outputs": [
    {
     "data": {
      "text/html": [
       "<div><style>\n",
       ".dataframe > thead > tr > th,\n",
       ".dataframe > tbody > tr > td {\n",
       "  text-align: right;\n",
       "  white-space: pre-wrap;\n",
       "}\n",
       "</style>\n",
       "<small>shape: (9, 2)</small><table border=\"1\" class=\"dataframe\"><thead><tr><th>meta.opponent</th><th>counts</th></tr><tr><td>str</td><td>u32</td></tr></thead><tbody><tr><td>null</td><td>940</td></tr><tr><td>&quot;Novak Djokovic…</td><td>178</td></tr><tr><td>&quot;Roger Federer&quot;</td><td>162</td></tr><tr><td>&quot;Rafael Nadal&quot;</td><td>157</td></tr><tr><td>&quot;Andy Murray&quot;</td><td>153</td></tr><tr><td>&quot;Serena William…</td><td>124</td></tr><tr><td>&quot;Caroline Wozni…</td><td>95</td></tr><tr><td>&quot;Agnieszka Radw…</td><td>87</td></tr><tr><td>&quot;Tomas Berdych&quot;</td><td>86</td></tr></tbody></table></div>"
      ],
      "text/plain": [
       "shape: (9, 2)\n",
       "┌─────────────────────┬────────┐\n",
       "│ meta.opponent       ┆ counts │\n",
       "│ ---                 ┆ ---    │\n",
       "│ str                 ┆ u32    │\n",
       "╞═════════════════════╪════════╡\n",
       "│ null                ┆ 940    │\n",
       "│ Novak Djokovic      ┆ 178    │\n",
       "│ Roger Federer       ┆ 162    │\n",
       "│ Rafael Nadal        ┆ 157    │\n",
       "│ Andy Murray         ┆ 153    │\n",
       "│ Serena Williams     ┆ 124    │\n",
       "│ Caroline Wozniacki  ┆ 95     │\n",
       "│ Agnieszka Radwanska ┆ 87     │\n",
       "│ Tomas Berdych       ┆ 86     │\n",
       "└─────────────────────┴────────┘"
      ]
     },
     "execution_count": 11,
     "metadata": {},
     "output_type": "execute_result"
    }
   ],
   "source": [
    "match.get_column(\"meta.opponent\").value_counts(sort=True).head(9)"
   ]
  },
  {
   "cell_type": "code",
   "execution_count": 71,
   "metadata": {},
   "outputs": [
    {
     "data": {
      "text/html": [
       "<div><style>\n",
       ".dataframe > thead > tr > th,\n",
       ".dataframe > tbody > tr > td {\n",
       "  text-align: right;\n",
       "  white-space: pre-wrap;\n",
       "}\n",
       "</style>\n",
       "<small>shape: (5, 7)</small><table border=\"1\" class=\"dataframe\"><thead><tr><th>meta.match_id</th><th>meta.opponent</th><th>meta.result</th><th>meta.stage</th><th>meta.tournament</th><th>meta.tournament_type</th><th>meta.player_ranking</th></tr><tr><td>i64</td><td>str</td><td>i64</td><td>str</td><td>str</td><td>str</td><td>i64</td></tr></thead><tbody><tr><td>4432</td><td>&quot;Na Li&quot;</td><td>0</td><td>&quot;Round Robin&quot;</td><td>&quot;TEB BNP PARIBA…</td><td>&quot;SEC&quot;</td><td>5</td></tr><tr><td>1440</td><td>&quot;Nicolas Mahut&quot;</td><td>1</td><td>&quot;3rd Round&quot;</td><td>&quot;PACIFIC LIFE O…</td><td>&quot;Masters&quot;</td><td>1</td></tr><tr><td>2048</td><td>&quot;Svetlana Kuzne…</td><td>0</td><td>&quot;Semifinals&quot;</td><td>&quot;INTERNAZIONALI…</td><td>&quot;Premier&quot;</td><td>9</td></tr><tr><td>4512</td><td>null</td><td>1</td><td>&quot;1st Round&quot;</td><td>&quot;U.S. OPEN&quot;</td><td>&quot;Grand Slam&quot;</td><td>22</td></tr><tr><td>0</td><td>&quot;Kevin Anderson…</td><td>1</td><td>&quot;The Final&quot;</td><td>&quot;AEGON CHAMPION…</td><td>&quot;ATP500&quot;</td><td>3</td></tr></tbody></table></div>"
      ],
      "text/plain": [
       "shape: (5, 7)\n",
       "┌──────────────┬─────────────┬─────────────┬─────────────┬─────────────┬─────────────┬─────────────┐\n",
       "│ meta.match_i ┆ meta.oppone ┆ meta.result ┆ meta.stage  ┆ meta.tourna ┆ meta.tourna ┆ meta.player │\n",
       "│ d            ┆ nt          ┆ ---         ┆ ---         ┆ ment        ┆ ment_type   ┆ _ranking    │\n",
       "│ ---          ┆ ---         ┆ i64         ┆ str         ┆ ---         ┆ ---         ┆ ---         │\n",
       "│ i64          ┆ str         ┆             ┆             ┆ str         ┆ str         ┆ i64         │\n",
       "╞══════════════╪═════════════╪═════════════╪═════════════╪═════════════╪═════════════╪═════════════╡\n",
       "│ 4432         ┆ Na Li       ┆ 0           ┆ Round Robin ┆ TEB BNP     ┆ SEC         ┆ 5           │\n",
       "│              ┆             ┆             ┆             ┆ PARIBAS WTA ┆             ┆             │\n",
       "│              ┆             ┆             ┆             ┆ CHAMPIONSHI ┆             ┆             │\n",
       "│              ┆             ┆             ┆             ┆ P…          ┆             ┆             │\n",
       "│ 1440         ┆ Nicolas     ┆ 1           ┆ 3rd Round   ┆ PACIFIC     ┆ Masters     ┆ 1           │\n",
       "│              ┆ Mahut       ┆             ┆             ┆ LIFE OPEN   ┆             ┆             │\n",
       "│ 2048         ┆ Svetlana    ┆ 0           ┆ Semifinals  ┆ INTERNAZION ┆ Premier     ┆ 9           │\n",
       "│              ┆ Kuznetsova  ┆             ┆             ┆ ALI BNL     ┆             ┆             │\n",
       "│              ┆             ┆             ┆             ┆ D'ITALIA    ┆             ┆             │\n",
       "│              ┆             ┆             ┆             ┆ (WOM…       ┆             ┆             │\n",
       "│ 4512         ┆ null        ┆ 1           ┆ 1st Round   ┆ U.S. OPEN   ┆ Grand Slam  ┆ 22          │\n",
       "│ 0            ┆ Kevin       ┆ 1           ┆ The Final   ┆ AEGON CHAMP ┆ ATP500      ┆ 3           │\n",
       "│              ┆ Anderson    ┆             ┆             ┆ IONSHIPS    ┆             ┆             │\n",
       "└──────────────┴─────────────┴─────────────┴─────────────┴─────────────┴─────────────┴─────────────┘"
      ]
     },
     "execution_count": 71,
     "metadata": {},
     "output_type": "execute_result"
    }
   ],
   "source": [
    "match.head()"
   ]
  },
  {
   "cell_type": "code",
   "execution_count": 12,
   "metadata": {},
   "outputs": [
    {
     "data": {
      "text/plain": [
       "array([ True, False,  True, ...,  True,  True,  True])"
      ]
     },
     "execution_count": 12,
     "metadata": {},
     "output_type": "execute_result"
    }
   ],
   "source": [
    "win_array = np.zeros(NUM_DOCS, dtype=bool)\n",
    "for row in match.select([\"meta.match_id\", \"meta.result\"]).rows():\n",
    "    match_id = row[0]\n",
    "    result = row[1]\n",
    "    win_array[match_id] = result\n",
    "win_array"
   ]
  },
  {
   "cell_type": "code",
   "execution_count": 13,
   "metadata": {},
   "outputs": [
    {
     "data": {
      "text/plain": [
       "6467"
      ]
     },
     "execution_count": 13,
     "metadata": {},
     "output_type": "execute_result"
    }
   ],
   "source": [
    "NUM_DOCS"
   ]
  },
  {
   "cell_type": "code",
   "execution_count": 14,
   "metadata": {},
   "outputs": [],
   "source": [
    "class Indexer:\n",
    "    def __init__(self):\n",
    "        self.token_to_idx = {}\n",
    "        self.idx_to_token = {}\n",
    "\n",
    "    def to_token(self, x):\n",
    "        return self.idx_to_token[x]\n",
    "    \n",
    "    def to_idx(self, token):\n",
    "        if token in self.token_to_idx:\n",
    "            return self.token_to_idx[token]\n",
    "        else:\n",
    "            length = len(self.token_to_idx)\n",
    "            self.idx_to_token[length] = token\n",
    "            self.token_to_idx[token] = length\n",
    "            return length\n",
    "        \n",
    "    def token_count(self):\n",
    "        return len(self.token_to_idx)"
   ]
  },
  {
   "cell_type": "code",
   "execution_count": 15,
   "metadata": {},
   "outputs": [],
   "source": [
    "stops = set(stopwords.words('english'))\n",
    "wnl = WordNetLemmatizer()\n",
    "stops.add(\",\")\n",
    "stops.add(\".\")\n",
    "stops.add(\"(\")\n",
    "stops.add(\")\")\n",
    "stops.add(\"--\")\n",
    "indexer = Indexer()\n",
    "row_idx = [] # Document\n",
    "col_idx = [] # Term\n",
    "data = [] # Count\n",
    "# print(len(stops))\n",
    "for group in df.select([\"text\", \"conversation\"]).group_by(by=\"conversation\"):\n",
    "    conv_id = group[0]\n",
    "    text = group[1].get_column(\"text\").str.concat(\"\\n\")\n",
    "    tokens = [token.lower() for token in word_tokenize(text[0]) if token not in stops]\n",
    "\n",
    "    pos = nltk.pos_tag(tokens)\n",
    "    pos = ['v' if x[1][0] == \"V\" else 'n' for x in pos]\n",
    "\n",
    "    tokens = [wnl.lemmatize(token.lower(), pos=p) for token, p in zip(tokens, pos)]\n",
    "    idxs = [indexer.to_idx(token) for token in tokens]\n",
    "    counter = Counter(idxs)\n",
    "    for k, v in counter.items():\n",
    "        col_idx.append(k)\n",
    "        data.append(v)\n",
    "        row_idx.append(conv_id)\n",
    "\n",
    "term_doc = csc_array((data, (row_idx, col_idx)), shape=(NUM_DOCS, indexer.token_count()))"
   ]
  },
  {
   "cell_type": "code",
   "execution_count": 98,
   "metadata": {},
   "outputs": [],
   "source": [
    "male_array = np.zeros(NUM_DOCS, dtype=bool)\n",
    "for group in df.select([\"speaker\", \"conversation\"]).group_by(by=\"conversation\"):\n",
    "    conv_id = group[0]\n",
    "    speaker = group[1].filter(pl.col(\"speaker\") != \"REPORTER\").get_column(\"speaker\")\n",
    "    gender = genders[speaker[0]]\n",
    "    if gender == \"M\":\n",
    "        male_array[conv_id] = True"
   ]
  },
  {
   "cell_type": "code",
   "execution_count": 16,
   "metadata": {},
   "outputs": [
    {
     "data": {
      "text/plain": [
       "21682"
      ]
     },
     "execution_count": 16,
     "metadata": {},
     "output_type": "execute_result"
    }
   ],
   "source": [
    "NUM_TERMS = indexer.token_count()\n",
    "NUM_TERMS"
   ]
  },
  {
   "cell_type": "code",
   "execution_count": 17,
   "metadata": {},
   "outputs": [
    {
     "data": {
      "text/html": [
       "<div>\n",
       "<style scoped>\n",
       "    .dataframe tbody tr th:only-of-type {\n",
       "        vertical-align: middle;\n",
       "    }\n",
       "\n",
       "    .dataframe tbody tr th {\n",
       "        vertical-align: top;\n",
       "    }\n",
       "\n",
       "    .dataframe thead th {\n",
       "        text-align: right;\n",
       "    }\n",
       "</style>\n",
       "<table border=\"1\" class=\"dataframe\">\n",
       "  <thead>\n",
       "    <tr style=\"text-align: right;\">\n",
       "      <th></th>\n",
       "      <th>Class Name</th>\n",
       "      <th>Document Count</th>\n",
       "      <th>Average Tokens / Doc</th>\n",
       "      <th>Std Tokens / Doc</th>\n",
       "    </tr>\n",
       "  </thead>\n",
       "  <tbody>\n",
       "    <tr>\n",
       "      <th>0</th>\n",
       "      <td>Win</td>\n",
       "      <td>4398</td>\n",
       "      <td>693.282401</td>\n",
       "      <td>358.090978</td>\n",
       "    </tr>\n",
       "    <tr>\n",
       "      <th>1</th>\n",
       "      <td>Loss</td>\n",
       "      <td>2069</td>\n",
       "      <td>569.201547</td>\n",
       "      <td>320.263525</td>\n",
       "    </tr>\n",
       "  </tbody>\n",
       "</table>\n",
       "</div>"
      ],
      "text/plain": [
       "  Class Name  Document Count  Average Tokens / Doc  Std Tokens / Doc\n",
       "0        Win            4398            693.282401        358.090978\n",
       "1       Loss            2069            569.201547        320.263525"
      ]
     },
     "execution_count": 17,
     "metadata": {},
     "output_type": "execute_result"
    }
   ],
   "source": [
    "records = []\n",
    "for mask, name in zip([win_array, ~win_array], [\"Win\", \"Loss\"]):\n",
    "    counts = term_doc[mask].sum(axis=1)\n",
    "    num_docs = len(counts)\n",
    "    mean = counts.mean()\n",
    "    std = counts.std()\n",
    "    record = {\"Class Name\": name, \"Document Count\": num_docs, \"Average Tokens / Doc\": mean, \"Std Tokens / Doc\": std}\n",
    "    records.append(record)\n",
    "\n",
    "corpus_info = pd.DataFrame.from_records(records)\n",
    "if EXPORT_TABLES:\n",
    "    corpus_info.to_latex(\"corpus.table\", index=False)\n",
    "corpus_info"
   ]
  },
  {
   "cell_type": "code",
   "execution_count": 18,
   "metadata": {},
   "outputs": [
    {
     "data": {
      "text/plain": [
       "[0.08074411163312867,\n",
       " 0.3482681133883485,\n",
       " 0.3591004921893379,\n",
       " 3.532176422204687,\n",
       " 0.38683437065794024,\n",
       " 3.430062204551996,\n",
       " 2.963652603552127,\n",
       " 3.600889172288701,\n",
       " 2.270863609702742,\n",
       " 0.8906965702709506]"
      ]
     },
     "execution_count": 18,
     "metadata": {},
     "output_type": "execute_result"
    }
   ],
   "source": [
    "idx_offset = math.log2(NUM_DOCS)\n",
    "idf = [idx_offset - math.log2(term_doc.getcol(idx).count_nonzero()) for idx in range(NUM_TERMS)]\n",
    "idf[0:10]"
   ]
  },
  {
   "cell_type": "code",
   "execution_count": 19,
   "metadata": {},
   "outputs": [],
   "source": [
    "data_idf = [x * idf[f] for x, f in zip(data, col_idx)]\n",
    "term_doc_idf = csc_array((data_idf, (row_idx, col_idx)), shape=(NUM_DOCS, indexer.token_count()))"
   ]
  },
  {
   "cell_type": "code",
   "execution_count": 20,
   "metadata": {},
   "outputs": [
    {
     "data": {
      "text/plain": [
       "array([0.08074411, 0.34826811, 0.35910049, 3.53217642, 0.38683437,\n",
       "       3.4300622 , 2.9636526 , 3.60088917, 2.27086361, 0.89069657])"
      ]
     },
     "execution_count": 20,
     "metadata": {},
     "output_type": "execute_result"
    }
   ],
   "source": [
    "idf = np.array(idf)\n",
    "idf[0:10]"
   ]
  },
  {
   "cell_type": "code",
   "execution_count": 21,
   "metadata": {},
   "outputs": [
    {
     "data": {
      "text/plain": [
       "21682"
      ]
     },
     "execution_count": 21,
     "metadata": {},
     "output_type": "execute_result"
    }
   ],
   "source": [
    "len(idf)"
   ]
  },
  {
   "cell_type": "code",
   "execution_count": 22,
   "metadata": {},
   "outputs": [
    {
     "data": {
      "text/plain": [
       "<4398x1 sparse array of type '<class 'numpy.float64'>'\n",
       "\twith 4202 stored elements in Compressed Sparse Column format>"
      ]
     },
     "execution_count": 22,
     "metadata": {},
     "output_type": "execute_result"
    }
   ],
   "source": [
    "term_doc.getcol(0)[win_array] * idf[0]"
   ]
  },
  {
   "cell_type": "code",
   "execution_count": 23,
   "metadata": {},
   "outputs": [
    {
     "data": {
      "text/plain": [
       "array([12, 15, 11, ...,  1,  1,  1])"
      ]
     },
     "execution_count": 23,
     "metadata": {},
     "output_type": "execute_result"
    }
   ],
   "source": [
    "term_doc.data"
   ]
  },
  {
   "cell_type": "code",
   "execution_count": 24,
   "metadata": {},
   "outputs": [
    {
     "data": {
      "text/plain": [
       "array([ 0.08074411,  0.34826811,  0.35910049, ..., 12.6588809 ,\n",
       "       12.6588809 , 12.6588809 ])"
      ]
     },
     "execution_count": 24,
     "metadata": {},
     "output_type": "execute_result"
    }
   ],
   "source": [
    "idf"
   ]
  },
  {
   "cell_type": "code",
   "execution_count": 25,
   "metadata": {},
   "outputs": [
    {
     "data": {
      "text/plain": [
       "(6467, 21682)"
      ]
     },
     "execution_count": 25,
     "metadata": {},
     "output_type": "execute_result"
    }
   ],
   "source": [
    "term_doc.shape"
   ]
  },
  {
   "cell_type": "code",
   "execution_count": 26,
   "metadata": {},
   "outputs": [],
   "source": [
    "def get_log_prob(class_mask, idf=None):\n",
    "    term_count = []\n",
    "    total = 0\n",
    "    if idf is None: \n",
    "        idf = np.ones(NUM_TERMS)\n",
    "    for t_idx in range(NUM_TERMS):\n",
    "        count = 1 + term_doc.getcol(t_idx)[class_mask].sum()\n",
    "        count *= idf[t_idx]\n",
    "        term_count.append(count)\n",
    "        total += count\n",
    "    return np.array([math.log2(tc / total) for tc in term_count])\n",
    "\n",
    "def binary_dirichlet_prior(term_doc, mask):\n",
    "    win_counts = term_doc[mask].sum(axis=0)\n",
    "    loss_counts = term_doc[~mask].sum(axis=0)\n",
    "    background = win_counts + loss_counts\n",
    "    win_corpus = win_counts.sum()\n",
    "    loss_corpus = loss_counts.sum()\n",
    "    background_corpus = win_corpus + loss_corpus\n",
    "    log_odds_ratio1 = np.log((win_counts + background) / (win_corpus + background_corpus - win_counts - background))\n",
    "    log_odds_ratio2 = np.log((loss_counts + background) / (loss_corpus + background_corpus - loss_counts - background))\n",
    "    variance = 1.0 / (win_counts + background) + 1.0 / (loss_counts + background)\n",
    "    z_score = (log_odds_ratio1 - log_odds_ratio2) / np.sqrt(variance)\n",
    "    return np.argsort(z_score)\n",
    "\n",
    "def print_win_loss(sort_indices):\n",
    "    loss_words = [indexer.to_token(x) for x in sort_indices[0:10]]\n",
    "    print(\"Loss words:\")\n",
    "    print(loss_words)\n",
    "    \n",
    "    win_words = [indexer.to_token(x) for x in sort_indices[-10:]]\n",
    "    print(\"Win words:\")\n",
    "    print(win_words)\n"
   ]
  },
  {
   "cell_type": "code",
   "execution_count": 27,
   "metadata": {},
   "outputs": [
    {
     "name": "stdout",
     "output_type": "stream",
     "text": [
      "Count-based Naive Bayes\n",
      "Loss words:\n",
      "['qubec', 'latvian', 'weil', 'anesthesia', 'provincial', 'umpiring', 'plateau', 'lineman', 'risen', 'ghangzou']\n",
      "Win words:\n",
      "['overrate', 'suarez', 'lpez', 'nasty', 'gil', 'van', 'playstation', 'antidoping', 'karaoke', 'no.1s']\n"
     ]
    }
   ],
   "source": [
    "# Raw counts\n",
    "win_prob = get_log_prob(win_array, idf=None)\n",
    "loss_prob = get_log_prob(~win_array, idf=None)\n",
    "sort_indices = (win_prob - loss_prob).argsort()\n",
    "print(\"Count-based Naive Bayes\")\n",
    "print_win_loss(sort_indices)"
   ]
  },
  {
   "cell_type": "code",
   "execution_count": 28,
   "metadata": {},
   "outputs": [
    {
     "name": "stdout",
     "output_type": "stream",
     "text": [
      "td-idf Naive Bayes\n",
      "Loss words:\n",
      "['qubec', 'anesthesia', 'weil', 'provincial', 'latvian', 'umpiring', 'plateau', 'barty', 'footfault', 'zhe']\n",
      "Win words:\n",
      "['overrate', 'suarez', 'lpez', 'nasty', 'gil', 'playstation', 'van', 'antidoping', 'karaoke', 'no.1s']\n"
     ]
    }
   ],
   "source": [
    "# Tf*idf counts\n",
    "win_prob = get_log_prob(win_array, idf=idf)\n",
    "loss_prob = get_log_prob(~win_array, idf=idf)\n",
    "sort_indices = (win_prob - loss_prob).argsort()\n",
    "print(\"td-idf Naive Bayes\")\n",
    "print_win_loss(sort_indices)"
   ]
  },
  {
   "cell_type": "code",
   "execution_count": 29,
   "metadata": {},
   "outputs": [
    {
     "name": "stdout",
     "output_type": "stream",
     "text": [
      "Words by Log Odds Ratio Informative Dirichlet Prior\n",
      "Loss words:\n",
      "['disappointed', 'disappointing', 'today', 'week', 'chance', \"n't\", 'could', 'set', 'disappoint', 'loss']\n",
      "Win words:\n",
      "['help', 'we', 'victory', 'focus', 'opponent', 'win', 'always', 'happy', 'important', 'tomorrow']\n"
     ]
    }
   ],
   "source": [
    "# Log Odds Ratio Informative Dirichlet Prior\n",
    "print(\"Words by Log Odds Ratio Informative Dirichlet Prior\")\n",
    "z_score_indices = binary_dirichlet_prior(term_doc, win_array)\n",
    "print_win_loss(z_score_indices)"
   ]
  },
  {
   "cell_type": "code",
   "execution_count": 30,
   "metadata": {},
   "outputs": [],
   "source": [
    "from gensim.corpora import Dictionary"
   ]
  },
  {
   "cell_type": "code",
   "execution_count": 31,
   "metadata": {},
   "outputs": [],
   "source": [
    "assert(term_doc.shape[0] == NUM_DOCS)\n",
    "assert(term_doc.shape[1] == NUM_TERMS)\n",
    "gensim_corpus = Sparse2Corpus(term_doc_idf, documents_columns=False)\n",
    "dictionary = Dictionary.from_corpus(gensim_corpus, id2word=indexer.idx_to_token)"
   ]
  },
  {
   "cell_type": "code",
   "execution_count": 42,
   "metadata": {},
   "outputs": [],
   "source": [
    "lda = LdaModel(gensim_corpus, num_topics=4, id2word=indexer.idx_to_token, passes=20)"
   ]
  },
  {
   "cell_type": "code",
   "execution_count": 45,
   "metadata": {},
   "outputs": [],
   "source": [
    "lda.save(\"lda\")"
   ]
  },
  {
   "cell_type": "code",
   "execution_count": 101,
   "metadata": {},
   "outputs": [
    {
     "data": {
      "text/plain": [
       "[(0,\n",
       "  '0.007*\"she\" + 0.004*\"serena\" + 0.003*\"definitely\" + 0.003*\"girl\" + 0.003*\"venus\" + 0.003*\"coach\" + 0.002*\"li\" + 0.002*\"woman\" + 0.002*\"uhm\" + 0.002*\"college\"'),\n",
       " (1,\n",
       "  '0.002*\"definitely\" + 0.002*\"people\" + 0.002*\"sport\" + 0.002*\"\\'ve\" + 0.002*\"wimbledon\" + 0.002*\"she\" + 0.002*\"love\" + 0.002*\"learn\" + 0.002*\"grass\" + 0.002*\"coach\"'),\n",
       " (2,\n",
       "  '0.003*\"clay\" + 0.003*\"course\" + 0.003*\"difficult\" + 0.003*\"final\" + 0.003*\"grass\" + 0.003*\"he\" + 0.003*\"season\" + 0.003*\"important\" + 0.003*\"roland\" + 0.002*\"surface\"'),\n",
       " (3,\n",
       "  '0.005*\"guy\" + 0.004*\"sort\" + 0.003*\"obviously\" + 0.003*\"he\" + 0.003*\"\\'ve\" + 0.002*\"pretty\" + 0.002*\"get\" + 0.002*\"hit\" + 0.002*\"probably\" + 0.002*\"mean\"')]"
      ]
     },
     "execution_count": 101,
     "metadata": {},
     "output_type": "execute_result"
    }
   ],
   "source": [
    "lda.show_topics()"
   ]
  },
  {
   "cell_type": "code",
   "execution_count": 43,
   "metadata": {},
   "outputs": [
    {
     "name": "stderr",
     "output_type": "stream",
     "text": [
      "/home/justin/miniconda3/envs/nlp/lib/python3.8/site-packages/pyLDAvis/_prepare.py:243: FutureWarning: In a future version of pandas all arguments of DataFrame.drop except for the argument 'labels' will be keyword-only.\n",
      "  default_term_info = default_term_info.sort_values(\n"
     ]
    }
   ],
   "source": [
    "import pyLDAvis\n",
    "import pyLDAvis.gensim_models as gensimvis\n",
    "pyLDAvis.enable_notebook()\n",
    "\n",
    "vis = pyLDAvis.gensim_models.prepare(lda, gensim_corpus, dictionary)\n",
    "pyLDAvis.save_html(vis, 'lda.html')"
   ]
  },
  {
   "cell_type": "code",
   "execution_count": 44,
   "metadata": {},
   "outputs": [
    {
     "data": {
      "text/html": [
       "\n",
       "<link rel=\"stylesheet\" type=\"text/css\" href=\"https://cdn.jsdelivr.net/gh/bmabey/pyLDAvis@3.4.0/pyLDAvis/js/ldavis.v1.0.0.css\">\n",
       "\n",
       "\n",
       "<div id=\"ldavis_el71811404681107886404899252988\" style=\"background-color:white;\"></div>\n",
       "<script type=\"text/javascript\">\n",
       "\n",
       "var ldavis_el71811404681107886404899252988_data = {\"mdsDat\": {\"x\": [0.05502497642608756, 0.10095997347789123, -0.07487476097279419, -0.08111018893118453], \"y\": [0.058971389312844825, -0.04104915273174875, -0.08888787337875503, 0.07096563679765897], \"topics\": [1, 2, 3, 4], \"cluster\": [1, 1, 1, 1], \"Freq\": [31.07917119514323, 29.199852168807322, 23.31345990931009, 16.407516726739367]}, \"tinfo\": {\"Term\": [\"she\", \"serena\", \"roland\", \"venus\", \"garros\", \"girl\", \"li\", \"guy\", \"woman\", \"course\", \"sort\", \"college\", \"chinese\", \"china\", \"maria\", \"difficult\", \"uhm\", \"mistake\", \"caroline\", \"novak\", \"definitely\", \"british\", \"season\", \"he\", \"sister\", \"true\", \"clay\", \"of\", \"rafa\", \"kim\", \"tim\", \"bernie\", \"brad\", \"ryan\", \"sloppy\", \"severin\", \"tony\", \"mate\", \"ash\", \"slump\", \"montenegro\", \"mirka\", \"shank\", \"shave\", \"five-setter\", \"compulsory\", \"niggle\", \"awfully\", \"rochey\", \"groin\", \"plaque\", \"breeze\", \"jimmy\", \"4:30\", \"harrison\", \"250s\", \"love15\", \"lineup\", \"looser\", \"cricket\", \"mardy\", \"niggles\", \"ideally\", \"adelaide\", \"shade\", \"handful\", \"whatnot\", \"cloud\", \"breaker\", \"jamie\", \"surgery\", \"chalk\", \"james\", \"whereas\", \"ivan\", \"hip\", \"guy\", \"sort\", \"decent\", \"clearly\", \"certainly\", \"pete\", \"standpoint\", \"lleyton\", \"necessarily\", \"obviously\", \"extremely\", \"stuff\", \"sore\", \"load\", \"service\", \"'d\", \"bed\", \"'ve\", \"get\", \"probably\", \"guess\", \"pretty\", \"he\", \"hit\", \"heat\", \"night\", \"'ll\", \"volley\", \"couple\", \"felt\", \"mean\", \"serve\", \"away\", \"kind\", \"quite\", \"around\", \"return\", \"tonight\", \"put\", \"grass\", \"break\", \"would\", \"wimbledon\", \"week\", \"ball\", \"able\", \"barcelona\", \"sensation\", \"44\", \"thiem\", \"mallorca\", \"toni\", \"dominic\", \"laurent\", \"schwartzman\", \"3015\", \"shenzhen\", \"confrontation\", \"buenos\", \"garcialopez\", \"djoko\", \"spidercam\", \"appraise\", \"complicated\", \"prostejov\", \"slovak\", \"playstation\", \"ze\", \"6/1\", \"lumpur\", \"kuala\", \"javier\", \"physiotherapy\", \"arrogant\", \"sergi\", \"wellfocused\", \"rosol\", \"roland\", \"garros\", \"central\", \"arrive\", \"montecarlo\", \"61\", \"stamen\", \"defeat\", \"kei\", \"solution\", \"contrary\", \"63\", \"complicate\", \"true\", \"1000\", \"mistake\", \"bercy\", \"rafael\", \"62\", \"season\", \"difficult\", \"repeat\", \"spanish\", \"semifinal\", \"victory\", \"course\", \"clay\", \"final\", \"master\", \"rome\", \"madrid\", \"of\", \"important\", \"aggressive\", \"yes\", \"surface\", \"novak\", \"backhand\", \"manage\", \"nadal\", \"gon\", \"tomorrow\", \"positive\", \"forehand\", \"grass\", \"lose\", \"na\", \"he\", \"moment\", \"roger\", \"set\", \"rafa\", \"also\", \"third\", \"serve\", \"chance\", \"condition\", \"justine\", \"radwanska\", \"husband\", \"singapore\", \"wuhan\", \"romania\", \"chicago\", \"clijsters\", \"svetlana\", \"flavia\", \"poland\", \"kuznetsova\", \"cibulkova\", \"wozniacki\", \"venezuela\", \"elena\", \"hobart\", \"dolphin\", \"sabine\", \"qubec\", \"safina\", \"daniela\", \"andrea\", \"bartoli\", \"dementieva\", \"romanian\", \"mobile\", \"shuai\", \"east\", \"neighborhood\", \"caroline\", \"russia\", \"agnieszka\", \"vera\", \"li\", \"istanbul\", \"kim\", \"translation\", \"college\", \"venus\", \"steffi\", \"aga\", \"polish\", \"russian\", \"williams\", \"serena\", \"martina\", \"through\", \"wta\", \"she\", \"chinese\", \"girl\", \"dance\", \"china\", \"maria\", \"ana\", \"school\", \"sister\", \"fed\", \"uhm\", \"woman\", \"um\", \"mom\", \"oh\", \"coach\", \"sharapova\", \"definitely\", \"feed\", \"actually\", \"kind\", \"na\", \"also\", \"everyone\", \"mean\", \"love\", \"new\", \"enjoy\", \"people\", \"still\", \"double\", \"never\", \"grand\", \"watch\", \"slam\", \"royal\", \"army\", \"genie\", \"paint\", \"artist\", \"war\", \"pascal\", \"latvian\", \"marian\", \"tea\", \"vampire\", \"wifi\", \"william\", \"princess\", \"kate\", \"bally\", \"greek\", \"opt\", \"judy\", \"classy\", \"underwear\", \"engraver\", \"chrissie\", \"agreement\", \"sochi\", \"royalty\", \"museum\", \"battlefield\", \"slovenia\", \"jamaica\", \"boris\", \"kiss\", \"valuable\", \"bencic\", \"lta\", \"grandmother\", \"dedication\", \"embrace\", \"british\", \"african\", \"townsend\", \"art\", \"twitter\", \"tradition\", \"white\", \"madison\", \"serbia\", \"canadian\", \"tweet\", \"centre\", \"compose\", \"eugenie\", \"kiki\", \"appreciate\", \"canada\", \"sport\", \"council\", \"dog\", \"junior\", \"people\", \"learn\", \"box\", \"love\", \"definitely\", \"life\", \"cool\", \"wear\", \"proud\", \"fan\", \"wimbledon\", \"country\", \"'ve\", \"fun\", \"coach\", \"woman\", \"experience\", \"grow\", \"person\", \"she\", \"kind\", \"help\", \"obviously\", \"grass\", \"slam\", \"watch\", \"work\", \"focus\", \"crowd\", \"everyone\", \"support\", \"thing\", \"tennis\", \"moment\"], \"Freq\": [12261.0, 6852.0, 4521.0, 3731.0, 4306.0, 4470.0, 3021.0, 11337.0, 4400.0, 8356.0, 9475.0, 2759.0, 2725.0, 3118.0, 3165.0, 7677.0, 4301.0, 4693.0, 1871.0, 5152.0, 9324.0, 1877.0, 6361.0, 11888.0, 2455.0, 3940.0, 8884.0, 5169.0, 6106.0, 1651.0, 573.3722264063128, 531.0753217137736, 528.5982810973691, 526.3814062186461, 496.06836610854657, 440.87738466282593, 386.02036141856587, 375.54582602582457, 408.3527781062269, 330.254203457629, 320.2577423174035, 304.6364979284988, 297.09358365018414, 372.7118327614471, 286.71890985372477, 272.5201939038554, 275.49677901597636, 272.46382466069105, 257.8654520907546, 262.79695934693063, 253.97694664900797, 361.305536116661, 479.1386720146748, 240.58821336245444, 356.21485473188517, 234.48924520764095, 240.3586368084759, 238.29328876242707, 239.63314231148803, 217.60724816567748, 1454.3004045084251, 351.22072374309346, 428.84971237485956, 257.1206422586964, 473.88653019633165, 494.7504032725653, 654.070014450556, 477.6187785192646, 1109.4140857730633, 551.8850592930755, 2445.189392359344, 350.88177246181885, 1453.4339212051077, 1776.0862132045136, 1177.1553572870814, 1259.8910051590285, 8364.01710852249, 7026.25476640514, 1302.4980589461252, 2927.0447202627647, 2911.200364044272, 909.1828604779029, 782.5909428081077, 1425.044320556867, 1916.9940790823393, 6105.667921866786, 2753.764037454688, 3157.365505927293, 1148.684605952178, 957.6462187408481, 2311.995677118088, 3272.7584186026893, 1241.175680606167, 5004.620871335037, 4080.3351532704023, 3914.947951502325, 3663.591898727102, 4182.30372411636, 5526.047250263647, 3982.9833416967604, 1907.9775229953136, 2753.9379017496885, 3666.0978992064283, 2306.1858345638784, 3312.833192543017, 3430.432941378773, 3856.040962382751, 3524.103539161056, 2646.6224256863893, 3488.12077808395, 3182.454943612092, 2826.989077131688, 2856.419235613186, 2544.1831388107994, 2784.108507688249, 3295.7007268499583, 2833.2032014746355, 2944.539210521713, 2920.047891239907, 2830.4081279534403, 2806.7104455684016, 2790.1634841819637, 1109.7728793614865, 505.33461463253565, 496.1515069530531, 427.22867064199414, 403.009647532382, 397.16906147360703, 377.1980268655561, 311.0344288443267, 257.2612808040969, 265.2544154301171, 243.77924856177646, 242.62164447406005, 218.4376075005745, 210.6044906220746, 209.70178905332125, 211.65261797896164, 206.88914567355397, 204.78305188056572, 186.06790104608285, 199.35321342983698, 188.92015999071614, 183.23430795812686, 172.4177649873773, 168.75180061207695, 168.75180061207695, 163.052122018986, 160.76522125715172, 162.1370629617843, 154.17766761241683, 156.510047882187, 531.282180017437, 4359.56232657405, 4145.355720657849, 786.4120471396269, 2108.3979892958387, 1314.7787981141387, 999.4519382523525, 300.9287932959429, 2091.8707064835967, 1204.0599483459957, 1349.9152487055894, 417.3097430409562, 853.4577797208634, 1110.3687053579624, 3312.0591401325073, 1702.7494192402783, 3852.105433665653, 624.758370609096, 1043.4692874151776, 999.3527820613261, 4735.387993238955, 5600.268585918279, 1054.1064554537045, 1433.3048152695542, 3532.2631154274577, 2659.452002688956, 5602.660975929655, 5823.401224249778, 5409.55607160653, 2581.3495153385397, 2380.3638665740436, 2342.2657667231333, 3439.1025160792497, 4452.634040890462, 3834.4275834973782, 3775.134156486567, 4180.765147058061, 3212.4296856924425, 3144.0466778078276, 3304.6684484997745, 2532.653554385386, 3928.7808224500027, 3726.488366195805, 3270.638320270751, 3306.699570237471, 4992.850796162363, 3611.960990337475, 3886.2736299774, 4988.913386776071, 3694.002269730233, 3535.5633178969156, 3724.70829529236, 3368.0960171005877, 3713.599641540726, 3503.8029183353888, 3735.6142911714983, 3325.748817685219, 3308.6131662109033, 1390.2199943907083, 1329.477689450291, 930.9213562456032, 907.6943442549939, 777.0092150114505, 674.9230416278975, 596.1358326001073, 642.2436967095191, 635.3684806588029, 540.4534151070493, 548.9932343408583, 493.74943058058517, 506.5827755774505, 989.1192678503799, 456.8428743529522, 446.19924681396276, 409.9617884433268, 387.65785630221785, 387.66045841514944, 378.3312133142347, 382.6309683779453, 393.7737284883555, 436.7743937757893, 428.0002661002777, 363.53634827840204, 368.2359219366449, 362.9813885568129, 338.80925760869184, 347.04021392271335, 343.83125671472925, 1861.2079546397156, 1012.4168522977699, 591.263021302147, 463.2558605247318, 2927.851421097233, 760.6006062725512, 1608.7804486312973, 1445.0477754895571, 2639.2599072695652, 3518.0642532757674, 657.3832628568787, 515.1365515988017, 596.7411786902807, 1397.86058647689, 1552.8306048955894, 5756.888786396418, 1138.594491128565, 1457.8424436260304, 1764.7633986475435, 9117.57598793987, 2333.1422954767468, 3617.805922907969, 1361.959470915637, 2451.845325485632, 2473.176816483448, 1107.1277702622551, 1737.2664770400297, 1890.0355810300566, 1111.7513306821334, 2868.3081382549235, 2883.129773513189, 1977.2850584411042, 1620.0154260469644, 2595.44300646664, 3432.445906413284, 1515.885963196867, 3631.247965201056, 1366.6265575881887, 2616.5114475026453, 2553.2391002736645, 2426.63605540451, 2454.976692417111, 2113.483749579032, 2601.472338684826, 2239.155395722496, 2157.760830111312, 2187.971992062182, 2260.117544387842, 2199.6950627822876, 2141.7029546548265, 2120.679616909635, 2141.5666985595, 2137.587831331397, 2127.605179902982, 848.9642969478139, 607.0183899731576, 1111.2117367547858, 445.3524145716701, 385.2827554653947, 336.31714374652745, 343.5632833541965, 311.48908014098635, 282.4135665635014, 348.823004731227, 252.13493670608224, 252.0723946374713, 248.85763797056873, 237.48266744300196, 216.26431339017017, 215.3652225963808, 213.05456508324292, 197.04247752936755, 195.76986852057968, 201.96552890218723, 189.97830370960918, 182.51065863001403, 182.4682193691709, 190.3392940878828, 182.6112420367198, 176.26943743356213, 178.01384505087998, 168.05016377119492, 165.48456547438465, 163.264557889442, 792.381150063, 509.66391872626053, 278.3958629660468, 198.49653900385258, 951.8069318303369, 218.52391615342154, 316.8439464839738, 629.2045645020988, 1497.1779876842859, 217.30671819654856, 301.4990806926777, 614.0606157998941, 819.9856764065266, 861.8732684794435, 813.8723140619644, 415.614271384381, 752.591519750365, 879.3394313813772, 618.0856168969248, 1715.149804986693, 465.5448456232499, 491.0892573145627, 384.89917890972566, 1104.7236769414912, 932.6845972375196, 2180.1971997643095, 491.1646185649387, 632.53599792078, 1439.3920019910047, 2221.3084821674847, 1898.1718712771192, 886.938986396277, 1918.202647452156, 2340.8793723332014, 1622.254133727982, 1238.5043248750762, 981.8860597031452, 1086.3502933317916, 1505.1074562731806, 1950.6938902799284, 1316.046389991288, 2061.2007865234027, 1482.6565739649366, 1761.802858512875, 1365.8542940946957, 1571.814815554782, 1208.4853528162646, 1272.4365325241017, 1946.3213839179093, 1709.2919383687367, 1526.0302477196042, 1751.053391912858, 1779.8959959411322, 1596.0422921704896, 1498.6392634169072, 1545.2654577051053, 1465.9138346711773, 1457.371154140711, 1355.3672045136607, 1320.079604243735, 1385.93778984842, 1361.4043176991531, 1359.0890957803867], \"Total\": [12261.0, 6852.0, 4521.0, 3731.0, 4306.0, 4470.0, 3021.0, 11337.0, 4400.0, 8356.0, 9475.0, 2759.0, 2725.0, 3118.0, 3165.0, 7677.0, 4301.0, 4693.0, 1871.0, 5152.0, 9324.0, 1877.0, 6361.0, 11888.0, 2455.0, 3940.0, 8884.0, 5169.0, 6106.0, 1651.0, 574.0915177843063, 531.7940180411694, 529.3231079136277, 527.1075397627617, 496.9035631828021, 441.6267195784508, 386.7431326173965, 376.27070496506497, 409.1882025789394, 330.9785052519058, 320.9890902409706, 305.36105980304967, 297.8247042914389, 373.63148806919867, 287.4380996709945, 273.2383453399368, 276.2265243799182, 273.19235989621944, 258.5768037893113, 263.5295826568326, 254.69634939211178, 362.33805745744377, 480.54268473844525, 241.3098801096615, 357.2866139500403, 235.21147591427044, 241.1045585232283, 239.04200201008064, 240.41828438655406, 218.32646039795432, 1468.6261666472963, 352.6967210544751, 433.5187511084048, 258.2828964924248, 483.40029863324685, 508.4051530206241, 681.1750041058, 491.1503350414342, 1194.7448680080531, 574.3289743294561, 2809.11907535507, 356.6875608781338, 1640.2715438427813, 2050.6474606385227, 1323.3712686683639, 1425.133830323109, 11337.20273966499, 9475.510696000623, 1495.4069257462518, 3734.437232384686, 3863.6885202342373, 1031.6425851397803, 873.0017759716053, 1753.7585794653476, 2500.4984096367766, 10188.267095010771, 4115.822203876081, 4947.825961633884, 1442.969832415195, 1154.6935778429659, 3488.166219331837, 5411.994812385904, 1610.391464266564, 9896.278585659726, 7663.582199135066, 7299.226727076628, 6707.942049534764, 8159.900872091614, 11888.226249156352, 7758.57892488476, 2908.3350552125703, 5053.1423712798, 7654.079375314216, 3940.4688560068694, 6769.880000263103, 7813.774116273466, 10126.46431236653, 8759.993659780146, 5270.132443341147, 8770.248856107357, 7566.521006712155, 6094.547496443575, 6598.560277302275, 5052.286483497659, 6452.368304628879, 10770.512412051565, 6908.781857732228, 7984.343110636542, 8477.891861965814, 7708.543740796128, 7382.093615771285, 8063.204133013165, 1110.6270053533044, 506.1262131073955, 496.9430558815216, 428.00993657836733, 403.7672248075612, 397.9267140846576, 377.9727718738304, 311.8288262894877, 258.02234854354106, 266.05718886445345, 244.54645607207283, 243.39645399432302, 219.21110026653378, 211.3563664602325, 210.45371630420172, 212.42210656440855, 207.65340563287432, 205.5748430387836, 186.83846177030424, 200.1867852975816, 189.72664624458727, 184.0290040339533, 173.17569211798138, 169.52396825138507, 169.52397042674284, 163.81139295649268, 161.5262372770397, 162.91411925933116, 154.92961770797916, 157.27854992259938, 534.1664127888957, 4521.950082767393, 4306.876120451231, 808.5315144810169, 2255.861465732746, 1393.5432026254668, 1055.9494723846972, 307.4856630524087, 2294.661466356872, 1297.623099007173, 1461.9115874600056, 430.80132634052165, 910.9697649875525, 1215.2368567228245, 3940.449658438086, 1946.4494326477263, 4693.848469881544, 673.0639961079848, 1179.2632854902379, 1133.6836137509247, 6361.490935811775, 7677.287493543856, 1225.5973721887754, 1729.096848332876, 4774.658748126646, 3474.4528986541663, 8356.903800072774, 8884.88272857959, 8334.302425778293, 3504.8774313790736, 3224.7113888444437, 3172.132745280053, 5169.125427768271, 7201.63945699973, 6027.283222270596, 6081.8747296936735, 6934.21657018464, 5152.912833945644, 5031.03301943764, 5439.350855556608, 3779.517816603173, 6980.453624357675, 6483.170740024562, 5506.380397681144, 5709.875022947398, 10770.512412051565, 6655.7449203519745, 7626.008506186884, 11888.226249156352, 7016.845172155335, 6495.492276838973, 7431.798460273915, 6106.112703530287, 8078.014070323969, 6877.084097732142, 8759.993659780146, 6372.931601265273, 6135.829484575495, 1390.9487294152832, 1330.269235304795, 931.6448543903527, 908.4273292178899, 777.7306307536768, 675.6406852855936, 596.8495492099715, 643.0438408852451, 636.185358538091, 541.1792533005031, 549.7410518968696, 494.4744169620562, 507.3360913992599, 990.6724134605787, 457.56733653656914, 446.9372543646762, 410.70207940918704, 388.37397908674853, 388.38782000811887, 379.0423008296041, 383.3514467694956, 394.5230636363437, 437.63305107207896, 428.84304264743497, 364.25409120661857, 368.9663236793906, 363.7098510417258, 339.52771953730155, 347.789776831915, 344.5789012921776, 1871.3203182994077, 1020.0633945483089, 592.5781962153808, 464.2825537606086, 3021.2827351169767, 768.3930450740166, 1651.990760388927, 1483.8068922065106, 2759.6921459586247, 3731.042282952243, 666.4337669931379, 519.1988099738728, 605.3497541592286, 1500.2188864076847, 1677.89890301408, 6852.9871070481295, 1218.3175991251046, 1598.3144110002531, 1970.1583458458438, 12261.944285539641, 2725.6612990872627, 4470.995551631455, 1543.0191356203818, 3118.9787419699096, 3165.850424743731, 1246.4272656860146, 2180.1330407738023, 2455.8637887163586, 1270.5565016261544, 4301.947296886826, 4400.150203995166, 2879.5901187838413, 2247.2465532332744, 4736.78706413866, 7626.088285533705, 2059.324918888005, 9324.47473506767, 1790.3565741981206, 7174.380986962878, 8770.248856107357, 7626.008506186884, 8078.014070323969, 5276.154166016849, 10126.46431236653, 6531.167899921449, 5839.657260192825, 6565.959895012844, 7452.74494174277, 6791.7621216087655, 6155.444897975972, 6406.566940038643, 7088.245681470011, 6972.019586925801, 8158.8805892688915, 849.7830759676503, 607.8339079302027, 1112.9348915265155, 446.26570487674707, 386.09177827264404, 337.1548437779899, 344.4195178670496, 312.2951897788464, 283.22505125171807, 349.84151480378523, 252.9363265345999, 252.88294551664058, 249.66800836068018, 238.29857978180806, 217.07260604924, 216.1722786265807, 213.87417340017896, 197.8603431885758, 196.58534958583863, 202.82055468201455, 190.7876872972655, 183.31136603841006, 183.27463443373736, 191.18466980470635, 183.4223247123886, 177.08482535935426, 178.8516783389965, 168.8547509488579, 166.2995004666079, 164.07472300543907, 797.953551497519, 512.3791518224623, 280.5452670345297, 199.51501669587282, 980.1431413391105, 220.18077604352078, 321.71862599032886, 655.0169285147372, 1877.5706916386036, 221.38786153755575, 321.2265166416333, 749.3219077829131, 1061.087965720185, 1142.6556691856408, 1083.3108627724473, 485.3130568496444, 1021.0782013841704, 1250.8448482691479, 821.8991720901639, 3162.5386969899496, 576.582748431251, 634.776192562168, 456.85686896983003, 2100.0411278571064, 1712.110654135587, 6228.147216237877, 660.1340655014567, 978.4172119216344, 3549.10755240933, 7452.74494174277, 6011.92596483066, 1726.45795577519, 6531.167899921449, 9324.47473506767, 5221.600725394735, 3233.058315523501, 2144.916949152057, 2685.292687122047, 4995.205044839808, 8477.891861965814, 3859.7886875216586, 9896.278585659726, 5228.104877946263, 7626.088285533705, 4400.150203995166, 6124.4551648385295, 3373.5014246379096, 3925.8973189048093, 12261.944285539641, 8770.248856107357, 6683.684196207212, 10188.267095010771, 10770.512412051565, 8158.8805892688915, 6972.019586925801, 7953.923149229332, 6590.8647026280305, 6704.612010112714, 5276.154166016849, 4881.607974403896, 7674.703439682186, 7104.607253184053, 7016.845172155335], \"Category\": [\"Default\", \"Default\", \"Default\", \"Default\", \"Default\", \"Default\", \"Default\", \"Default\", \"Default\", \"Default\", \"Default\", \"Default\", \"Default\", \"Default\", \"Default\", \"Default\", \"Default\", \"Default\", \"Default\", \"Default\", \"Default\", \"Default\", \"Default\", \"Default\", \"Default\", \"Default\", \"Default\", \"Default\", \"Default\", \"Default\", \"Topic1\", \"Topic1\", \"Topic1\", \"Topic1\", \"Topic1\", \"Topic1\", \"Topic1\", \"Topic1\", \"Topic1\", \"Topic1\", \"Topic1\", \"Topic1\", \"Topic1\", \"Topic1\", \"Topic1\", \"Topic1\", \"Topic1\", \"Topic1\", \"Topic1\", \"Topic1\", \"Topic1\", \"Topic1\", \"Topic1\", \"Topic1\", \"Topic1\", \"Topic1\", \"Topic1\", \"Topic1\", \"Topic1\", \"Topic1\", \"Topic1\", \"Topic1\", \"Topic1\", \"Topic1\", \"Topic1\", \"Topic1\", \"Topic1\", \"Topic1\", \"Topic1\", \"Topic1\", \"Topic1\", \"Topic1\", \"Topic1\", \"Topic1\", \"Topic1\", \"Topic1\", \"Topic1\", \"Topic1\", \"Topic1\", \"Topic1\", \"Topic1\", \"Topic1\", \"Topic1\", \"Topic1\", \"Topic1\", \"Topic1\", \"Topic1\", \"Topic1\", \"Topic1\", \"Topic1\", \"Topic1\", \"Topic1\", \"Topic1\", \"Topic1\", \"Topic1\", \"Topic1\", \"Topic1\", \"Topic1\", \"Topic1\", \"Topic1\", \"Topic1\", \"Topic1\", \"Topic1\", \"Topic1\", \"Topic1\", \"Topic1\", \"Topic1\", \"Topic1\", \"Topic1\", \"Topic1\", \"Topic1\", \"Topic1\", \"Topic1\", \"Topic1\", \"Topic1\", \"Topic1\", \"Topic1\", \"Topic1\", \"Topic1\", \"Topic1\", \"Topic1\", \"Topic1\", \"Topic2\", \"Topic2\", \"Topic2\", \"Topic2\", \"Topic2\", \"Topic2\", \"Topic2\", \"Topic2\", \"Topic2\", \"Topic2\", \"Topic2\", \"Topic2\", \"Topic2\", \"Topic2\", \"Topic2\", \"Topic2\", \"Topic2\", \"Topic2\", \"Topic2\", \"Topic2\", \"Topic2\", \"Topic2\", \"Topic2\", \"Topic2\", \"Topic2\", \"Topic2\", \"Topic2\", \"Topic2\", \"Topic2\", \"Topic2\", \"Topic2\", \"Topic2\", \"Topic2\", \"Topic2\", \"Topic2\", \"Topic2\", \"Topic2\", \"Topic2\", \"Topic2\", \"Topic2\", \"Topic2\", \"Topic2\", \"Topic2\", \"Topic2\", \"Topic2\", \"Topic2\", \"Topic2\", \"Topic2\", \"Topic2\", \"Topic2\", \"Topic2\", \"Topic2\", \"Topic2\", \"Topic2\", \"Topic2\", \"Topic2\", \"Topic2\", \"Topic2\", \"Topic2\", \"Topic2\", \"Topic2\", \"Topic2\", \"Topic2\", \"Topic2\", \"Topic2\", \"Topic2\", \"Topic2\", \"Topic2\", \"Topic2\", \"Topic2\", \"Topic2\", \"Topic2\", \"Topic2\", \"Topic2\", \"Topic2\", \"Topic2\", \"Topic2\", \"Topic2\", \"Topic2\", \"Topic2\", \"Topic2\", \"Topic2\", \"Topic2\", \"Topic2\", \"Topic2\", \"Topic2\", \"Topic2\", \"Topic2\", \"Topic3\", \"Topic3\", \"Topic3\", \"Topic3\", \"Topic3\", \"Topic3\", \"Topic3\", \"Topic3\", \"Topic3\", \"Topic3\", \"Topic3\", \"Topic3\", \"Topic3\", \"Topic3\", \"Topic3\", \"Topic3\", \"Topic3\", \"Topic3\", \"Topic3\", \"Topic3\", \"Topic3\", \"Topic3\", \"Topic3\", \"Topic3\", \"Topic3\", \"Topic3\", \"Topic3\", \"Topic3\", \"Topic3\", \"Topic3\", \"Topic3\", \"Topic3\", \"Topic3\", \"Topic3\", \"Topic3\", \"Topic3\", \"Topic3\", \"Topic3\", \"Topic3\", \"Topic3\", \"Topic3\", \"Topic3\", \"Topic3\", \"Topic3\", \"Topic3\", \"Topic3\", \"Topic3\", \"Topic3\", \"Topic3\", \"Topic3\", \"Topic3\", \"Topic3\", \"Topic3\", \"Topic3\", \"Topic3\", \"Topic3\", \"Topic3\", \"Topic3\", \"Topic3\", \"Topic3\", \"Topic3\", \"Topic3\", \"Topic3\", \"Topic3\", \"Topic3\", \"Topic3\", \"Topic3\", \"Topic3\", \"Topic3\", \"Topic3\", \"Topic3\", \"Topic3\", \"Topic3\", \"Topic3\", \"Topic3\", \"Topic3\", \"Topic3\", \"Topic3\", \"Topic3\", \"Topic3\", \"Topic3\", \"Topic3\", \"Topic3\", \"Topic3\", \"Topic4\", \"Topic4\", \"Topic4\", \"Topic4\", \"Topic4\", \"Topic4\", \"Topic4\", \"Topic4\", \"Topic4\", \"Topic4\", \"Topic4\", \"Topic4\", \"Topic4\", \"Topic4\", \"Topic4\", \"Topic4\", \"Topic4\", \"Topic4\", \"Topic4\", \"Topic4\", \"Topic4\", \"Topic4\", \"Topic4\", \"Topic4\", \"Topic4\", \"Topic4\", \"Topic4\", \"Topic4\", \"Topic4\", \"Topic4\", \"Topic4\", \"Topic4\", \"Topic4\", \"Topic4\", \"Topic4\", \"Topic4\", \"Topic4\", \"Topic4\", \"Topic4\", \"Topic4\", \"Topic4\", \"Topic4\", \"Topic4\", \"Topic4\", \"Topic4\", \"Topic4\", \"Topic4\", \"Topic4\", \"Topic4\", \"Topic4\", \"Topic4\", \"Topic4\", \"Topic4\", \"Topic4\", \"Topic4\", \"Topic4\", \"Topic4\", \"Topic4\", \"Topic4\", \"Topic4\", \"Topic4\", \"Topic4\", \"Topic4\", \"Topic4\", \"Topic4\", \"Topic4\", \"Topic4\", \"Topic4\", \"Topic4\", \"Topic4\", \"Topic4\", \"Topic4\", \"Topic4\", \"Topic4\", \"Topic4\", \"Topic4\", \"Topic4\", \"Topic4\", \"Topic4\", \"Topic4\", \"Topic4\", \"Topic4\", \"Topic4\", \"Topic4\", \"Topic4\", \"Topic4\", \"Topic4\", \"Topic4\", \"Topic4\", \"Topic4\", \"Topic4\", \"Topic4\", \"Topic4\"], \"logprob\": [30.0, 29.0, 28.0, 27.0, 26.0, 25.0, 24.0, 23.0, 22.0, 21.0, 20.0, 19.0, 18.0, 17.0, 16.0, 15.0, 14.0, 13.0, 12.0, 11.0, 10.0, 9.0, 8.0, 7.0, 6.0, 5.0, 4.0, 3.0, 2.0, 1.0, -8.055, -8.1317, -8.1363, -8.1405, -8.1999, -8.3178, -8.4507, -8.4782, -8.3944, -8.6067, -8.6374, -8.6875, -8.7125, -8.4858, -8.7481, -8.7989, -8.788, -8.7991, -8.8541, -8.8352, -8.8693, -8.5168, -8.2346, -8.9235, -8.531, -8.9492, -8.9244, -8.9331, -8.9275, -9.0239, -7.1243, -8.5452, -8.3455, -8.857, -8.2456, -8.2025, -7.9234, -8.2378, -7.395, -8.0932, -6.6047, -8.5461, -7.1249, -6.9244, -7.3357, -7.2678, -5.3749, -5.5492, -7.2345, -6.4248, -6.4303, -7.594, -7.744, -7.1446, -6.8481, -5.6896, -6.4858, -6.3491, -7.3602, -7.5421, -6.6607, -6.3132, -7.2828, -5.8885, -6.0926, -6.134, -6.2004, -6.068, -5.7893, -6.1168, -6.8528, -6.4858, -6.1997, -6.6632, -6.301, -6.2661, -6.1492, -6.2392, -6.5255, -6.2495, -6.3412, -6.4596, -6.4492, -6.565, -6.4749, -6.3062, -6.4574, -6.4189, -6.4272, -6.4584, -6.4668, -6.4727, -7.3323, -8.119, -8.1373, -8.2869, -8.3452, -8.3598, -8.4114, -8.6043, -8.7941, -8.7635, -8.8479, -8.8527, -8.9577, -8.9942, -8.9985, -8.9893, -9.012, -9.0222, -9.1181, -9.0491, -9.1029, -9.1334, -9.1943, -9.2158, -9.2158, -9.2501, -9.2643, -9.2558, -9.3061, -9.2911, -8.0689, -5.9641, -6.0145, -7.6767, -6.6905, -7.1628, -7.437, -8.6373, -6.6984, -7.2507, -7.1364, -8.3104, -7.5949, -7.3318, -6.2389, -6.9042, -6.0878, -7.9068, -7.3939, -7.4371, -5.8814, -5.7136, -7.3837, -7.0765, -6.1745, -6.4583, -5.7132, -5.6746, -5.7483, -6.4881, -6.5692, -6.5853, -6.2012, -5.9429, -6.0924, -6.108, -6.0059, -6.2694, -6.2909, -6.2411, -6.5072, -6.0681, -6.121, -6.2515, -6.2405, -5.8284, -6.1522, -6.079, -5.8292, -6.1297, -6.1736, -6.1215, -6.2221, -6.1244, -6.1826, -6.1185, -6.2347, -6.2399, -6.8818, -6.9265, -7.2829, -7.3082, -7.4636, -7.6045, -7.7286, -7.6541, -7.6649, -7.8267, -7.811, -7.917, -7.8914, -7.2223, -7.9947, -8.0183, -8.103, -8.1589, -8.1589, -8.1833, -8.172, -8.1433, -8.0396, -8.0599, -8.2232, -8.2103, -8.2247, -8.2936, -8.2696, -8.2789, -6.5901, -7.199, -7.7368, -7.9808, -6.137, -7.485, -6.7358, -6.8432, -6.2408, -5.9534, -7.6308, -7.8746, -7.7276, -6.8764, -6.7712, -5.4609, -7.0815, -6.8344, -6.6433, -5.0011, -6.3641, -5.9254, -6.9024, -6.3145, -6.3058, -7.1095, -6.659, -6.5747, -7.1054, -6.1576, -6.1524, -6.5296, -6.7289, -6.2576, -5.978, -6.7953, -5.9217, -6.899, -6.2495, -6.2739, -6.3248, -6.3132, -6.463, -6.2552, -6.4052, -6.4422, -6.4283, -6.3959, -6.423, -6.4497, -6.4596, -6.4498, -6.4516, -6.4563, -7.0238, -7.3592, -6.7546, -7.6689, -7.8138, -7.9497, -7.9284, -8.0264, -8.1244, -7.9132, -8.2378, -8.2381, -8.2509, -8.2977, -8.3913, -8.3954, -8.4062, -8.4844, -8.4908, -8.4597, -8.5209, -8.561, -8.5612, -8.519, -8.5604, -8.5958, -8.5859, -8.6435, -8.6589, -8.6724, -7.0927, -7.534, -8.1387, -8.477, -6.9094, -8.3809, -8.0094, -7.3233, -6.4564, -8.3865, -8.059, -7.3477, -7.0585, -7.0087, -7.066, -7.738, -7.1443, -6.9886, -7.3411, -6.3205, -7.6246, -7.5711, -7.8148, -6.7604, -6.9297, -6.0806, -7.571, -7.318, -6.4958, -6.0619, -6.2191, -6.98, -6.2086, -6.0095, -6.3762, -6.6461, -6.8783, -6.7772, -6.4512, -6.1918, -6.5854, -6.1367, -6.4662, -6.2937, -6.5482, -6.4078, -6.6707, -6.6191, -6.1941, -6.3239, -6.4373, -6.2998, -6.2835, -6.3925, -6.4555, -6.4248, -6.4775, -6.4834, -6.5559, -6.5823, -6.5336, -6.5515, -6.5532], \"loglift\": [30.0, 29.0, 28.0, 27.0, 26.0, 25.0, 24.0, 23.0, 22.0, 21.0, 20.0, 19.0, 18.0, 17.0, 16.0, 15.0, 14.0, 13.0, 12.0, 11.0, 10.0, 9.0, 8.0, 7.0, 6.0, 5.0, 4.0, 3.0, 2.0, 1.0, 1.1674, 1.1673, 1.1673, 1.1673, 1.167, 1.1669, 1.1668, 1.1667, 1.1666, 1.1664, 1.1664, 1.1663, 1.1662, 1.1662, 1.1661, 1.166, 1.166, 1.166, 1.1659, 1.1658, 1.1658, 1.1658, 1.1657, 1.1656, 1.1656, 1.1656, 1.1655, 1.1655, 1.1654, 1.1653, 1.1588, 1.1644, 1.1578, 1.1641, 1.1488, 1.1414, 1.128, 1.1407, 1.0945, 1.1288, 1.0299, 1.1522, 1.0477, 1.0249, 1.0516, 1.0454, 0.8645, 0.8696, 1.0305, 0.925, 0.8856, 1.0423, 1.0593, 0.9611, 0.9029, 0.6566, 0.7668, 0.7194, 0.9405, 0.9815, 0.7574, 0.6656, 0.9082, 0.4868, 0.5383, 0.5457, 0.5638, 0.5003, 0.4026, 0.5019, 0.7471, 0.5617, 0.4325, 0.6329, 0.454, 0.3454, 0.2031, 0.2581, 0.4799, 0.2466, 0.3026, 0.4005, 0.3313, 0.4826, 0.3281, -0.0156, 0.2772, 0.1711, 0.1028, 0.1667, 0.2016, 0.1074, 1.2302, 1.2294, 1.2294, 1.2292, 1.2291, 1.2291, 1.229, 1.2285, 1.2281, 1.228, 1.2279, 1.2278, 1.2275, 1.2274, 1.2274, 1.2274, 1.2273, 1.2271, 1.2269, 1.2268, 1.2267, 1.2267, 1.2266, 1.2264, 1.2264, 1.2264, 1.2263, 1.2262, 1.2261, 1.2261, 1.2256, 1.1944, 1.1928, 1.2033, 1.1634, 1.1728, 1.176, 1.2095, 1.1385, 1.1562, 1.1513, 1.1992, 1.1658, 1.1408, 1.0573, 1.0972, 1.0334, 1.1565, 1.1087, 1.1049, 0.9358, 0.9156, 1.0803, 1.0434, 0.9296, 0.9637, 0.8312, 0.8085, 0.7988, 0.9252, 0.9274, 0.9277, 0.8235, 0.7502, 0.7787, 0.7541, 0.725, 0.7585, 0.7609, 0.7327, 0.8307, 0.6562, 0.6773, 0.7101, 0.6848, 0.4622, 0.6198, 0.5569, 0.3627, 0.5894, 0.6228, 0.5402, 0.6361, 0.4539, 0.5567, 0.3787, 0.5806, 0.6134, 1.4556, 1.4555, 1.4554, 1.4553, 1.4552, 1.4551, 1.4549, 1.4549, 1.4549, 1.4548, 1.4548, 1.4547, 1.4547, 1.4546, 1.4546, 1.4545, 1.4543, 1.4543, 1.4543, 1.4543, 1.4543, 1.4542, 1.4542, 1.4542, 1.4542, 1.4542, 1.4541, 1.454, 1.454, 1.454, 1.4507, 1.4486, 1.4539, 1.4539, 1.4247, 1.4459, 1.4296, 1.4297, 1.4115, 1.3974, 1.4425, 1.4483, 1.4418, 1.3855, 1.3787, 1.2819, 1.3885, 1.3641, 1.346, 1.1598, 1.3006, 1.2444, 1.3313, 1.2155, 1.2092, 1.3376, 1.2291, 1.1943, 1.3226, 1.0508, 1.0334, 1.0802, 1.1289, 0.8545, 0.6578, 1.1498, 0.5131, 1.1861, 0.4475, 0.2221, 0.3111, 0.2651, 0.5413, 0.0971, 0.3857, 0.4605, 0.3572, 0.263, 0.3287, 0.4004, 0.3506, 0.2592, 0.2739, 0.112, 1.8065, 1.8061, 1.8059, 1.8054, 1.8053, 1.8049, 1.8049, 1.8048, 1.8046, 1.8045, 1.8043, 1.8042, 1.8042, 1.804, 1.8037, 1.8037, 1.8036, 1.8033, 1.8033, 1.8032, 1.8032, 1.8031, 1.803, 1.803, 1.803, 1.8028, 1.8027, 1.8027, 1.8025, 1.8025, 1.8004, 1.8021, 1.7997, 1.8023, 1.7781, 1.7999, 1.7922, 1.7672, 1.581, 1.7888, 1.7441, 1.6084, 1.5497, 1.5254, 1.5215, 1.6524, 1.5023, 1.455, 1.5224, 1.1956, 1.5935, 1.5508, 1.636, 1.1651, 1.2, 0.7578, 1.5118, 1.3712, 0.905, 0.5969, 0.6546, 1.1414, 0.5822, 0.4253, 0.6384, 0.8479, 1.026, 0.9025, 0.6078, 0.3382, 0.7315, 0.2386, 0.5472, 0.3422, 0.6376, 0.4474, 0.7808, 0.6808, -0.0331, 0.1721, 0.3304, 0.0464, 0.0072, 0.1759, 0.2701, 0.169, 0.3042, 0.2813, 0.4483, 0.4996, 0.0959, 0.1552, 0.1659]}, \"token.table\": {\"Topic\": [1, 2, 3, 4, 1, 2, 3, 4, 1, 2, 3, 4, 1, 2, 4, 1, 2, 2, 1, 2, 1, 2, 3, 4, 1, 2, 3, 1, 2, 1, 2, 3, 4, 1, 2, 3, 4, 1, 2, 1, 4, 3, 4, 1, 2, 3, 4, 2, 3, 4, 1, 2, 3, 4, 2, 3, 4, 3, 2, 1, 2, 3, 4, 4, 1, 2, 3, 4, 1, 2, 3, 4, 2, 1, 4, 4, 1, 1, 2, 3, 4, 1, 1, 2, 3, 4, 1, 2, 3, 4, 4, 2, 3, 4, 1, 2, 3, 4, 4, 1, 2, 1, 1, 2, 4, 1, 2, 3, 4, 1, 1, 2, 3, 4, 1, 2, 4, 1, 3, 1, 3, 4, 2, 1, 2, 3, 4, 1, 2, 4, 2, 3, 4, 2, 3, 1, 2, 3, 4, 1, 2, 3, 4, 1, 2, 1, 2, 3, 4, 3, 2, 3, 4, 2, 3, 4, 3, 4, 1, 2, 3, 4, 1, 2, 3, 4, 3, 1, 2, 4, 1, 2, 3, 4, 1, 3, 4, 1, 2, 3, 4, 2, 1, 2, 3, 4, 1, 1, 2, 3, 4, 2, 2, 3, 1, 2, 3, 4, 1, 2, 3, 4, 1, 2, 3, 4, 1, 2, 3, 4, 1, 2, 3, 4, 1, 1, 2, 3, 4, 3, 4, 3, 1, 2, 3, 4, 1, 4, 1, 2, 3, 4, 1, 2, 3, 4, 3, 1, 2, 3, 4, 2, 1, 3, 4, 3, 2, 1, 2, 3, 4, 3, 3, 1, 4, 4, 1, 2, 3, 4, 3, 4, 1, 2, 3, 4, 1, 2, 3, 4, 1, 2, 3, 4, 1, 2, 3, 4, 2, 3, 4, 1, 2, 3, 4, 1, 2, 3, 4, 1, 2, 3, 4, 1, 3, 1, 2, 3, 4, 1, 2, 3, 4, 1, 2, 3, 4, 2, 2, 3, 4, 3, 4, 1, 2, 3, 4, 1, 2, 3, 4, 1, 2, 3, 4, 1, 2, 3, 4, 3, 4, 1, 2, 3, 4, 4, 1, 1, 2, 3, 4, 1, 2, 3, 4, 1, 2, 3, 4, 1, 4, 1, 4, 1, 2, 3, 4, 1, 2, 3, 4, 1, 2, 3, 4, 1, 2, 3, 1, 2, 3, 4, 3, 3, 1, 4, 1, 2, 3, 4, 2, 3, 1, 2, 4, 4, 1, 3, 4, 1, 4, 2, 1, 3, 4, 4, 1, 2, 3, 4, 3, 4, 1, 2, 4, 3, 4, 1, 2, 3, 4, 1, 2, 3, 4, 2, 4, 2, 3, 4, 2, 1, 2, 3, 4, 2, 3, 4, 1, 2, 3, 4, 1, 1, 2, 4, 1, 3, 4, 1, 1, 2, 3, 4, 1, 2, 3, 4, 1, 1, 3, 4, 2, 3, 4, 1, 2, 3, 4, 2, 1, 2, 3, 4, 1, 2, 3, 2, 3, 4, 4, 3, 4, 1, 2, 3, 4, 1, 1, 2, 3, 4, 1, 1, 2, 3, 4, 3, 1, 3, 4, 1, 2, 3, 4, 1, 2, 4, 1, 4, 1, 2, 3, 4, 1, 2, 4, 1, 2, 3, 4, 3, 1, 2, 3, 4, 1, 2, 3, 4, 1, 1, 3, 1, 2, 3, 4, 1, 2, 3, 4, 1, 2, 3, 4, 1, 2, 3, 4, 1, 2, 3, 4, 4, 4, 4, 1, 2, 3, 4, 1, 2, 3, 4, 1, 2, 3, 4, 2, 1, 2, 3, 3, 4, 1, 2, 3, 4, 1, 2, 3, 4, 4, 1, 2, 3, 4, 2, 1, 2, 3, 4, 1, 2, 3, 4, 3, 1, 2, 3, 4, 3, 1, 2, 4, 1, 2, 4, 2, 3, 1, 2, 3, 4, 1, 1, 2, 3, 4, 2, 3, 4, 3, 3, 1, 2, 3, 4, 1, 2, 4, 4, 2, 3, 3, 4, 1, 3, 3, 3, 4, 2, 1, 2, 3, 4, 1, 2, 3, 4, 2, 2, 3, 4, 1, 2, 3, 4, 2, 1, 2, 3, 4, 1, 2, 3, 4, 1, 2, 3, 4, 1, 1, 2, 4, 1, 2, 3, 4, 1, 1, 2, 3, 4, 2, 3, 3, 3, 4, 1, 2, 3, 4, 1, 2, 4, 1, 4, 1, 2, 1, 2, 3, 4, 1, 2, 3, 4, 1, 2, 3, 4, 2, 1, 2, 3, 4, 1, 2, 1, 2, 4, 3, 4, 1, 2, 3, 4, 1, 2, 3, 4, 1, 2, 3, 4, 1, 2, 3, 4, 1, 2, 3, 4, 3, 4, 1, 2, 3, 4, 2, 1, 2, 3, 4, 1, 2, 3, 4, 1, 2, 3, 4, 1, 1, 2, 3, 4, 2, 1, 2, 3, 4, 1, 3, 4, 1, 2, 3, 4, 2, 3, 1, 2, 3, 4, 1, 2, 3, 4, 1, 2, 3, 4, 1, 2, 3, 4, 1, 2, 3, 4, 4, 2, 3, 4, 4, 3, 3, 4, 2, 3, 1, 2, 3, 4, 1, 2, 3, 4, 4, 1, 2, 3, 4, 1, 2, 3, 4, 1, 2, 3, 4, 2, 1, 3, 1, 2, 3, 4, 1, 3, 4, 4, 4, 1, 3, 4, 1, 2, 3, 4, 1, 2, 3, 4, 1, 2, 3, 4, 1, 2, 3, 4, 2, 3, 2, 3, 4, 3, 1, 2, 3, 4, 2], \"Freq\": [0.604767763729079, 0.06393206423778226, 0.18311177936312784, 0.14818935121011959, 0.4789602799029639, 0.16906017517578703, 0.1806879615673211, 0.17128121302585533, 0.5057456655729692, 0.09549044035293823, 0.19047564028072866, 0.20826010324593197, 0.1089162638618459, 0.8749264026260545, 0.016440190771599382, 0.994849418339129, 0.9960264600668541, 0.9981022858245826, 0.9987158415995206, 0.993210986463502, 0.02083433021687717, 0.946067994848195, 0.0037880600394322125, 0.029357465305599646, 0.10673171820809632, 0.8811982354536216, 0.011467044105002084, 0.06257068257449669, 0.9363647760709769, 0.34601629252779387, 0.3584183101811198, 0.15638944260844018, 0.1391506380703171, 0.29061740710297024, 0.1616864231364247, 0.36477014598967533, 0.183012304808729, 0.9950329793035195, 0.0038717236548775078, 0.018067837921283, 0.9801802072296028, 0.9919129052432071, 0.005778133428601206, 0.1045247048740256, 0.6361074896619272, 0.19677190473110215, 0.06254891069445659, 0.0016875409969295194, 0.9973367291853459, 0.9938035313923628, 0.1481799845332523, 0.45976646830116874, 0.30391133001598525, 0.08814047534475825, 0.00561605172857584, 0.888138466219065, 0.10590268973885869, 0.9985534660361503, 0.9968533834979354, 0.22475750295501662, 0.06999862909827848, 0.17952029367381622, 0.5261801711129096, 0.998628066122467, 0.46385724315868787, 0.15111868445318413, 0.19131855165299969, 0.19377976801217206, 0.0004432896324487644, 0.9344545452019953, 0.03501988096345239, 0.03014369500651598, 0.9943889500585518, 0.18016288940415046, 0.8194075118085066, 0.9971722312308006, 0.9970961954146021, 0.5022644171579606, 0.17779439322894183, 0.19373327159738488, 0.12637253563551257, 0.9956354566552579, 0.29039761702126693, 0.6249213606535683, 0.06559289090829437, 0.01928033460031683, 0.38024443282635384, 0.4067951662905382, 0.15808523445256678, 0.05499794789009607, 0.994577109359125, 0.9994354492099669, 0.9980341463808519, 0.994937951440189, 0.770620080605805, 0.02732254919150316, 0.19933041569255713, 0.002483868108318469, 0.9924065029241272, 0.07131565538724641, 0.9285892628547708, 0.9985069067830171, 0.0050128231054216155, 0.0012532057763554039, 0.9925389748734798, 0.2276336928364645, 0.08572464768396118, 0.17318695714529997, 0.513768665511308, 0.9993895828298498, 0.4100578160286447, 0.4090446128121955, 0.09046457289724777, 0.09046457289724777, 0.9282316498659569, 0.000836998782566237, 0.07030789773556391, 0.9963071572805986, 0.0027598536212758962, 0.1842806779743867, 0.018108505928118922, 0.7973068639527655, 0.9944751873191584, 0.24414309845588833, 0.12031932603328467, 0.09053153172407342, 0.5449414135391, 0.2965995347171713, 0.0007994596623104348, 0.7027250431708721, 0.004275056451730363, 0.9944850070837757, 0.0005343820564662954, 0.97213279374091, 0.02720982374338425, 0.21754674516862882, 0.18466177206174306, 0.05533529128562506, 0.5422858545991256, 0.7534251233646339, 0.052281647172674695, 0.10223391402577478, 0.09188111260544315, 0.9840545017490054, 0.014017870395284977, 0.26989148913170724, 0.5218948214256153, 0.12615857980342596, 0.08206584233481563, 0.9985766107872645, 0.2084015486394331, 0.7861547650213692, 0.00512988427420143, 0.1438183093883559, 0.8559390709261079, 0.9930452217914629, 0.9993375369800068, 0.9959542824281246, 0.22307553859147655, 0.6553828764975621, 0.053349044042563014, 0.06820573985188436, 0.7837861015891051, 0.1371023177361195, 0.028116686254477635, 0.05114559118671646, 0.9983767189437533, 0.9732254381129053, 0.016288291851262012, 0.010180182407038758, 0.15905926532492395, 0.15984603827789143, 0.4500341290973941, 0.23104899052144764, 0.005435388879142352, 0.9562660834704444, 0.03804772215399646, 0.005760193958301402, 0.9134021848163651, 0.06583078809487317, 0.01481192732134646, 0.9972037286747428, 0.11099881183425843, 0.0728429702662321, 0.006937425739641152, 0.8082100986681942, 0.999127701715364, 0.35154171174775256, 0.5392913881192922, 0.06861337999341856, 0.04058131025739008, 0.9983711595308111, 0.9679635936644899, 0.03017632306388098, 0.30497439383191133, 0.01608384227105415, 0.29600455871920806, 0.38322847257377096, 0.1257320358660037, 0.025752344695446544, 0.10452422258740068, 0.7437883085567207, 0.1334269934685667, 0.0958601700647955, 0.42981627604728573, 0.3409513075818132, 0.4893735191570965, 0.21388857704179767, 0.14726996637477366, 0.14948566296015142, 0.0034701847351344957, 0.6704636231365028, 0.19241576048607825, 0.1336619430739735, 0.9985047144658542, 0.26250586869834575, 0.37511492032746563, 0.14497483203113185, 0.21731309698493734, 0.8826850999825081, 0.11730249860266811, 0.9986741874314709, 0.8706660224609191, 0.04413514399571479, 0.0494848584194378, 0.034773143754199536, 0.012433224802222807, 0.9853330655761575, 0.004357941311437342, 0.9116813223526918, 0.013945412196599493, 0.07016285511414119, 0.27829985856904865, 0.08118419766349512, 0.3894053127029733, 0.2510597182698046, 0.9993024341723195, 0.12517441880457703, 0.7294242927217808, 0.10680855714854647, 0.03855528404386555, 0.9978441040996117, 0.1481985376312183, 0.205433834923275, 0.6469632711762839, 0.9990370645128493, 0.9974263440485202, 0.3013592081069493, 0.2698423960461686, 0.34798459502160933, 0.08074152368148452, 0.997729154551036, 0.9979029397179957, 0.03816695250409475, 0.960280525003024, 0.9983014362658515, 0.1660077151595011, 0.3149577568347232, 0.3332338355678793, 0.18580680045375353, 0.22527624960665962, 0.77350096892916, 0.26325993447014917, 0.07922437192838182, 0.4004810954178727, 0.2568158468013334, 0.14515576913745573, 0.2859029828567885, 0.31219103553522537, 0.2566758932329363, 0.6691251136665759, 0.1846532630307181, 0.07556205895072807, 0.07070276255518286, 0.25524477745255164, 0.150944754666058, 0.2924804861632768, 0.3012889333851688, 0.003935283471140891, 0.8752070439817342, 0.12120673091113944, 0.07093559005522784, 0.02178337017444005, 0.7635350520117832, 0.143546823970028, 0.43896841001027437, 0.2443121558920157, 0.2050225635091719, 0.11159779986267034, 0.11926613041128947, 0.64912451260068, 0.16810045141470478, 0.06371259079315363, 0.9984758468988768, 0.997820956192775, 0.12578015744572119, 0.3691473137098186, 0.28266397264339993, 0.22242908421643817, 0.34081306371491965, 0.5791720460972453, 0.04623568798599116, 0.033976225262432894, 0.3419977299121003, 0.04992248742005491, 0.3244005312812763, 0.28365919097295567, 0.9983139071408121, 0.9624144934927287, 0.01950369540491899, 0.018110574304567632, 0.0008985251586715801, 0.9982614512841254, 0.5323881044116002, 0.11756903972422837, 0.19312117512969812, 0.15684571115263318, 0.0004473276649246956, 0.007380906471257477, 0.8092157458487743, 0.1829570149542005, 0.2282086646119054, 0.5628574031765073, 0.205001003803915, 0.00415445779896124, 0.11229859062036911, 0.4053189081059302, 0.3021904285286817, 0.1801574123394615, 0.004541722569832076, 0.9946372427932246, 0.30602072342556064, 0.46358054370868457, 0.06517795747716734, 0.16526604602472633, 0.9959126743249018, 0.9979904242571422, 0.22587807268579657, 0.0764784025629075, 0.33940996486251584, 0.35808492362787697, 0.5462181952293581, 0.09779452403669729, 0.19454550894495423, 0.16159948788990833, 0.7377481193608039, 0.13468930873552695, 0.03184206971416191, 0.09570261950101294, 0.9736329324339474, 0.02557015782149761, 0.9963989304390223, 0.002798873400109613, 0.4648296460872077, 0.41965890414930856, 0.015645731844411984, 0.09984668655546788, 0.6560454568603837, 0.05982804480802242, 0.24275057261186106, 0.04126072055725684, 0.22203323143875126, 0.2639262939743647, 0.2856209156445931, 0.22831719081909327, 0.8841274925838583, 0.07718573347954319, 0.038592866739771595, 0.5133672079077497, 0.21666338852446076, 0.20880112397955172, 0.06109366220142439, 0.998290538459905, 0.9993078323920173, 0.9895765728775251, 0.009226821192331236, 0.1262212591212804, 0.6183314266964374, 0.13538583899147238, 0.12011153920781908, 0.009109921081242627, 0.9903785632608055, 0.8893951590654909, 0.05969602172147305, 0.05062827158656575, 0.9934497953996031, 0.8858289381744398, 0.008535172150338718, 0.1048606864184471, 0.9611216300631085, 0.03830557221266012, 0.9950467855632716, 0.9967897030015452, 0.002080980590817422, 0.002080980590817422, 0.99702241501174, 0.17187419400291162, 0.09861634082134274, 0.3240251198415547, 0.40545404126260626, 0.9993179263942518, 0.9950587682676243, 0.06781630202739905, 0.9278503141021417, 0.003853198978829492, 0.15540972418801194, 0.8427147015828816, 0.0006053302621163394, 0.0066586328832797335, 0.9739763917451901, 0.018765238125606522, 0.3977082129854336, 0.11630228705422657, 0.2910977831857259, 0.19486334174085607, 0.0039033594417069366, 0.9953566576352688, 0.996909166146688, 0.9990405631802532, 0.9958526745808554, 0.9973420472399871, 0.24634368564479087, 0.14437968881814886, 0.2935831230000377, 0.3157058172544315, 0.02747177516201126, 0.9691247912574574, 0.003309852429157983, 0.09479851601686373, 0.22770795059404236, 0.3669372862390119, 0.31063271308960194, 0.9956409250202117, 0.8125405723941929, 0.10605792734408412, 0.08153915919464531, 0.8296573380009605, 0.12557444051162764, 0.045033592459342325, 0.9982601806363383, 0.1993766311479714, 0.5426890668473796, 0.17398503305904364, 0.08398759367876113, 0.19322730931709445, 0.17026051343946833, 0.34281770646669923, 0.2936687632885794, 0.9954187571981478, 0.007141813991001684, 0.02142544197300505, 0.971286702776229, 0.9969091789391805, 0.14217626957722054, 0.8571786687554166, 0.13366401536344502, 0.7383045376914816, 0.10371571003437124, 0.02427388958251242, 0.9980998338636157, 0.16233554765050043, 0.6076092695185775, 0.13273642741071495, 0.09725425221643798, 0.9900409192077204, 0.00544726778106036, 0.00408545083579527, 0.021163349814741647, 0.7811487177888969, 0.19741930797333626, 0.9956746366668346, 0.9348957946745052, 0.06484351868242837, 0.2513639969581905, 0.7364023565823946, 0.0008559500463956544, 0.011412667285275391, 0.999280557956033, 0.38078443581645943, 0.23038643380700205, 0.2568517421054489, 0.13193153689076498, 0.998817597098718, 0.06519170824611693, 0.8206485626275897, 0.0994919207546948, 0.0147000910751048, 0.9980483040541995, 0.024919384087797928, 0.7208821825398687, 0.2540887198952253, 0.15006744115982176, 0.526447414667029, 0.12983042630256184, 0.1936767830353255, 0.02081026260640025, 0.9436377699109079, 0.035162167852193525, 0.9969186172644432, 0.9952380746610484, 0.16587969957989446, 0.509571946693652, 0.3182529888382639, 0.006294249470225244, 0.26326109527226743, 0.6701913108790486, 0.06667517186795115, 0.7666471582673249, 0.032793462168972685, 0.0831834162334917, 0.11757655948387769, 0.9983199746414922, 0.21368698911803494, 0.31779891150059836, 0.3310665477862324, 0.13751514785463023, 0.2008679529868963, 0.2780985129162145, 0.36954223575935397, 0.15172123303187565, 0.9955597154086794, 0.995189291668484, 0.0028352971272606383, 0.5450074028495064, 0.15336991184036583, 0.21847791312485662, 0.08311659738445631, 0.3706641392063858, 0.6233367618486446, 0.00019406499434889308, 0.005627884836117899, 0.5993168360289778, 0.09245929569919703, 0.13643144482153277, 0.17186435962770064, 0.000580368969939123, 0.665296295873548, 0.16540515643265005, 0.16869391392897176, 0.18366880086010395, 0.13131263693676398, 0.5478396991172066, 0.13722381673456044, 0.9956517654083121, 0.9971637863655765, 0.9987819567553906, 0.21643032367384518, 0.18221474243588454, 0.30324397489329824, 0.29801100364513955, 0.11131213185216673, 0.12506694906044363, 0.4393899941532897, 0.324002360906078, 0.88111911343485, 0.07948489252107559, 0.03101849464237096, 0.008723951618166833, 0.996742094127178, 0.9972659624145623, 0.9961700358965366, 0.9986519982557012, 0.9862067274301192, 0.013215500535076974, 0.1380217030265567, 0.5940381455261406, 0.14092742309027367, 0.127125252787618, 0.512506225939977, 0.1212024527629453, 0.2433853095927294, 0.12279560937155834, 0.9945506188790673, 0.5363581851043521, 0.221256313906393, 0.1359048070558154, 0.10658663295304877, 0.9955123706202686, 0.1724206833096539, 0.2528588422618898, 0.17018629000542512, 0.4044251880654085, 0.4314694804391095, 0.23944696382127303, 0.157616545117304, 0.17156491194184417, 0.9972501727978044, 0.4205367297833829, 0.2898293678236828, 0.1378440632193804, 0.15158882120098685, 0.9990458808855305, 0.40991709808318394, 0.5515784204331456, 0.03848602399103005, 0.05851110676384336, 0.8844504978940381, 0.055967145600198, 0.8599887890732645, 0.13952379784774974, 0.43282168836497076, 0.47267886765068057, 0.030158093832153073, 0.06425644112981359, 0.997769313484974, 0.3910404156828725, 0.5443775235648177, 0.006466022621527813, 0.05804025067419013, 0.9641857871486541, 0.016143477628865078, 0.019681774095465645, 0.9990517366707679, 0.9973809976212619, 0.15412231982040941, 0.738050545618862, 0.08496884432754966, 0.022637684802595346, 0.0037441515455042406, 0.9940722353313758, 0.9990784989842747, 0.9938739789976196, 0.00686231859452191, 0.9920952025223104, 0.9318640184217046, 0.06799007859729175, 0.9978988352865145, 0.999001461971411, 0.9990832256602726, 0.7967403674518324, 0.202739920790852, 0.9960377519648514, 0.1028060884781477, 0.7443223684159471, 0.11726810704082292, 0.035526262990919544, 0.0328819311037882, 0.7397387303094263, 0.15498489819619918, 0.07246591185930394, 0.9977748374254694, 0.19489202661484326, 0.06757562731871448, 0.7374557589998842, 0.002188826531509576, 0.0065664795945287275, 0.8400716227933752, 0.15117495244292803, 0.9939997418070742, 0.4022833961832392, 0.4264843269411412, 0.09474892702386167, 0.07648407362167146, 0.6628124506184991, 0.25228155559873666, 0.0538965141506392, 0.030961827278026776, 0.32038005507380823, 0.5012245716715396, 0.1052235208180252, 0.07319897100384362, 0.9985808839214959, 0.9805538005255169, 0.016549431232498173, 0.0020686789040622717, 0.997230907041775, 0.03107814576174737, 0.7361635777313909, 0.232600497185578, 0.9983098638916597, 8.155313518911415e-05, 0.09761910282136964, 0.7436014866543428, 0.15870240107801611, 0.9977654304182115, 0.9984457247319285, 0.9995295944935322, 0.7695866556947254, 0.23006161929498403, 0.20566546864370322, 0.33791400300994623, 0.2608200937269371, 0.1956150702952028, 0.9981816125909532, 0.994071610192364, 0.9921857825010796, 0.9970435987945468, 0.9976975282967828, 0.0766120201527331, 0.9234484571981223, 0.796274443296463, 0.05266915377765987, 0.09217101911090478, 0.058906290409224855, 0.7414903771852106, 0.03672625267014707, 0.10046951879879314, 0.12125995493677869, 0.01908510794627683, 0.8287563541519606, 0.12376403334858309, 0.027760157012766302, 0.9980128877769106, 0.19989893571463208, 0.2625178794324686, 0.18737514697106475, 0.3500238392432915, 0.01951310490524348, 0.9789074294130479, 0.8969053918917427, 0.018327568672117347, 0.08476500510854273, 0.9858444042598535, 0.013504717866573335, 0.2704747261620626, 0.3012472997972673, 0.3239218277389971, 0.10439117084861316, 0.6380580126463234, 0.016572935393411, 0.13702988044795922, 0.20837434622691145, 0.140117765209019, 0.30338364075227653, 0.2859713453681148, 0.2704027047893349, 0.24573792623189256, 0.6029520361358819, 0.03086145317700998, 0.12041735234954828, 0.8703796223700323, 0.032750480678136185, 0.05161760541662768, 0.04520990267525321, 0.9981367717408416, 0.9975945827805565, 0.2081747726923484, 0.30402806559531614, 0.2960051027532175, 0.19156583207186353, 0.9976403898786999, 0.3206638561791661, 0.31310656090960426, 0.1856749268814757, 0.18059329730366688, 0.2743895484166431, 0.5095182711456903, 0.1289790829070283, 0.08710086884025926, 0.01814411470009289, 0.053806684972689256, 0.9122110080253597, 0.01626713731732466, 0.998098704212668, 0.20314134129915115, 0.5747187833565962, 0.1597983520014583, 0.06231518746002815, 0.997671143826598, 0.5035343914699802, 0.3457840337649589, 0.10549678877889129, 0.04512808225438502, 0.9980784852923771, 0.05914829260872252, 0.9370334776434462, 0.027129782694810756, 0.13739922203500932, 0.08138934808443227, 0.7543829897718345, 0.025609801517697293, 0.9738463998176997, 0.027915595816443387, 0.8405132122187318, 0.0761334431357547, 0.055577413489100926, 0.13626975644126016, 0.0036500827618194684, 0.1070690943467044, 0.7519170489348105, 0.032042583742737496, 0.08858831975933308, 0.10649446949792168, 0.7727917255601396, 0.27731627508857065, 0.0023245287098790503, 0.6666748339933115, 0.05369661319820606, 0.2861518362023016, 0.006945432917531593, 0.686556043897998, 0.02014175546084162, 0.9958713934404047, 0.0035644871523600485, 0.0035644871523600485, 0.9909274283560934, 0.9962981729535325, 0.9987601026313123, 0.9429000620213636, 0.056820583612430094, 0.0021538608157902392, 0.9972375577108807, 0.013239494487842434, 0.7653003444168051, 0.1444831789760196, 0.07655881595143668, 0.5852095484740916, 0.3177286880700618, 0.062429119221433876, 0.03451365940697157, 0.996574737693075, 0.2827014433086354, 0.1957825825044583, 0.30665433069196474, 0.21500226459647107, 0.22192001428688207, 0.004662185174094161, 0.3156299362861747, 0.45782658409604665, 0.3671251140501048, 0.35908209035006716, 0.16254691445398634, 0.11117534372471372, 0.9982289388938513, 0.9601056939229978, 0.03963739103351826, 0.8660679293197456, 0.098505473942899, 0.009753017222069208, 0.02633314649958686, 0.18277302185752245, 0.06646291703909907, 0.7514002009698144, 0.9965084813654131, 0.9973244134678435, 0.014899586593144233, 0.9255623191661198, 0.05959834637257693, 0.3444252471655051, 0.3109263532631067, 0.11453319006770735, 0.2301279648013358, 0.018181197525339726, 0.01613581280373901, 0.6552049058194304, 0.31044394774517586, 0.2930629270947701, 0.2615061726113779, 0.2511967946526601, 0.19424376763681675, 0.3688468743379458, 0.25249415913932044, 0.21441964307862926, 0.1643215956303514, 0.0010094154095871496, 0.9983118400816909, 0.0040605873212517735, 0.8958670777511726, 0.09999196278582492, 0.9990605606558549, 0.04390093710684633, 0.6206967699563479, 0.2553488963555519, 0.08007399389900435, 0.9944084681686184], \"Term\": [\"'d\", \"'d\", \"'d\", \"'d\", \"'ll\", \"'ll\", \"'ll\", \"'ll\", \"'ve\", \"'ve\", \"'ve\", \"'ve\", \"1000\", \"1000\", \"1000\", \"250s\", \"3015\", \"44\", \"4:30\", \"6/1\", \"61\", \"61\", \"61\", \"61\", \"62\", \"62\", \"62\", \"63\", \"63\", \"able\", \"able\", \"able\", \"able\", \"actually\", \"actually\", \"actually\", \"actually\", \"adelaide\", \"adelaide\", \"african\", \"african\", \"aga\", \"aga\", \"aggressive\", \"aggressive\", \"aggressive\", \"aggressive\", \"agnieszka\", \"agnieszka\", \"agreement\", \"also\", \"also\", \"also\", \"also\", \"ana\", \"ana\", \"ana\", \"andrea\", \"appraise\", \"appreciate\", \"appreciate\", \"appreciate\", \"appreciate\", \"army\", \"around\", \"around\", \"around\", \"around\", \"arrive\", \"arrive\", \"arrive\", \"arrive\", \"arrogant\", \"art\", \"art\", \"artist\", \"ash\", \"away\", \"away\", \"away\", \"away\", \"awfully\", \"backhand\", \"backhand\", \"backhand\", \"backhand\", \"ball\", \"ball\", \"ball\", \"ball\", \"bally\", \"barcelona\", \"bartoli\", \"battlefield\", \"bed\", \"bed\", \"bed\", \"bed\", \"bencic\", \"bercy\", \"bercy\", \"bernie\", \"boris\", \"boris\", \"boris\", \"box\", \"box\", \"box\", \"box\", \"brad\", \"break\", \"break\", \"break\", \"break\", \"breaker\", \"breaker\", \"breaker\", \"breeze\", \"breeze\", \"british\", \"british\", \"british\", \"buenos\", \"canada\", \"canada\", \"canada\", \"canada\", \"canadian\", \"canadian\", \"canadian\", \"caroline\", \"caroline\", \"caroline\", \"central\", \"central\", \"centre\", \"centre\", \"centre\", \"centre\", \"certainly\", \"certainly\", \"certainly\", \"certainly\", \"chalk\", \"chalk\", \"chance\", \"chance\", \"chance\", \"chance\", \"chicago\", \"china\", \"china\", \"china\", \"chinese\", \"chinese\", \"chrissie\", \"cibulkova\", \"classy\", \"clay\", \"clay\", \"clay\", \"clay\", \"clearly\", \"clearly\", \"clearly\", \"clearly\", \"clijsters\", \"cloud\", \"cloud\", \"cloud\", \"coach\", \"coach\", \"coach\", \"coach\", \"college\", \"college\", \"college\", \"complicate\", \"complicate\", \"complicate\", \"complicate\", \"complicated\", \"compose\", \"compose\", \"compose\", \"compose\", \"compulsory\", \"condition\", \"condition\", \"condition\", \"condition\", \"confrontation\", \"contrary\", \"contrary\", \"cool\", \"cool\", \"cool\", \"cool\", \"council\", \"council\", \"council\", \"council\", \"country\", \"country\", \"country\", \"country\", \"couple\", \"couple\", \"couple\", \"couple\", \"course\", \"course\", \"course\", \"course\", \"cricket\", \"crowd\", \"crowd\", \"crowd\", \"crowd\", \"dance\", \"dance\", \"daniela\", \"decent\", \"decent\", \"decent\", \"decent\", \"dedication\", \"dedication\", \"defeat\", \"defeat\", \"defeat\", \"defeat\", \"definitely\", \"definitely\", \"definitely\", \"definitely\", \"dementieva\", \"difficult\", \"difficult\", \"difficult\", \"difficult\", \"djoko\", \"dog\", \"dog\", \"dog\", \"dolphin\", \"dominic\", \"double\", \"double\", \"double\", \"double\", \"east\", \"elena\", \"embrace\", \"embrace\", \"engraver\", \"enjoy\", \"enjoy\", \"enjoy\", \"enjoy\", \"eugenie\", \"eugenie\", \"everyone\", \"everyone\", \"everyone\", \"everyone\", \"experience\", \"experience\", \"experience\", \"experience\", \"extremely\", \"extremely\", \"extremely\", \"extremely\", \"fan\", \"fan\", \"fan\", \"fan\", \"fed\", \"fed\", \"fed\", \"feed\", \"feed\", \"feed\", \"feed\", \"felt\", \"felt\", \"felt\", \"felt\", \"final\", \"final\", \"final\", \"final\", \"five-setter\", \"flavia\", \"focus\", \"focus\", \"focus\", \"focus\", \"forehand\", \"forehand\", \"forehand\", \"forehand\", \"fun\", \"fun\", \"fun\", \"fun\", \"garcialopez\", \"garros\", \"garros\", \"garros\", \"genie\", \"genie\", \"get\", \"get\", \"get\", \"get\", \"girl\", \"girl\", \"girl\", \"girl\", \"gon\", \"gon\", \"gon\", \"gon\", \"grand\", \"grand\", \"grand\", \"grand\", \"grandmother\", \"grandmother\", \"grass\", \"grass\", \"grass\", \"grass\", \"greek\", \"groin\", \"grow\", \"grow\", \"grow\", \"grow\", \"guess\", \"guess\", \"guess\", \"guess\", \"guy\", \"guy\", \"guy\", \"guy\", \"handful\", \"handful\", \"harrison\", \"harrison\", \"he\", \"he\", \"he\", \"he\", \"heat\", \"heat\", \"heat\", \"heat\", \"help\", \"help\", \"help\", \"help\", \"hip\", \"hip\", \"hip\", \"hit\", \"hit\", \"hit\", \"hit\", \"hobart\", \"husband\", \"ideally\", \"ideally\", \"important\", \"important\", \"important\", \"important\", \"istanbul\", \"istanbul\", \"ivan\", \"ivan\", \"ivan\", \"jamaica\", \"james\", \"james\", \"james\", \"jamie\", \"jamie\", \"javier\", \"jimmy\", \"jimmy\", \"jimmy\", \"judy\", \"junior\", \"junior\", \"junior\", \"junior\", \"justine\", \"kate\", \"kei\", \"kei\", \"kei\", \"kiki\", \"kiki\", \"kim\", \"kim\", \"kim\", \"kim\", \"kind\", \"kind\", \"kind\", \"kind\", \"kiss\", \"kiss\", \"kuala\", \"kuznetsova\", \"latvian\", \"laurent\", \"learn\", \"learn\", \"learn\", \"learn\", \"li\", \"li\", \"li\", \"life\", \"life\", \"life\", \"life\", \"lineup\", \"lleyton\", \"lleyton\", \"lleyton\", \"load\", \"load\", \"load\", \"looser\", \"lose\", \"lose\", \"lose\", \"lose\", \"love\", \"love\", \"love\", \"love\", \"love15\", \"lta\", \"lta\", \"lta\", \"lumpur\", \"madison\", \"madison\", \"madrid\", \"madrid\", \"madrid\", \"madrid\", \"mallorca\", \"manage\", \"manage\", \"manage\", \"manage\", \"mardy\", \"mardy\", \"mardy\", \"maria\", \"maria\", \"maria\", \"marian\", \"martina\", \"martina\", \"master\", \"master\", \"master\", \"master\", \"mate\", \"mean\", \"mean\", \"mean\", \"mean\", \"mirka\", \"mistake\", \"mistake\", \"mistake\", \"mistake\", \"mobile\", \"mom\", \"mom\", \"mom\", \"moment\", \"moment\", \"moment\", \"moment\", \"montecarlo\", \"montecarlo\", \"montecarlo\", \"montenegro\", \"museum\", \"na\", \"na\", \"na\", \"na\", \"nadal\", \"nadal\", \"nadal\", \"necessarily\", \"necessarily\", \"necessarily\", \"necessarily\", \"neighborhood\", \"never\", \"never\", \"never\", \"never\", \"new\", \"new\", \"new\", \"new\", \"niggle\", \"niggles\", \"niggles\", \"night\", \"night\", \"night\", \"night\", \"novak\", \"novak\", \"novak\", \"novak\", \"obviously\", \"obviously\", \"obviously\", \"obviously\", \"of\", \"of\", \"of\", \"of\", \"oh\", \"oh\", \"oh\", \"oh\", \"opt\", \"paint\", \"pascal\", \"people\", \"people\", \"people\", \"people\", \"person\", \"person\", \"person\", \"person\", \"pete\", \"pete\", \"pete\", \"pete\", \"physiotherapy\", \"plaque\", \"playstation\", \"poland\", \"polish\", \"polish\", \"positive\", \"positive\", \"positive\", \"positive\", \"pretty\", \"pretty\", \"pretty\", \"pretty\", \"princess\", \"probably\", \"probably\", \"probably\", \"probably\", \"prostejov\", \"proud\", \"proud\", \"proud\", \"proud\", \"put\", \"put\", \"put\", \"put\", \"qubec\", \"quite\", \"quite\", \"quite\", \"quite\", \"radwanska\", \"rafa\", \"rafa\", \"rafa\", \"rafael\", \"rafael\", \"rafael\", \"repeat\", \"repeat\", \"return\", \"return\", \"return\", \"return\", \"rochey\", \"roger\", \"roger\", \"roger\", \"roger\", \"roland\", \"roland\", \"roland\", \"romania\", \"romanian\", \"rome\", \"rome\", \"rome\", \"rome\", \"rosol\", \"rosol\", \"royal\", \"royalty\", \"russia\", \"russia\", \"russian\", \"russian\", \"ryan\", \"sabine\", \"safina\", \"school\", \"school\", \"schwartzman\", \"season\", \"season\", \"season\", \"season\", \"semifinal\", \"semifinal\", \"semifinal\", \"semifinal\", \"sensation\", \"serbia\", \"serbia\", \"serbia\", \"serena\", \"serena\", \"serena\", \"serena\", \"sergi\", \"serve\", \"serve\", \"serve\", \"serve\", \"service\", \"service\", \"service\", \"service\", \"set\", \"set\", \"set\", \"set\", \"severin\", \"shade\", \"shade\", \"shade\", \"shank\", \"sharapova\", \"sharapova\", \"sharapova\", \"shave\", \"she\", \"she\", \"she\", \"she\", \"shenzhen\", \"shuai\", \"singapore\", \"sister\", \"sister\", \"slam\", \"slam\", \"slam\", \"slam\", \"sloppy\", \"slovak\", \"slovenia\", \"slump\", \"sochi\", \"solution\", \"solution\", \"sore\", \"sore\", \"sore\", \"sore\", \"sort\", \"sort\", \"sort\", \"sort\", \"spanish\", \"spanish\", \"spanish\", \"spanish\", \"spidercam\", \"sport\", \"sport\", \"sport\", \"sport\", \"stamen\", \"stamen\", \"standpoint\", \"standpoint\", \"standpoint\", \"steffi\", \"steffi\", \"still\", \"still\", \"still\", \"still\", \"stuff\", \"stuff\", \"stuff\", \"stuff\", \"support\", \"support\", \"support\", \"support\", \"surface\", \"surface\", \"surface\", \"surface\", \"surgery\", \"surgery\", \"surgery\", \"surgery\", \"svetlana\", \"tea\", \"tennis\", \"tennis\", \"tennis\", \"tennis\", \"thiem\", \"thing\", \"thing\", \"thing\", \"thing\", \"third\", \"third\", \"third\", \"third\", \"through\", \"through\", \"through\", \"through\", \"tim\", \"tomorrow\", \"tomorrow\", \"tomorrow\", \"tomorrow\", \"toni\", \"tonight\", \"tonight\", \"tonight\", \"tonight\", \"tony\", \"townsend\", \"townsend\", \"tradition\", \"tradition\", \"tradition\", \"tradition\", \"translation\", \"translation\", \"true\", \"true\", \"true\", \"true\", \"tweet\", \"tweet\", \"tweet\", \"tweet\", \"twitter\", \"twitter\", \"twitter\", \"twitter\", \"uhm\", \"uhm\", \"uhm\", \"uhm\", \"um\", \"um\", \"um\", \"um\", \"underwear\", \"valuable\", \"valuable\", \"valuable\", \"vampire\", \"venezuela\", \"venus\", \"venus\", \"vera\", \"vera\", \"victory\", \"victory\", \"victory\", \"victory\", \"volley\", \"volley\", \"volley\", \"volley\", \"war\", \"watch\", \"watch\", \"watch\", \"watch\", \"wear\", \"wear\", \"wear\", \"wear\", \"week\", \"week\", \"week\", \"week\", \"wellfocused\", \"whatnot\", \"whatnot\", \"whereas\", \"whereas\", \"whereas\", \"whereas\", \"white\", \"white\", \"white\", \"wifi\", \"william\", \"williams\", \"williams\", \"williams\", \"wimbledon\", \"wimbledon\", \"wimbledon\", \"wimbledon\", \"woman\", \"woman\", \"woman\", \"woman\", \"work\", \"work\", \"work\", \"work\", \"would\", \"would\", \"would\", \"would\", \"wozniacki\", \"wozniacki\", \"wta\", \"wta\", \"wta\", \"wuhan\", \"yes\", \"yes\", \"yes\", \"yes\", \"ze\"]}, \"R\": 30, \"lambda.step\": 0.01, \"plot.opts\": {\"xlab\": \"PC1\", \"ylab\": \"PC2\"}, \"topic.order\": [4, 3, 1, 2]};\n",
       "\n",
       "function LDAvis_load_lib(url, callback){\n",
       "  var s = document.createElement('script');\n",
       "  s.src = url;\n",
       "  s.async = true;\n",
       "  s.onreadystatechange = s.onload = callback;\n",
       "  s.onerror = function(){console.warn(\"failed to load library \" + url);};\n",
       "  document.getElementsByTagName(\"head\")[0].appendChild(s);\n",
       "}\n",
       "\n",
       "if(typeof(LDAvis) !== \"undefined\"){\n",
       "   // already loaded: just create the visualization\n",
       "   !function(LDAvis){\n",
       "       new LDAvis(\"#\" + \"ldavis_el71811404681107886404899252988\", ldavis_el71811404681107886404899252988_data);\n",
       "   }(LDAvis);\n",
       "}else if(typeof define === \"function\" && define.amd){\n",
       "   // require.js is available: use it to load d3/LDAvis\n",
       "   require.config({paths: {d3: \"https://d3js.org/d3.v5\"}});\n",
       "   require([\"d3\"], function(d3){\n",
       "      window.d3 = d3;\n",
       "      LDAvis_load_lib(\"https://cdn.jsdelivr.net/gh/bmabey/pyLDAvis@3.4.0/pyLDAvis/js/ldavis.v3.0.0.js\", function(){\n",
       "        new LDAvis(\"#\" + \"ldavis_el71811404681107886404899252988\", ldavis_el71811404681107886404899252988_data);\n",
       "      });\n",
       "    });\n",
       "}else{\n",
       "    // require.js not available: dynamically load d3 & LDAvis\n",
       "    LDAvis_load_lib(\"https://d3js.org/d3.v5.js\", function(){\n",
       "         LDAvis_load_lib(\"https://cdn.jsdelivr.net/gh/bmabey/pyLDAvis@3.4.0/pyLDAvis/js/ldavis.v3.0.0.js\", function(){\n",
       "                 new LDAvis(\"#\" + \"ldavis_el71811404681107886404899252988\", ldavis_el71811404681107886404899252988_data);\n",
       "            })\n",
       "         });\n",
       "}\n",
       "</script>"
      ],
      "text/plain": [
       "PreparedData(topic_coordinates=              x         y  topics  cluster       Freq\n",
       "topic                                                \n",
       "3      0.055025  0.058971       1        1  31.079171\n",
       "2      0.100960 -0.041049       2        1  29.199852\n",
       "0     -0.074875 -0.088888       3        1  23.313460\n",
       "1     -0.081110  0.070966       4        1  16.407517, topic_info=          Term          Freq         Total Category  logprob  loglift\n",
       "550        she  12261.000000  12261.000000  Default  30.0000  30.0000\n",
       "583     serena   6852.000000   6852.000000  Default  29.0000  29.0000\n",
       "1873    roland   4521.000000   4521.000000  Default  28.0000  28.0000\n",
       "1789     venus   3731.000000   3731.000000  Default  27.0000  27.0000\n",
       "1605    garros   4306.000000   4306.000000  Default  26.0000  26.0000\n",
       "...        ...           ...           ...      ...      ...      ...\n",
       "1047  everyone   1355.367205   5276.154166   Topic4  -6.5559   0.4483\n",
       "26     support   1320.079604   4881.607974   Topic4  -6.5823   0.4996\n",
       "186      thing   1385.937790   7674.703440   Topic4  -6.5336   0.0959\n",
       "101     tennis   1361.404318   7104.607253   Topic4  -6.5515   0.1552\n",
       "488     moment   1359.089096   7016.845172   Topic4  -6.5532   0.1659\n",
       "\n",
       "[387 rows x 6 columns], token_table=       Topic      Freq Term\n",
       "term                       \n",
       "207        1  0.604768   'd\n",
       "207        2  0.063932   'd\n",
       "207        3  0.183112   'd\n",
       "207        4  0.148189   'd\n",
       "213        1  0.478960  'll\n",
       "...      ...       ...  ...\n",
       "651        1  0.043901  yes\n",
       "651        2  0.620697  yes\n",
       "651        3  0.255349  yes\n",
       "651        4  0.080074  yes\n",
       "10725      2  0.994408   ze\n",
       "\n",
       "[865 rows x 3 columns], R=30, lambda_step=0.01, plot_opts={'xlab': 'PC1', 'ylab': 'PC2'}, topic_order=[4, 3, 1, 2])"
      ]
     },
     "execution_count": 44,
     "metadata": {},
     "output_type": "execute_result"
    }
   ],
   "source": [
    "vis"
   ]
  },
  {
   "cell_type": "code",
   "execution_count": 66,
   "metadata": {},
   "outputs": [],
   "source": [
    "win_corpus = Sparse2Corpus(term_doc_idf[win_array], documents_columns=False)\n",
    "loss_corpus = Sparse2Corpus(term_doc_idf[~win_array], documents_columns=False)"
   ]
  },
  {
   "cell_type": "code",
   "execution_count": 67,
   "metadata": {},
   "outputs": [
    {
     "data": {
      "text/plain": [
       "array([237.09422, 175.35843, 267.50708, 289.1043 ], dtype=float32)"
      ]
     },
     "execution_count": 67,
     "metadata": {},
     "output_type": "execute_result"
    }
   ],
   "source": [
    "win_topics = lda.inference(win_corpus)[0]\n",
    "loss_topics = lda.inference(loss_corpus)[0]\n",
    "win_topics.mean(axis=0)"
   ]
  },
  {
   "cell_type": "code",
   "execution_count": 68,
   "metadata": {},
   "outputs": [
    {
     "data": {
      "text/plain": [
       "array([150.12149 ,  87.438965, 251.24158 , 257.19962 ], dtype=float32)"
      ]
     },
     "execution_count": 68,
     "metadata": {},
     "output_type": "execute_result"
    }
   ],
   "source": [
    "loss_topics.mean(axis=0)"
   ]
  },
  {
   "cell_type": "code",
   "execution_count": 99,
   "metadata": {},
   "outputs": [
    {
     "data": {
      "text/plain": [
       "array([ 80.918236, 135.12613 , 339.98703 , 403.82675 ], dtype=float32)"
      ]
     },
     "execution_count": 99,
     "metadata": {},
     "output_type": "execute_result"
    }
   ],
   "source": [
    "male_corpus = Sparse2Corpus(term_doc_idf[male_array], documents_columns=False)\n",
    "female_corpus = Sparse2Corpus(term_doc_idf[~male_array], documents_columns=False)\n",
    "male_topics = lda.inference(male_corpus)[0]\n",
    "female_topics = lda.inference(female_corpus)[0]\n",
    "male_topics.mean(axis=0)"
   ]
  },
  {
   "cell_type": "code",
   "execution_count": 100,
   "metadata": {},
   "outputs": [
    {
     "data": {
      "text/plain": [
       "array([373.80157, 162.75461, 162.71953, 118.74742], dtype=float32)"
      ]
     },
     "execution_count": 100,
     "metadata": {},
     "output_type": "execute_result"
    }
   ],
   "source": [
    "female_topics.mean(axis=0)"
   ]
  },
  {
   "cell_type": "code",
   "execution_count": 106,
   "metadata": {},
   "outputs": [
    {
     "data": {
      "text/plain": [
       "'0.005*\"guy\" + 0.004*\"sort\" + 0.003*\"obviously\" + 0.003*\"he\" + 0.003*\"\\'ve\" + 0.002*\"pretty\" + 0.002*\"get\" + 0.002*\"hit\" + 0.002*\"probably\" + 0.002*\"mean\"'"
      ]
     },
     "execution_count": 106,
     "metadata": {},
     "output_type": "execute_result"
    }
   ],
   "source": [
    "'0.005*\"guy\" + 0.004*\"sort\" + 0.003*\"obviously\" + 0.003*\"he\" + 0.003*\"\\'ve\" + 0.002*\"pretty\" + 0.002*\"get\" + 0.002*\"hit\" + 0.002*\"probably\" + 0.002*\"mean\"'"
   ]
  },
  {
   "cell_type": "code",
   "execution_count": 111,
   "metadata": {},
   "outputs": [
    {
     "name": "stderr",
     "output_type": "stream",
     "text": [
      "/tmp/ipykernel_7181/2782339435.py:13: FutureWarning: In future versions `DataFrame.to_latex` is expected to utilise the base implementation of `Styler.to_latex` for formatting and rendering. The arguments signature may therefore change. It is recommended instead to use `DataFrame.style.to_latex` which also contains additional functionality.\n",
      "  topics.to_latex(\"out2.tex\", index=False)\n"
     ]
    },
    {
     "data": {
      "text/html": [
       "<div>\n",
       "<style scoped>\n",
       "    .dataframe tbody tr th:only-of-type {\n",
       "        vertical-align: middle;\n",
       "    }\n",
       "\n",
       "    .dataframe tbody tr th {\n",
       "        vertical-align: top;\n",
       "    }\n",
       "\n",
       "    .dataframe thead th {\n",
       "        text-align: right;\n",
       "    }\n",
       "</style>\n",
       "<table border=\"1\" class=\"dataframe\">\n",
       "  <thead>\n",
       "    <tr style=\"text-align: right;\">\n",
       "      <th></th>\n",
       "      <th>Topic</th>\n",
       "      <th>Word List</th>\n",
       "    </tr>\n",
       "  </thead>\n",
       "  <tbody>\n",
       "    <tr>\n",
       "      <th>0</th>\n",
       "      <td>Women's Tennis</td>\n",
       "      <td>she(0.007), serena(0.004), girl(0.003), venus(...</td>\n",
       "    </tr>\n",
       "    <tr>\n",
       "      <th>1</th>\n",
       "      <td>Personal Background</td>\n",
       "      <td>definitely(0.002), people(0.002), sport(0.002)...</td>\n",
       "    </tr>\n",
       "    <tr>\n",
       "      <th>2</th>\n",
       "      <td>Tournament / Surface</td>\n",
       "      <td>clay(0.003), course(0.003), difficult(0.003), ...</td>\n",
       "    </tr>\n",
       "    <tr>\n",
       "      <th>3</th>\n",
       "      <td>Men's Tennis</td>\n",
       "      <td>guy(0.005), sort(0.004), obviously(0.003), he(...</td>\n",
       "    </tr>\n",
       "  </tbody>\n",
       "</table>\n",
       "</div>"
      ],
      "text/plain": [
       "                  Topic                                          Word List\n",
       "0        Women's Tennis  she(0.007), serena(0.004), girl(0.003), venus(...\n",
       "1   Personal Background  definitely(0.002), people(0.002), sport(0.002)...\n",
       "2  Tournament / Surface  clay(0.003), course(0.003), difficult(0.003), ...\n",
       "3          Men's Tennis  guy(0.005), sort(0.004), obviously(0.003), he(..."
      ]
     },
     "execution_count": 111,
     "metadata": {},
     "output_type": "execute_result"
    }
   ],
   "source": [
    "topic1 = \"she(0.007), serena(0.004), girl(0.003), venus(0.003), coach(0.003), li(0.002), woman(0.002), uhm(0.002), college(0.002)\" # Female\n",
    "topic2 = \"definitely(0.002), people(0.002), sport(0.002), 've(0.002), wimbledon(0.002), she(0.002), love(0.002), learn(0.002), grass(0.002), coach(0.002)\"\n",
    "topic3 = \"clay(0.003), course(0.003), difficult(0.003), final(0.003), grass(0.003), he(0.003), season(0.003), important(0.003), roland(0.003), surface(0.002)\"\n",
    "topic4 = \"guy(0.005), sort(0.004), obviously(0.003), he(0.003), 've(0.003), pretty(0.002), get(0.002), hit(0.002), probably(0.002), mean(0.002)\"\n",
    "\n",
    "records = []\n",
    "for name, words in zip([\"Women's Tennis\", \"Personal Background\", \"Tournament / Surface\", \"Men's Tennis\"], [topic1, topic2, topic3, topic4]):\n",
    "    records.append({\"Topic\": name, \"Word List\": words})\n",
    "\n",
    "topics = pd.DataFrame.from_records(records)\n",
    "if EXPORT_TABLES:\n",
    "    with pd.option_context(\"max_colwidth\", 1000):\n",
    "        topics.to_latex(\"out2.tex\", index=False)\n",
    "topics"
   ]
  }
 ],
 "metadata": {
  "kernelspec": {
   "display_name": "Python 3 (ipykernel)",
   "language": "python",
   "name": "python3"
  },
  "language_info": {
   "codemirror_mode": {
    "name": "ipython",
    "version": 3
   },
   "file_extension": ".py",
   "mimetype": "text/x-python",
   "name": "python",
   "nbconvert_exporter": "python",
   "pygments_lexer": "ipython3",
   "version": "3.8.16"
  }
 },
 "nbformat": 4,
 "nbformat_minor": 4
}
